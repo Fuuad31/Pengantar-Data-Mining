{
  "metadata": {
    "colab": {
      "provenance": [],
      "toc_visible": true
    },
    "grader_version": "2",
    "kernelspec": {
      "name": "python3",
      "display_name": "Python 3",
      "language": "python"
    },
    "language_info": {
      "name": "python",
      "version": "3.10.13",
      "mimetype": "text/x-python",
      "codemirror_mode": {
        "name": "ipython",
        "version": 3
      },
      "pygments_lexer": "ipython3",
      "nbconvert_exporter": "python",
      "file_extension": ".py"
    },
    "kaggle": {
      "accelerator": "none",
      "dataSources": [
        {
          "sourceId": 8422554,
          "sourceType": "datasetVersion",
          "datasetId": 5014482
        }
      ],
      "dockerImageVersionId": 30698,
      "isInternetEnabled": true,
      "language": "python",
      "sourceType": "notebook",
      "isGpuEnabled": false
    }
  },
  "nbformat_minor": 5,
  "nbformat": 4,
  "cells": [
    {
      "cell_type": "markdown",
      "source": [
        "# NOMOR 1: AB Testing\n",
        "Welcome! In this assignment you will be presented with two cases that require an AB test to choose an action to improve an existing product. You will perform AB test for a continuous and a proportion metric. For this you will define functions that estimate the relevant information out of the samples, compute the relevant statistic given each case and take a decision on whether to (or not) reject the null hypothesis.\n",
        "\n",
        "Let's get started!\n",
        "\n",
        "# Outline\n",
        "- [ 1 - Introduction](#1)\n",
        "- [ 2 - Exploring and handling the data](#2)\n",
        "- [ 3 - Theory](#3)\n",
        "- [ 4 - Step by step computation](#4)\n",
        "  - [ Exercise 1](#ex01)\n",
        "  - [ Exercise 2](#ex02)\n",
        "  - [ Exercise 3](#ex03)\n",
        "  - [ Exercise 4](#ex04)\n",
        "  - [ Exercise 5](#ex05)\n",
        "\n",
        "# Warning!!!\n",
        "You just need to run each code and only change the **`None` part** of the exercise.\n"
      ],
      "metadata": {
        "id": "751a404c"
      },
      "id": "751a404c"
    },
    {
      "cell_type": "code",
      "source": [
        "import math\n",
        "import numpy as np\n",
        "import pandas as pd\n",
        "from scipy import stats"
      ],
      "metadata": {
        "id": "a5759717",
        "tags": [
          "graded"
        ]
      },
      "execution_count": null,
      "outputs": [],
      "id": "a5759717"
    },
    {
      "cell_type": "markdown",
      "source": [
        "<a name=\"1\"></a>\n",
        "## 1 - Introduction\n",
        "\n",
        "Suppose you have a website that provides Data Mining content in a blog-like format. Recently you saw an article claiming that similar websites could improve their engagement by simply using a specific color palette for the background. Since this change seems pretty easy to implement you decide to run an AB test to see if this change does in fact drive your users to stay more time in your website.\n",
        "\n",
        "The metric you decide to evaluate is the `average session duration`, which measures how much time on average your users are spending on your website. This metric currently has a value of 30.87 minutes.\n",
        "\n",
        "Without further considerations you decide to run the test for 20 days by randomly splitting your users into two segments:\n",
        "- `control`: These users will keep seeing your original website.\n",
        "\n",
        "\n",
        "- `variation`: These users will see your website with the new background colors."
      ],
      "metadata": {
        "id": "ab8f62a7"
      },
      "id": "ab8f62a7"
    },
    {
      "cell_type": "markdown",
      "source": [
        "<a name=\"2\"></a>\n",
        "## 2 - Exploring and handling the data\n",
        "\n",
        "Run the next cell to load the data from the test:"
      ],
      "metadata": {
        "id": "gX1k7IpvEHLG"
      },
      "id": "gX1k7IpvEHLG"
    },
    {
      "cell_type": "code",
      "source": [
        "# Load the data from the test using pd.read_csv\n",
        "data = pd.read_csv(\"Data Nomor 1.csv\")\n",
        "\n",
        "# Print the first 10 rows\n",
        "data.head(10)"
      ],
      "metadata": {
        "id": "9ebfb03e",
        "tags": [],
        "outputId": "ae421dcf-9c1f-4aef-8329-61935ea147ad"
      },
      "execution_count": null,
      "outputs": [
        {
          "execution_count": 2,
          "output_type": "execute_result",
          "data": {
            "text/html": [
              "<div>\n",
              "<style scoped>\n",
              "    .dataframe tbody tr th:only-of-type {\n",
              "        vertical-align: middle;\n",
              "    }\n",
              "\n",
              "    .dataframe tbody tr th {\n",
              "        vertical-align: top;\n",
              "    }\n",
              "\n",
              "    .dataframe thead th {\n",
              "        text-align: right;\n",
              "    }\n",
              "</style>\n",
              "<table border=\"1\" class=\"dataframe\">\n",
              "  <thead>\n",
              "    <tr style=\"text-align: right;\">\n",
              "      <th></th>\n",
              "      <th>Unnamed: 0</th>\n",
              "      <th>user_id</th>\n",
              "      <th>user_type</th>\n",
              "      <th>session_duration</th>\n",
              "    </tr>\n",
              "  </thead>\n",
              "  <tbody>\n",
              "    <tr>\n",
              "      <th>0</th>\n",
              "      <td>0</td>\n",
              "      <td>QVG11G7WWU</td>\n",
              "      <td>control</td>\n",
              "      <td>13.450484</td>\n",
              "    </tr>\n",
              "    <tr>\n",
              "      <th>1</th>\n",
              "      <td>1</td>\n",
              "      <td>U1XK1H0902</td>\n",
              "      <td>variation</td>\n",
              "      <td>25.627093</td>\n",
              "    </tr>\n",
              "    <tr>\n",
              "      <th>2</th>\n",
              "      <td>2</td>\n",
              "      <td>OX21E1HF0T</td>\n",
              "      <td>variation</td>\n",
              "      <td>11.145770</td>\n",
              "    </tr>\n",
              "    <tr>\n",
              "      <th>3</th>\n",
              "      <td>3</td>\n",
              "      <td>C1UODTFLDI</td>\n",
              "      <td>variation</td>\n",
              "      <td>28.742150</td>\n",
              "    </tr>\n",
              "    <tr>\n",
              "      <th>4</th>\n",
              "      <td>4</td>\n",
              "      <td>WOSAMYWSBP</td>\n",
              "      <td>control</td>\n",
              "      <td>24.333361</td>\n",
              "    </tr>\n",
              "    <tr>\n",
              "      <th>5</th>\n",
              "      <td>5</td>\n",
              "      <td>EXVE2C6LJX</td>\n",
              "      <td>variation</td>\n",
              "      <td>24.882516</td>\n",
              "    </tr>\n",
              "    <tr>\n",
              "      <th>6</th>\n",
              "      <td>6</td>\n",
              "      <td>9UQ64WA0S4</td>\n",
              "      <td>control</td>\n",
              "      <td>31.589878</td>\n",
              "    </tr>\n",
              "    <tr>\n",
              "      <th>7</th>\n",
              "      <td>7</td>\n",
              "      <td>EQ6GA0KKF1</td>\n",
              "      <td>variation</td>\n",
              "      <td>23.154885</td>\n",
              "    </tr>\n",
              "    <tr>\n",
              "      <th>8</th>\n",
              "      <td>8</td>\n",
              "      <td>YWYW3YJDRR</td>\n",
              "      <td>control</td>\n",
              "      <td>39.267641</td>\n",
              "    </tr>\n",
              "    <tr>\n",
              "      <th>9</th>\n",
              "      <td>9</td>\n",
              "      <td>GPSGHXWZXZ</td>\n",
              "      <td>variation</td>\n",
              "      <td>32.899850</td>\n",
              "    </tr>\n",
              "  </tbody>\n",
              "</table>\n",
              "</div>"
            ],
            "text/plain": [
              "   Unnamed: 0     user_id  user_type  session_duration\n",
              "0           0  QVG11G7WWU    control         13.450484\n",
              "1           1  U1XK1H0902  variation         25.627093\n",
              "2           2  OX21E1HF0T  variation         11.145770\n",
              "3           3  C1UODTFLDI  variation         28.742150\n",
              "4           4  WOSAMYWSBP    control         24.333361\n",
              "5           5  EXVE2C6LJX  variation         24.882516\n",
              "6           6  9UQ64WA0S4    control         31.589878\n",
              "7           7  EQ6GA0KKF1  variation         23.154885\n",
              "8           8  YWYW3YJDRR    control         39.267641\n",
              "9           9  GPSGHXWZXZ  variation         32.899850"
            ]
          },
          "metadata": {}
        }
      ],
      "id": "9ebfb03e"
    },
    {
      "cell_type": "code",
      "source": [
        "print(f\"The dataset size is: {len(data)}\")"
      ],
      "metadata": {
        "id": "e8f146e1",
        "outputId": "fc890eee-56ff-44d2-d78a-819c4a8ba160"
      },
      "execution_count": null,
      "outputs": [
        {
          "name": "stdout",
          "output_type": "stream",
          "text": "The dataset size is: 4186\n"
        }
      ],
      "id": "e8f146e1"
    },
    {
      "cell_type": "markdown",
      "source": [
        "The data shows for every user the average session duration and the version of the website they interacted with. To separate both segments for easier computations you can slice the Pandas dataframe by running the following cell."
      ],
      "metadata": {
        "id": "2d257a0f"
      },
      "id": "2d257a0f"
    },
    {
      "cell_type": "code",
      "source": [
        "# Separate the data from the two groups (sd stands for session duration)\n",
        "control_sd_data = data[data[\"user_type\"]==\"control\"][\"session_duration\"]\n",
        "variation_sd_data = data[data[\"user_type\"]==\"variation\"][\"session_duration\"]\n",
        "\n",
        "print(f\"{len(control_sd_data)} users saw the original website with an average duration of {control_sd_data.mean():.2f} minutes\\n\")\n",
        "print(f\"{len(variation_sd_data)} users saw the new website with an average duration of {variation_sd_data.mean():.2f} minutes\")"
      ],
      "metadata": {
        "id": "9552f1a8",
        "tags": [],
        "outputId": "1c98b1d6-78a2-4e6c-b505-d25d27b8db6a"
      },
      "execution_count": null,
      "outputs": [
        {
          "name": "stdout",
          "output_type": "stream",
          "text": "2069 users saw the original website with an average duration of 32.92 minutes\n\n\n\n2117 users saw the new website with an average duration of 33.83 minutes\n"
        }
      ],
      "id": "9552f1a8"
    },
    {
      "cell_type": "markdown",
      "source": [
        "Notice that the split is not perfectly balanced. This is common in AB testing as there is randomness associated with the way the users are assigned to each group.\n",
        "\n",
        "At first glance it looks like the change to the background did in fact drive users to stay longer on your website. However you know better than driving conclusions at face value out of this data so you decide to perform a hypothesis test to know if there is a significant difference between the **means** of these two segments.\n",
        "\n",
        "<a name=\"3\"></a>\n",
        "## 3 - Theory\n",
        "Remember that your job is to measure if changing the website's background color leads to an increase of the time visitors spend on it. Rewriting this as hypothesis test, the **null hypothesis** is that the change did not affect the time a visitor spend. Let's name the variables:\n",
        "\n",
        "- $\\mu_c$ is the average time a user **in the control group** spend in the website. Recall that the **control group** is the group accessing the website without the change in the background color.\n",
        "- $\\mu_v$ is the average time a user **in the variation groups** spend in the website. Recall that the **variation group** is the groups accessing the website **with the updated background color**.\n",
        "\n",
        "Also, recall that your intention is to measure if the background color leads to an **increase** in the time a visitor spend in the website. So writing this experiment as a hypothesis test, the **null hypothesis** is then $H_0: \\mu_c = \\mu_v$ and the **alternative hypothesis** is $H_1: \\mu_v > \\mu_c$, or equivalently, $H_1: \\mu_v - \\mu_c > 0$.\n",
        "\n",
        "Therefore, the hypothesis you will test is:\n",
        "\n",
        "$$H_0: \\mu_v = \\mu_c \\quad \\text{vs.} \\quad H_1: \\mu_v - \\mu_c > 0$$\n",
        "\n",
        "As you know, this is a **right-tailed** test, as you are looking for an increase in the average time. As you saw above, you have more than 2000 users per group, this is a great amount of data so it is reasonable to rely in the Central Limit Theorem that the **average time** for each group follows a normal distribution. Remember that this result is for the group **average time** altogether and not that the time each user spend follows a normal distribution. You don't know the exact distribution for the amount of time a user spend in your website, however, the CLT assures that if we gather enough data, their average time will be very close to a normal distribution whose mean is the average time a user spend in the website. Let's then define two new quantities:\n",
        "\n",
        "- $\\overline{X}_c$ - the control group **sample mean**.\n",
        "- $\\overline{X}_v$ - the variation group **sample mean**.\n",
        "- $n_c$ - the control group **size**.\n",
        "- $n_v$ - the variation group **size**.\n",
        "\n",
        "So, by the Central Limit Theorem, you may suppose that\n",
        "\n",
        "- $$\\overline{X}_c \\sim N\\left(\\mu_c, \\left(\\frac{\\sigma_c}{\\sqrt{n_c}}\\right)^2\\right)$$\n",
        "- $$\\overline{X}_v \\sim N\\left(\\mu_v, \\left(\\frac{\\sigma_v}{\\sqrt{n_v}}\\right)^2\\right)$$\n",
        "\n",
        "Note that with our assumptions of normality, $\\overline{X}_v - \\overline{X}_c$ also follows a normal distribution. So, if $H_0$ is true, then $\\mu_c = \\mu_v$ and $\\mu_v - \\mu_c = 0$, therefore:\n",
        "\n",
        "$$\\overline{X}_c - \\overline{X}_v \\sim N\\left(\\mu_v - \\mu_c, \\left(\\dfrac{\\sigma_v}{\\sqrt{n_v}}\\right)^2 + \\left(\\dfrac{\\sigma_c}{\\sqrt{n_c}}\\right)^2\\right) = N\\left(0, \\left(\\dfrac{\\sigma_v}{\\sqrt{n_v}}\\right)^2 + \\left(\\dfrac{\\sigma_c}{\\sqrt{n_c}}\\right)^2\\right)$$\n",
        "\n",
        "Or, equivalently:\n",
        "\n",
        "$$\\frac{\\left( \\overline{X}_v - \\overline{X}_c \\right)}{\\sqrt{\\left(\\frac{\\sigma_v}{\\sqrt{n_v}}\\right)^2 + \\left(\\frac{\\sigma_c}{\\sqrt{n_c}}\\right)^2}} \\sim N(0, 1)$$\n",
        "\n",
        "However, remember that **you don't know the exact values for** $\\sigma_v$ and $\\sigma_c$, as they are the **population standard deviation** and you are working with a sample, so the best you can do is compute the **sample standard deviation**. So you must replace $\\sigma_c$ and $\\sigma_v$ by the sample standard deviation, respectively, $s_c$ and $s_v$. As you know that replacing the population standard deviation by the sample standard deviation changes the random variable from a Normal to a t-student:\n",
        "\n",
        "$$t = \\frac{\\left( \\overline{X}_v - \\overline{X}_c \\right)}{\\sqrt{\\left(\\frac{s_v}{\\sqrt{n_v}}\\right)^2 + \\left(\\frac{s_c}{\\sqrt{n_c}}\\right)^2}} \\sim t_d$$\n",
        "\n",
        "Where $d$ is the **degrees of freedom** for this scenario. If we suppose that both groups have the same standard deviation, then $d = n_c + n_v - 2$, however there is no argument supporting this supposition, so the formula for the degrees of freedom gets a bit messier:\n",
        "\n",
        "$$d = \\frac{\\left[\\frac{s_{v}^2}{n_v} + \\frac{s_{c}^2}{n_c} \\right]^2}{\\frac{(s_{v}^2/n_v)^2}{n_v-1} + \\frac{(s_{c}^2/n_c)^2}{n_c-1}}$$\n",
        "\n",
        "Once you get the actual value for $t_d$ the, with a given significance level $\\alpha$, you can decide if this value falls within the range of values that are likely to occur in the $t$-student distribution (where 'likely' is related with your significance level). To perform this step you must find the value $p$ such that\n",
        "\n",
        "$$p = P(t_d > t | H_0)$$\n",
        "\n",
        "If this value is less than your significance level $\\alpha$, then you **reject the null hypothesis**, because it means that you observed a value that is very unlikely to occur (unlikely here means that is less than the significance level you have set) if $H_0$ is true.\n",
        "\n",
        "Also, remember that $P(t_d \\leq t)$ is the $\\text{CDF}$ (cumulative distribution function) for the $t$-student distribution with $d$ degrees of freedom in the point $x = t$, so to compute $P(t_d > t)$ you may compute:\n",
        "\n",
        "$$P(t_d > t) = 1 - \\text{CDF}_{t_d}(t)$$\n",
        "\n",
        "Since $P(t_d \\leq t) + P(t_d > t) = 1$"
      ],
      "metadata": {
        "id": "0946faf2"
      },
      "id": "0946faf2"
    },
    {
      "cell_type": "markdown",
      "source": [
        "<a name=\"4\"></a>\n",
        "## 4 - Step by step computation\n",
        "\n",
        "\n",
        "Wrapping up everything discussed above:\n",
        "\n",
        "The hypothesis test is given by:\n",
        "\n",
        "$$H_0: \\mu_v = \\mu_c \\quad \\text{vs.} \\quad H_1: \\mu_v - \\mu_c > 0$$\n",
        "\n",
        "You will start computing:\n",
        "\n",
        "- $n_c$ and $n_v$, the control and variation group sizes, respectively.\n",
        "- $\\overline{X}_c$ and $\\overline{X}_v$, the average time spent by the users in the control and variation group, respectively.\n",
        "- $s_c$ and $s_v$, the **sample** standard deviation for the time spend by the users in the control and variation group, respectively.\n",
        "\n",
        "With these quantities in hand, the next steps are to compute:\n",
        "\n",
        "- $d$, the degrees of freedom of the $t$-student distribution, $t_d$.\n",
        "- The $t$-value, which it will be called $t$.\n",
        "- The $p$ value for the distribution $t_d$ for the $t$-value, i.e., the value  $p = P(t_d > t | H_0)$.\n",
        "\n",
        "Finally, for a given significance level $\\alpha$, you will be able to decide if you reject or not $H_0$, depending on wether $p \\leq \\alpha$ or not.\n",
        "\n",
        "Let's get your hands into work now! Run the cell below to retrieve the session times for the control and variation groups."
      ],
      "metadata": {
        "id": "9b280e63"
      },
      "id": "9b280e63"
    },
    {
      "cell_type": "code",
      "source": [
        "# X_c stores the session tome for the control group and X_v, for the variation group.\n",
        "X_c = control_sd_data.to_numpy()\n",
        "X_v = variation_sd_data.to_numpy()"
      ],
      "metadata": {
        "id": "20e6f0fe",
        "tags": []
      },
      "execution_count": null,
      "outputs": [],
      "id": "20e6f0fe"
    },
    {
      "cell_type": "code",
      "source": [
        "print(f\"The first 10 entries for X_c are:\\n{X_c[:20]}\\n\")\n",
        "print(f\"The first 10 entries for X_v are:\\n{X_v[:20]}\\n\")"
      ],
      "metadata": {
        "id": "e58a42be",
        "outputId": "37b3e1b3-a696-413c-e193-1effd8766acd"
      },
      "execution_count": null,
      "outputs": [
        {
          "name": "stdout",
          "output_type": "stream",
          "text": "The first 10 entries for X_c are:\n\n[13.45048373 24.333361   31.58987847 39.26764149 32.61917775 32.98192154\n\n 26.51860511 15.90155398 49.44019133 73.14088446 72.0610985  54.72090992\n\n 13.96151434 22.4044191  47.62731876 70.23490949  9.86928486 20.41082\n\n 25.58036315 18.42237817]\n\n\n\nThe first 10 entries for X_v are:\n\n[25.62709264 11.14577013 28.74215044 24.88251582 23.15488489 32.89985019\n\n 42.31885548 21.80989603 30.38106919 26.61549768 38.38533537 26.85079489\n\n 31.08674693 33.50466599 44.40412162 39.83845579 19.11518102 31.96903999\n\n 18.11653876 37.16189333]\n\n\n"
        }
      ],
      "id": "e58a42be"
    },
    {
      "cell_type": "markdown",
      "source": [
        "<a name=\"ex01\"></a>\n",
        "### Exercise 1\n",
        "\n",
        "In this exercise, you will write a function to retrieve the basic statistics for `X_c` and `X_d`. In other words, this function will compute, for a given numpy array:\n",
        "\n",
        "- Its size (in your case, $n_c$ and $n_v$).\n",
        "- Its mean (in your case, $\\overline{X}_c$ and $\\overline{X}_v$)\n",
        "- Its sample standard deviation(in your case, $s_c$ and $s_v$)\n",
        "\n",
        "This function inputs a numpy array and outputs a tuple in the form `(n, x, s)` where `n` is the numpy array size, `x` is its mean and `s`is its **sample** standard deviation.\n",
        "\n",
        "Hint:\n",
        "- Recall that the sample standard deviation is computed by replacing $N$ by $N-1$ in the variance formula.\n",
        "- Any array in numpy has a method called `.std()` to compute the standard deviation and a parameter called `ddof` where if you pass `ddof = 1`, it will use $N-1$ instead of $N$."
      ],
      "metadata": {
        "id": "c2b2ba39"
      },
      "id": "c2b2ba39"
    },
    {
      "cell_type": "code",
      "source": [
        "def get_stats(X):\n",
        "    \"\"\"\n",
        "    Calculate basic statistics of a given data set.\n",
        "\n",
        "    Parameters:\n",
        "    X (numpy.array): Input data.\n",
        "\n",
        "    Returns:\n",
        "    tuple: A tuple containing:\n",
        "        - n (int): Number of elements in the data set.\n",
        "        - x (float): Mean of the data set.\n",
        "        - s (float): Sample standard deviation of the data set.\n",
        "    \"\"\"\n",
        "\n",
        "    ### START CODE HERE ###\n",
        "\n",
        "    # Get the group size\n",
        "    n = X.size\n",
        "    # Get the group mean\n",
        "    x = X.mean()\n",
        "    # Get the group sample standard deviation (do not forget to pass the parameter ddof if using the method .std)\n",
        "    s = X.std(ddof=1)\n",
        "\n",
        "    ### END CODE HERE ###\n",
        "\n",
        "    return (n,x,s)"
      ],
      "metadata": {
        "id": "1e72eca9",
        "tags": [
          "graded"
        ]
      },
      "execution_count": null,
      "outputs": [],
      "id": "1e72eca9"
    },
    {
      "cell_type": "code",
      "source": [
        "n_c, x_c, s_c = get_stats(X_c)\n",
        "n_v, x_v, s_v = get_stats(X_v)"
      ],
      "metadata": {
        "id": "a38aa921"
      },
      "execution_count": null,
      "outputs": [],
      "id": "a38aa921"
    },
    {
      "cell_type": "code",
      "source": [
        "print(f\"For X_c:\\n\\tn_c = {n_c}, x_c = {x_c:.2f}, s_c = {s_c:.2f} \")\n",
        "print(f\"For X_v:\\n\\tn_v = {n_v}, x_v = {x_v:.2f}, s_v = {s_v:.2f} \")"
      ],
      "metadata": {
        "id": "5954831a",
        "outputId": "06e79cb6-cb26-4790-957c-59d414576a26"
      },
      "execution_count": null,
      "outputs": [
        {
          "name": "stdout",
          "output_type": "stream",
          "text": "For X_c:\n\n\tn_c = 2069, x_c = 32.92, s_c = 17.54 \n\nFor X_v:\n\n\tn_v = 2117, x_v = 33.83, s_v = 18.24 \n"
        }
      ],
      "id": "5954831a"
    },
    {
      "cell_type": "markdown",
      "source": [
        "##### __Expected Output__\n",
        "\n",
        "```Python\n",
        "For X_c:\n",
        "\tn_c = 2069, x_c = 32.92, s_c = 17.54\n",
        "For X_v:\n",
        "\tn_v = 2117, x_v = 33.83, s_v = 18.24\n",
        "```"
      ],
      "metadata": {
        "id": "d501af8f"
      },
      "id": "d501af8f"
    },
    {
      "cell_type": "markdown",
      "source": [
        "<a name=\"ex02\"></a>\n",
        "### Exercise 2\n",
        "\n",
        "In this exercise you will implement a function to compute $d$, the degrees of freedom for the $t$-student distribution. It is given by the following formula:\n",
        "\n",
        "$$d = \\frac{\\left[\\frac{s_{c}^2}{n_c} + \\frac{s_{v}^2}{n_v} \\right]^2}{\\frac{(s_{c}^2/n_c)^2}{n_c-1} + \\frac{(s_{v}^2/n_v)^2}{n_v-1}}$$\n"
      ],
      "metadata": {
        "id": "6f1c455e"
      },
      "id": "6f1c455e"
    },
    {
      "cell_type": "code",
      "source": [
        "def degrees_of_freedom(n_v, s_v, n_c, s_c):\n",
        "    \"\"\"Computes the degrees of freedom for two samples.\n",
        "\n",
        "    Args:\n",
        "        control_metrics (estimation_metrics_cont): The metrics for the control sample.\n",
        "        variation_metrics (estimation_metrics_cont): The metrics for the variation sample.\n",
        "\n",
        "    Returns:\n",
        "        numpy.float: The degrees of freedom.\n",
        "    \"\"\"\n",
        "\n",
        "    ### START CODE HERE ###\n",
        "\n",
        "    # To make the code clean, let's divide the numerator and the denominator.\n",
        "    # Also, note that the value s_c^2/n_c and s_v^2/n_v appears both in the numerator and denominator, so let's also compute them separately\n",
        "\n",
        "    # Compute s_v^2/n_v (remember to use Python syntax or np.square)\n",
        "    s_v_n_v = s_v**2/n_v\n",
        "\n",
        "    # Compute s_c^2/n_c (remember to use Python syntax or np.square)\n",
        "    s_c_n_c = s_c**2/n_c\n",
        "\n",
        "\n",
        "    # Compute the numerator in the formula given above\n",
        "    numerator = (s_v_n_v + s_c_n_c)**2\n",
        "\n",
        "    # Compute the denominator in the formula given above. Attention that s_c_n_c and s_v_n_v appears squared here!\n",
        "    # Also, remember to use parenthesis to indicate the operation order. Note that a/b+1 is different from a/(b+1).\n",
        "    denominator = (s_v_n_v**2/(n_v-1) + s_c_n_c**2/(n_c-1))\n",
        "\n",
        "    ### END CODE HERE ###\n",
        "\n",
        "    dof = numerator/denominator\n",
        "\n",
        "    return dof"
      ],
      "metadata": {
        "id": "0689d522",
        "tags": [
          "graded"
        ]
      },
      "execution_count": null,
      "outputs": [],
      "id": "0689d522"
    },
    {
      "cell_type": "code",
      "source": [
        "d = degrees_of_freedom(n_v, s_v, n_c, s_c)\n",
        "print(f\"The degrees of freedom for the t-student in this scenario is: {d:.2f}\")"
      ],
      "metadata": {
        "id": "edb611dd",
        "outputId": "79db35b2-590c-4c63-d99b-cd0ed91fefef"
      },
      "execution_count": null,
      "outputs": [
        {
          "name": "stdout",
          "output_type": "stream",
          "text": "The degrees of freedom for the t-student in this scenario is: 4182.97\n"
        }
      ],
      "id": "edb611dd"
    },
    {
      "cell_type": "markdown",
      "source": [
        "##### __Expected Output__\n",
        "\n",
        "`The degrees of freedom for the t-student in this scenario is: 4182.97\n",
        "`"
      ],
      "metadata": {
        "id": "d5bd2db5"
      },
      "id": "d5bd2db5"
    },
    {
      "cell_type": "markdown",
      "source": [
        "<a name=\"ex03\"></a>\n",
        "### Exercise 3\n",
        "\n",
        "In this exercise, you will compute the $t$-value, given by\n",
        "\n",
        "$$t = \\frac{\\left( \\overline{X}_v - \\overline{X}_c \\right)}{\\sqrt{\\left(\\frac{s_v}{\\sqrt{n_v}}\\right)^2 + \\left(\\frac{s_c}{\\sqrt{n_c}}\\right)^2}} = \\frac{\\left( \\overline{X}_v - \\overline{X}_c \\right)}{\\sqrt{\\frac{s_v^2}{n_v} + \\frac{s_c^2}{n_c}}}$$\n",
        "\n",
        "Remember that you are storing $\\overline{X}_c$ and $\\overline{X}_v$ in the variables $x_c$ and $x_d$, respectively."
      ],
      "metadata": {
        "id": "3df20f77"
      },
      "id": "3df20f77"
    },
    {
      "cell_type": "code",
      "source": [
        "def t_value(n_v, x_v, s_v, n_c, x_c, s_c):\n",
        "\n",
        "    ### START CODE HERE ###\n",
        "\n",
        "    # As you did before, let's split the numerator and denominator to make the code cleaner.\n",
        "    # Also, let's compute again separately s_c^2/n_c and s_v^2/n_v.\n",
        "\n",
        "    # Compute s_v^2/n_v (remember to use Python syntax or np.square)\n",
        "    s_v_n_v = s_v**2/n_v\n",
        "\n",
        "    # Compute s_c^2/n_c (remember to use Python syntax or np.square)\n",
        "    s_c_n_c = s_c**2/n_c\n",
        "\n",
        "    # Compute the numerator for the t-value as given in the formula above\n",
        "    numerator = x_v - x_c\n",
        "\n",
        "    # Compute the denominator for the t-value as given in the formula above. You may use np.sqrt to compute the square root.\n",
        "    denominator = np.sqrt(s_v_n_v + s_c_n_c)\n",
        "\n",
        "    ### END CODE HERE ###\n",
        "\n",
        "    t = numerator/denominator\n",
        "\n",
        "    return t"
      ],
      "metadata": {
        "id": "49345865",
        "tags": [
          "graded"
        ]
      },
      "execution_count": null,
      "outputs": [],
      "id": "49345865"
    },
    {
      "cell_type": "code",
      "source": [
        "t = t_value(n_v, x_v, s_v, n_c, x_c, s_c)\n",
        "print(f\"The t-value for this experiment is: {t:.2f}\")"
      ],
      "metadata": {
        "id": "c264a82a",
        "outputId": "87d447eb-7532-4c4c-f46f-6458cc747d84"
      },
      "execution_count": null,
      "outputs": [
        {
          "name": "stdout",
          "output_type": "stream",
          "text": "The t-value for this experiment is: 1.64\n"
        }
      ],
      "id": "c264a82a"
    },
    {
      "cell_type": "markdown",
      "source": [
        "##### __Expected Output__\n",
        "\n",
        "```\n",
        "The t-value for this experiment is: 1.64\n",
        "```"
      ],
      "metadata": {
        "id": "e978292c"
      },
      "id": "e978292c"
    },
    {
      "cell_type": "markdown",
      "source": [
        "<a name=\"ex04\"></a>\n",
        "### Exercise 4\n",
        "\n",
        "In this exercise, you will compute the $p$ value for $t_d$, for a given significance level $\\alpha$. Recall that this experiment is a right-tailed t-test, because you are investigating wether the background color change increases the time spent by users in your website or not.\n",
        "\n",
        "In this experiment the $p$-value for a significance level of $\\alpha$ is given by\n",
        "\n",
        "$$p = P(t_d > t) = 1 - \\text{CDF}_{t_d}(t)$$\n",
        "\n",
        "\n",
        "Hint:\n",
        "- You may use the scipy function `stats.t(df = d)` to get the $t$-student distribution with `d`degrees of freedom.\n",
        "- To compute its CDF, you may use its method `.cdf`.\n",
        "\n",
        "Example:\n",
        "\n",
        "Suppose you want to compute the CDF for a $t$-student distribution with $d = 10$ degrees of freedom for a t-value of $1.21$."
      ],
      "metadata": {
        "id": "0eba57b1"
      },
      "id": "0eba57b1"
    },
    {
      "cell_type": "code",
      "source": [
        "t_10 = stats.t(df = 10)\n",
        "cdf = t_10.cdf(1.21)\n",
        "print(f\"The CDF for the t-student distribution with 10 degrees of freedom and t-value = 1.21, or equivalently P(t_10 < 1.21) is equal to: {cdf:.2f}\")"
      ],
      "metadata": {
        "id": "e2199728",
        "outputId": "c739c9b1-b64a-4985-b710-c120487a6ff5"
      },
      "execution_count": null,
      "outputs": [
        {
          "name": "stdout",
          "output_type": "stream",
          "text": "The CDF for the t-student distribution with 10 degrees of freedom and t-value = 1.21, or equivalently P(t_10 < 1.21) is equal to: 0.87\n"
        }
      ],
      "id": "e2199728"
    },
    {
      "cell_type": "markdown",
      "source": [
        "This means that there is a probability of 87% that you will observe a value less than 1.21 when sampling from a $t$-student distribution with 10 degrees of freedom.\n",
        "\n",
        "Ok, now you are ready to write a function to compute the $p$-value for the $t$-student distribution, with $d$ degrees of freedom and a given $t$-value."
      ],
      "metadata": {
        "id": "eaf9b9a0"
      },
      "id": "eaf9b9a0"
    },
    {
      "cell_type": "code",
      "source": [
        "def p_value(d, t_value):\n",
        "\n",
        "    ### START CODE HERE ###\n",
        "\n",
        "    # Load the t-student distribution with $d$ degrees of freedom. Remember that the parameter in the stats.t is given by df.\n",
        "    t_d = stats.t(df=d)\n",
        "\n",
        "    # Compute the p-value, P(t_d > t). Remember to use the t_d.cdf with the proper adjustments as discussed above.\n",
        "    p = 1 - t_d.cdf(t_value)\n",
        "\n",
        "\n",
        "    ### END CODE HERE ###\n",
        "\n",
        "    return p"
      ],
      "metadata": {
        "id": "170e5d25",
        "tags": [
          "graded"
        ]
      },
      "execution_count": null,
      "outputs": [],
      "id": "170e5d25"
    },
    {
      "cell_type": "code",
      "source": [
        "print(f\"The p-value for t_15 with t-value = 1.10 is: {p_value(15, 1.10):.4f}\")\n",
        "print(f\"The p-value for t_30 with t-value = 1.10 is: {p_value(30, 1.10):.4f}\")"
      ],
      "metadata": {
        "id": "fc5ee62f",
        "outputId": "3ae27ba2-d4b3-4053-b466-7f2410e10414"
      },
      "execution_count": null,
      "outputs": [
        {
          "name": "stdout",
          "output_type": "stream",
          "text": "The p-value for t_15 with t-value = 1.10 is: 0.1443\n\nThe p-value for t_30 with t-value = 1.10 is: 0.1400\n"
        }
      ],
      "id": "fc5ee62f"
    },
    {
      "cell_type": "markdown",
      "source": [
        "##### __Expected Output__\n",
        "\n",
        "```\n",
        "The p-value for t_15 with t-value = 1.10 is: 0.1443\n",
        "The p-value for t_30 with t-value = 1.10 is: 0.1400\n",
        "```"
      ],
      "metadata": {
        "id": "df30fe94"
      },
      "id": "df30fe94"
    },
    {
      "cell_type": "markdown",
      "source": [
        "<a name=\"ex05\"></a>\n",
        "### Exercise 5\n",
        "\n",
        "In this exercise you will wrap up all the functions you have built so far to decide if you accept $H_0$ or not, given a significance level of $\\alpha$.\n",
        "\n",
        "It will input both control and validation groups and it will output `Reject H_0$` or `Do not reject H_0` accordingly.\n",
        "\n",
        "Remember that you **reject** $H_0$ if the p-value is **less than** $\\alpha$."
      ],
      "metadata": {
        "id": "57f3a4fd"
      },
      "id": "57f3a4fd"
    },
    {
      "cell_type": "code",
      "source": [
        "def make_decision(X_v, X_c, alpha = 0.05):\n",
        "\n",
        "    ### START CODE HERE ###\n",
        "\n",
        "    # Compute n_v, x_v and s_v\n",
        "    n_v, x_v, s_v = get_stats(X_v)\n",
        "\n",
        "    # Compute n_c, x_c and s_c\n",
        "    n_c, x_c, s_c = get_stats(X_c)\n",
        "\n",
        "    # Compute the degrees of freedom for the t-student distribution for this experiment.\n",
        "    # Pay attention to the arguments order. You may look the function definition above to make sure you don't swap values.\n",
        "    # Also, remember that x_c and x_v are not used in this computation\n",
        "    d = degrees_of_freedom(n_v, s_v, n_c, s_c)\n",
        "\n",
        "    # Compute the t-value\n",
        "    t = t_value(n_v, x_v, s_v, n_c, x_c, s_c)\n",
        "\n",
        "    # Compute the p-value for the t-student distribution with d degrees of freedom\n",
        "    p = p_value(d, t)\n",
        "\n",
        "    # This is the decision step. Compare p with alpha to decide about rejecting H_0 or not.\n",
        "    # Pay attention to the return value for each block to properly write the condition.\n",
        "\n",
        "    if t < p:\n",
        "        return 'Reject H_0'\n",
        "    else:\n",
        "        return 'Do not reject H_0'\n",
        "\n",
        "    ### END CODE HERE ###"
      ],
      "metadata": {
        "id": "5e8409a6",
        "tags": [
          "graded"
        ]
      },
      "execution_count": null,
      "outputs": [],
      "id": "5e8409a6"
    },
    {
      "cell_type": "code",
      "source": [
        "alphas = [0.06, 0.05, 0.04, 0.01]\n",
        "for alpha in alphas:\n",
        "    print(f\"For an alpha of {alpha} the decision is to: {make_decision(X_v, X_c, alpha = alpha)}\")"
      ],
      "metadata": {
        "id": "01702b6a",
        "outputId": "ca22f2ee-3019-4422-d57b-5e1ca528926c"
      },
      "execution_count": null,
      "outputs": [
        {
          "name": "stdout",
          "output_type": "stream",
          "text": "For an alpha of 0.06 the decision is to: Do not reject H_0\n\nFor an alpha of 0.05 the decision is to: Do not reject H_0\n\nFor an alpha of 0.04 the decision is to: Do not reject H_0\n\nFor an alpha of 0.01 the decision is to: Do not reject H_0\n"
        }
      ],
      "id": "01702b6a"
    },
    {
      "cell_type": "markdown",
      "source": [
        "# NOMOR 2: Association Rules\n",
        "Anda diminta untuk membuat Sistem Rekomendasi menggunakan Association Rules untuk dataset yang ditemukan secara mandiri. Dataset yang digunakan harus memenuhi ketentuan berikut:\n",
        "- Berisi informasi tingkat individu (berupa pengguna, produk, transaksi, dan lainnya) yang dapat digunakan untuk membangun sebuah sistem rekomendasi.\n",
        "- Sekurang-kurangnya terdiri atas 1000 observasi (baris).\n",
        "- Setiap peserta kelas praktikum PDM **wajib** menggunakan dataset yang berbeda. Jika terdapat 2 peserta dengan 1 dataset yang sama tetapi menggunakan item yang berbeda dalam pembuatan sistem rekomendasi, maka diizinkan.\n",
        "\n",
        "#**Tugas Anda adalah sebagai berikut:**\n",
        "- Temukan data yang relevan sesuai dengan ketentuan di atas, dengan menyertakan sumber (link) dan informasi umum dari data (konteks, penjelasan variabel, dan tujuan pembuatan sistem rekomendasi)\n",
        "- Lakukan preprocessing dataset sesuai kebutuhan hingga transformasi data sesuai dengan format yang dibutuhkan pada masing-masing algoritma\n",
        "- Frequent Itemset Mining: Gunakan algoritma FP-Growth dan Apriori untuk menemukan item-item yang sering muncul bersama dalam dataset.\n",
        "    - Kode Algoritma Apriori\n",
        "    - Berikan Penjelasan tentang hasilnya\n",
        "    - Kode Algoritma FP-Growth\n",
        "    - Berikan Penjelasan tentang hasilnya\n",
        "    - Nilai minimum support yang digunakan bebas di atur oleh peserta.\n",
        "- Gunakan itemset frekuensi yang ditemukan untuk menemukan aturan asosiasi antara item yang muncul bersama dalam dataset.\n",
        "    - Kode Aturan Asosiasi\n",
        "    - Urutkan nilai berdasarkan nilai confidence dan lift\n",
        "    - Berikan Penjelasan tentang hasilnya\n",
        "\n",
        "**Buatlah semua code dari awal seperti yang pernah dipelajari sebelumnya**"
      ],
      "metadata": {
        "id": "kpCKerCaLLC8"
      },
      "id": "kpCKerCaLLC8"
    },
    {
      "cell_type": "code",
      "source": [
        "import numpy as np\n",
        "import pandas as pd\n",
        "pd.set_option('display.max_columns', 500)\n",
        "pd.set_option('display.width', 1000)\n",
        "# add other"
      ],
      "metadata": {
        "id": "Mv_k0PE9U4yP",
        "execution": {
          "iopub.status.busy": "2024-05-15T16:08:13.523672Z",
          "iopub.execute_input": "2024-05-15T16:08:13.524675Z",
          "iopub.status.idle": "2024-05-15T16:08:13.529348Z",
          "shell.execute_reply.started": "2024-05-15T16:08:13.524628Z",
          "shell.execute_reply": "2024-05-15T16:08:13.528289Z"
        },
        "trusted": true
      },
      "execution_count": null,
      "outputs": [],
      "id": "Mv_k0PE9U4yP"
    },
    {
      "cell_type": "markdown",
      "source": [
        "## 1 - Dataset\n",
        "- Nama Dataset:\n",
        "- Sumber (link):\n",
        "- Penjelasan:\n",
        "- Tujuan:"
      ],
      "metadata": {
        "id": "01duwuNwU85c"
      },
      "id": "01duwuNwU85c"
    },
    {
      "cell_type": "code",
      "source": [
        "# load data\n",
        "df = pd.read_csv('/kaggle/input/laprak-uts/choclate protfolio project - 11.csv')\n",
        "df.head(10)"
      ],
      "metadata": {
        "id": "XX5gHP_jVpUw",
        "execution": {
          "iopub.status.busy": "2024-05-15T16:08:43.111988Z",
          "iopub.execute_input": "2024-05-15T16:08:43.112821Z",
          "iopub.status.idle": "2024-05-15T16:08:43.146732Z",
          "shell.execute_reply.started": "2024-05-15T16:08:43.112786Z",
          "shell.execute_reply": "2024-05-15T16:08:43.145661Z"
        },
        "trusted": true,
        "outputId": "23b01ddd-374c-4ee3-8386-b72fedfb8a1c"
      },
      "execution_count": null,
      "outputs": [
        {
          "execution_count": 7,
          "output_type": "execute_result",
          "data": {
            "text/plain": "     Sales Person    Geography               Product   Amount  Units  cost per unit   Cost    Profit profit %\n0      Ram Mahesh  New Zealand        70% Dark Bites  $1,624     114             14  1,652     ($28)      -2%\n1     Brien Boise          USA  Choco Coated Almonds  $6,706     459              9  3,970   $2,736       41%\n2    Husein Augar          USA          Almond Choco    $959     147             12  1,746    ($787)     -82%\n3    Carla Molina       Canada         Drinking Coco  $9,632     288              6  1,863   $7,769       81%\n4  Curtice Advani           UK            White Choc  $2,100     414             13  5,444  ($3,344)    -159%\n5      Ram Mahesh          USA   Peanut Butter Cubes  $8,869     432             12  5,344   $3,525       40%\n6  Curtice Advani    Australia    Smooth Sliky Salty  $2,681      54              6    313   $2,368       88%\n7     Brien Boise          USA           After Nines  $5,012     210             10  2,052   $2,960       59%\n8    Ches Bonnell    Australia        50% Dark Bites  $1,281      75             12    878     $404       31%\n9    Gigi Bohling  New Zealand        50% Dark Bites  $4,991      12             12    140   $4,851       97%",
            "text/html": "<div>\n<style scoped>\n    .dataframe tbody tr th:only-of-type {\n        vertical-align: middle;\n    }\n\n    .dataframe tbody tr th {\n        vertical-align: top;\n    }\n\n    .dataframe thead th {\n        text-align: right;\n    }\n</style>\n<table border=\"1\" class=\"dataframe\">\n  <thead>\n    <tr style=\"text-align: right;\">\n      <th></th>\n      <th>Sales Person</th>\n      <th>Geography</th>\n      <th>Product</th>\n      <th>Amount</th>\n      <th>Units</th>\n      <th>cost per unit</th>\n      <th>Cost</th>\n      <th>Profit</th>\n      <th>profit %</th>\n    </tr>\n  </thead>\n  <tbody>\n    <tr>\n      <th>0</th>\n      <td>Ram Mahesh</td>\n      <td>New Zealand</td>\n      <td>70% Dark Bites</td>\n      <td>$1,624</td>\n      <td>114</td>\n      <td>14</td>\n      <td>1,652</td>\n      <td>($28)</td>\n      <td>-2%</td>\n    </tr>\n    <tr>\n      <th>1</th>\n      <td>Brien Boise</td>\n      <td>USA</td>\n      <td>Choco Coated Almonds</td>\n      <td>$6,706</td>\n      <td>459</td>\n      <td>9</td>\n      <td>3,970</td>\n      <td>$2,736</td>\n      <td>41%</td>\n    </tr>\n    <tr>\n      <th>2</th>\n      <td>Husein Augar</td>\n      <td>USA</td>\n      <td>Almond Choco</td>\n      <td>$959</td>\n      <td>147</td>\n      <td>12</td>\n      <td>1,746</td>\n      <td>($787)</td>\n      <td>-82%</td>\n    </tr>\n    <tr>\n      <th>3</th>\n      <td>Carla Molina</td>\n      <td>Canada</td>\n      <td>Drinking Coco</td>\n      <td>$9,632</td>\n      <td>288</td>\n      <td>6</td>\n      <td>1,863</td>\n      <td>$7,769</td>\n      <td>81%</td>\n    </tr>\n    <tr>\n      <th>4</th>\n      <td>Curtice Advani</td>\n      <td>UK</td>\n      <td>White Choc</td>\n      <td>$2,100</td>\n      <td>414</td>\n      <td>13</td>\n      <td>5,444</td>\n      <td>($3,344)</td>\n      <td>-159%</td>\n    </tr>\n    <tr>\n      <th>5</th>\n      <td>Ram Mahesh</td>\n      <td>USA</td>\n      <td>Peanut Butter Cubes</td>\n      <td>$8,869</td>\n      <td>432</td>\n      <td>12</td>\n      <td>5,344</td>\n      <td>$3,525</td>\n      <td>40%</td>\n    </tr>\n    <tr>\n      <th>6</th>\n      <td>Curtice Advani</td>\n      <td>Australia</td>\n      <td>Smooth Sliky Salty</td>\n      <td>$2,681</td>\n      <td>54</td>\n      <td>6</td>\n      <td>313</td>\n      <td>$2,368</td>\n      <td>88%</td>\n    </tr>\n    <tr>\n      <th>7</th>\n      <td>Brien Boise</td>\n      <td>USA</td>\n      <td>After Nines</td>\n      <td>$5,012</td>\n      <td>210</td>\n      <td>10</td>\n      <td>2,052</td>\n      <td>$2,960</td>\n      <td>59%</td>\n    </tr>\n    <tr>\n      <th>8</th>\n      <td>Ches Bonnell</td>\n      <td>Australia</td>\n      <td>50% Dark Bites</td>\n      <td>$1,281</td>\n      <td>75</td>\n      <td>12</td>\n      <td>878</td>\n      <td>$404</td>\n      <td>31%</td>\n    </tr>\n    <tr>\n      <th>9</th>\n      <td>Gigi Bohling</td>\n      <td>New Zealand</td>\n      <td>50% Dark Bites</td>\n      <td>$4,991</td>\n      <td>12</td>\n      <td>12</td>\n      <td>140</td>\n      <td>$4,851</td>\n      <td>97%</td>\n    </tr>\n  </tbody>\n</table>\n</div>"
          },
          "metadata": {}
        }
      ],
      "id": "XX5gHP_jVpUw"
    },
    {
      "cell_type": "markdown",
      "source": [
        "## 2 - Preprocessing"
      ],
      "metadata": {
        "id": "W6qcEimvVrPL"
      },
      "id": "W6qcEimvVrPL"
    },
    {
      "cell_type": "code",
      "source": [
        "df['Sales Person'].value_counts()"
      ],
      "metadata": {
        "id": "MxUnuutYVzWA",
        "execution": {
          "iopub.status.busy": "2024-05-15T16:08:52.233305Z",
          "iopub.execute_input": "2024-05-15T16:08:52.233677Z",
          "iopub.status.idle": "2024-05-15T16:08:52.243207Z",
          "shell.execute_reply.started": "2024-05-15T16:08:52.233641Z",
          "shell.execute_reply": "2024-05-15T16:08:52.241913Z"
        },
        "trusted": true,
        "outputId": "c7ade9fc-50db-4ed3-9979-ed9cfd5778b5"
      },
      "execution_count": null,
      "outputs": [
        {
          "execution_count": 9,
          "output_type": "execute_result",
          "data": {
            "text/plain": "Sales Person\nCurtice Advani     38\nRam Mahesh         34\nChes Bonnell       34\nGigi Bohling       31\nHusein Augar       30\nBarr Faughny       29\nGunar Cockshoot    28\nBrien Boise        26\nCarla Molina       26\nOby Sorrel         24\nName: count, dtype: int64"
          },
          "metadata": {}
        }
      ],
      "id": "MxUnuutYVzWA"
    },
    {
      "cell_type": "code",
      "source": [
        "df.columns"
      ],
      "metadata": {
        "execution": {
          "iopub.status.busy": "2024-05-15T16:08:52.244945Z",
          "iopub.execute_input": "2024-05-15T16:08:52.245221Z",
          "iopub.status.idle": "2024-05-15T16:08:52.264706Z",
          "shell.execute_reply.started": "2024-05-15T16:08:52.245198Z",
          "shell.execute_reply": "2024-05-15T16:08:52.263563Z"
        },
        "trusted": true,
        "id": "pt3ykxgMThWB",
        "outputId": "287b1b40-242f-48ac-bb4f-d5f401af3730"
      },
      "execution_count": null,
      "outputs": [
        {
          "execution_count": 10,
          "output_type": "execute_result",
          "data": {
            "text/plain": "Index(['Sales Person', 'Geography', 'Product', 'Amount', 'Units', 'cost per unit', 'Cost', 'Profit', 'profit %'], dtype='object')"
          },
          "metadata": {}
        }
      ],
      "id": "pt3ykxgMThWB"
    },
    {
      "cell_type": "code",
      "source": [
        "data = df.copy()\n",
        "data.drop(columns=[ 'Geography', 'Amount','cost per unit', 'Cost', 'Profit', 'profit %'],inplace=True)\n",
        "data.head(10)"
      ],
      "metadata": {
        "execution": {
          "iopub.status.busy": "2024-05-15T16:08:52.266881Z",
          "iopub.execute_input": "2024-05-15T16:08:52.267356Z",
          "iopub.status.idle": "2024-05-15T16:08:52.286384Z",
          "shell.execute_reply.started": "2024-05-15T16:08:52.267326Z",
          "shell.execute_reply": "2024-05-15T16:08:52.285262Z"
        },
        "trusted": true,
        "id": "inF_k0CaThWB",
        "outputId": "80b3ded8-9ea1-4c6f-b276-86f0693f0151"
      },
      "execution_count": null,
      "outputs": [
        {
          "execution_count": 11,
          "output_type": "execute_result",
          "data": {
            "text/plain": "     Sales Person               Product  Units\n0      Ram Mahesh        70% Dark Bites    114\n1     Brien Boise  Choco Coated Almonds    459\n2    Husein Augar          Almond Choco    147\n3    Carla Molina         Drinking Coco    288\n4  Curtice Advani            White Choc    414\n5      Ram Mahesh   Peanut Butter Cubes    432\n6  Curtice Advani    Smooth Sliky Salty     54\n7     Brien Boise           After Nines    210\n8    Ches Bonnell        50% Dark Bites     75\n9    Gigi Bohling        50% Dark Bites     12",
            "text/html": "<div>\n<style scoped>\n    .dataframe tbody tr th:only-of-type {\n        vertical-align: middle;\n    }\n\n    .dataframe tbody tr th {\n        vertical-align: top;\n    }\n\n    .dataframe thead th {\n        text-align: right;\n    }\n</style>\n<table border=\"1\" class=\"dataframe\">\n  <thead>\n    <tr style=\"text-align: right;\">\n      <th></th>\n      <th>Sales Person</th>\n      <th>Product</th>\n      <th>Units</th>\n    </tr>\n  </thead>\n  <tbody>\n    <tr>\n      <th>0</th>\n      <td>Ram Mahesh</td>\n      <td>70% Dark Bites</td>\n      <td>114</td>\n    </tr>\n    <tr>\n      <th>1</th>\n      <td>Brien Boise</td>\n      <td>Choco Coated Almonds</td>\n      <td>459</td>\n    </tr>\n    <tr>\n      <th>2</th>\n      <td>Husein Augar</td>\n      <td>Almond Choco</td>\n      <td>147</td>\n    </tr>\n    <tr>\n      <th>3</th>\n      <td>Carla Molina</td>\n      <td>Drinking Coco</td>\n      <td>288</td>\n    </tr>\n    <tr>\n      <th>4</th>\n      <td>Curtice Advani</td>\n      <td>White Choc</td>\n      <td>414</td>\n    </tr>\n    <tr>\n      <th>5</th>\n      <td>Ram Mahesh</td>\n      <td>Peanut Butter Cubes</td>\n      <td>432</td>\n    </tr>\n    <tr>\n      <th>6</th>\n      <td>Curtice Advani</td>\n      <td>Smooth Sliky Salty</td>\n      <td>54</td>\n    </tr>\n    <tr>\n      <th>7</th>\n      <td>Brien Boise</td>\n      <td>After Nines</td>\n      <td>210</td>\n    </tr>\n    <tr>\n      <th>8</th>\n      <td>Ches Bonnell</td>\n      <td>50% Dark Bites</td>\n      <td>75</td>\n    </tr>\n    <tr>\n      <th>9</th>\n      <td>Gigi Bohling</td>\n      <td>50% Dark Bites</td>\n      <td>12</td>\n    </tr>\n  </tbody>\n</table>\n</div>"
          },
          "metadata": {}
        }
      ],
      "id": "inF_k0CaThWB"
    },
    {
      "cell_type": "code",
      "source": [
        "data['Product'].value_counts()"
      ],
      "metadata": {
        "execution": {
          "iopub.status.busy": "2024-05-15T16:08:52.288089Z",
          "iopub.execute_input": "2024-05-15T16:08:52.288408Z",
          "iopub.status.idle": "2024-05-15T16:08:52.298943Z",
          "shell.execute_reply.started": "2024-05-15T16:08:52.288376Z",
          "shell.execute_reply": "2024-05-15T16:08:52.297905Z"
        },
        "trusted": true,
        "id": "yf-KXbg8ThWD",
        "outputId": "8a532b8f-974d-42c0-9c8b-4d22f0e20007"
      },
      "execution_count": null,
      "outputs": [
        {
          "execution_count": 12,
          "output_type": "execute_result",
          "data": {
            "text/plain": "Product\nOrganic Choco Syrup     18\nBaker's Choco Chips     17\nManuka Honey Choco      17\nWhite Choc              17\nEclairs                 17\nAfter Nines             16\n70% Dark Bites          16\nMint Chip Choco         15\nFruit & Nut Bars        15\nCaramel Stuffed Bars    15\n99% Dark & Pure         14\nPeanut Butter Cubes     13\nRaspberry Choco         13\nMilk Bars               13\nChoco Coated Almonds    12\n50% Dark Bites          11\nDrinking Coco           11\nAlmond Choco            11\nSmooth Sliky Salty      10\nOrange Choco            10\nSpicy Special Slims     10\n85% Dark Bars            9\nName: count, dtype: int64"
          },
          "metadata": {}
        }
      ],
      "id": "yf-KXbg8ThWD"
    },
    {
      "cell_type": "code",
      "source": [
        "data.duplicated().sum()"
      ],
      "metadata": {
        "id": "h0q_2_GxVzb-",
        "execution": {
          "iopub.status.busy": "2024-05-15T16:08:52.300009Z",
          "iopub.execute_input": "2024-05-15T16:08:52.300300Z",
          "iopub.status.idle": "2024-05-15T16:08:52.315073Z",
          "shell.execute_reply.started": "2024-05-15T16:08:52.300276Z",
          "shell.execute_reply": "2024-05-15T16:08:52.313843Z"
        },
        "trusted": true,
        "outputId": "a31fd9a5-a5d3-4941-b466-f8abd8275257"
      },
      "execution_count": null,
      "outputs": [
        {
          "execution_count": 13,
          "output_type": "execute_result",
          "data": {
            "text/plain": "2"
          },
          "metadata": {}
        }
      ],
      "id": "h0q_2_GxVzb-"
    },
    {
      "cell_type": "code",
      "source": [
        "data.drop_duplicates(inplace= True)"
      ],
      "metadata": {
        "execution": {
          "iopub.status.busy": "2024-05-15T16:08:52.317112Z",
          "iopub.execute_input": "2024-05-15T16:08:52.317417Z",
          "iopub.status.idle": "2024-05-15T16:08:52.326263Z",
          "shell.execute_reply.started": "2024-05-15T16:08:52.317386Z",
          "shell.execute_reply": "2024-05-15T16:08:52.325299Z"
        },
        "trusted": true,
        "id": "QN_4MVtdThWE"
      },
      "execution_count": null,
      "outputs": [],
      "id": "QN_4MVtdThWE"
    },
    {
      "cell_type": "code",
      "source": [
        "data_list = data.groupby('Sales Person')['Product'].apply(list).reset_index()\n",
        "\n",
        "data_list"
      ],
      "metadata": {
        "execution": {
          "iopub.status.busy": "2024-05-15T16:08:52.327394Z",
          "iopub.execute_input": "2024-05-15T16:08:52.327711Z",
          "iopub.status.idle": "2024-05-15T16:08:52.349929Z",
          "shell.execute_reply.started": "2024-05-15T16:08:52.327681Z",
          "shell.execute_reply": "2024-05-15T16:08:52.348907Z"
        },
        "trusted": true,
        "id": "INq44NiNThWW",
        "outputId": "615b9851-dfba-4b9e-8a7a-97dd8db9f4b2"
      },
      "execution_count": null,
      "outputs": [
        {
          "execution_count": 15,
          "output_type": "execute_result",
          "data": {
            "text/plain": "      Sales Person                                            Product\n0     Barr Faughny  [White Choc, Milk Bars, Orange Choco, 99% Dark...\n1      Brien Boise  [Choco Coated Almonds, After Nines, Fruit & Nu...\n2     Carla Molina  [Drinking Coco, After Nines, Raspberry Choco, ...\n3     Ches Bonnell  [50% Dark Bites, Choco Coated Almonds, Orange ...\n4   Curtice Advani  [White Choc, Smooth Sliky Salty, Smooth Sliky ...\n5     Gigi Bohling  [50% Dark Bites, Orange Choco, Fruit & Nut Bar...\n6  Gunar Cockshoot  [Eclairs, White Choc, Manuka Honey Choco, Mint...\n7     Husein Augar  [Almond Choco, Mint Chip Choco, Fruit & Nut Ba...\n8       Oby Sorrel  [After Nines, Orange Choco, Fruit & Nut Bars, ...\n9       Ram Mahesh  [70% Dark Bites, Peanut Butter Cubes, After Ni...",
            "text/html": "<div>\n<style scoped>\n    .dataframe tbody tr th:only-of-type {\n        vertical-align: middle;\n    }\n\n    .dataframe tbody tr th {\n        vertical-align: top;\n    }\n\n    .dataframe thead th {\n        text-align: right;\n    }\n</style>\n<table border=\"1\" class=\"dataframe\">\n  <thead>\n    <tr style=\"text-align: right;\">\n      <th></th>\n      <th>Sales Person</th>\n      <th>Product</th>\n    </tr>\n  </thead>\n  <tbody>\n    <tr>\n      <th>0</th>\n      <td>Barr Faughny</td>\n      <td>[White Choc, Milk Bars, Orange Choco, 99% Dark...</td>\n    </tr>\n    <tr>\n      <th>1</th>\n      <td>Brien Boise</td>\n      <td>[Choco Coated Almonds, After Nines, Fruit &amp; Nu...</td>\n    </tr>\n    <tr>\n      <th>2</th>\n      <td>Carla Molina</td>\n      <td>[Drinking Coco, After Nines, Raspberry Choco, ...</td>\n    </tr>\n    <tr>\n      <th>3</th>\n      <td>Ches Bonnell</td>\n      <td>[50% Dark Bites, Choco Coated Almonds, Orange ...</td>\n    </tr>\n    <tr>\n      <th>4</th>\n      <td>Curtice Advani</td>\n      <td>[White Choc, Smooth Sliky Salty, Smooth Sliky ...</td>\n    </tr>\n    <tr>\n      <th>5</th>\n      <td>Gigi Bohling</td>\n      <td>[50% Dark Bites, Orange Choco, Fruit &amp; Nut Bar...</td>\n    </tr>\n    <tr>\n      <th>6</th>\n      <td>Gunar Cockshoot</td>\n      <td>[Eclairs, White Choc, Manuka Honey Choco, Mint...</td>\n    </tr>\n    <tr>\n      <th>7</th>\n      <td>Husein Augar</td>\n      <td>[Almond Choco, Mint Chip Choco, Fruit &amp; Nut Ba...</td>\n    </tr>\n    <tr>\n      <th>8</th>\n      <td>Oby Sorrel</td>\n      <td>[After Nines, Orange Choco, Fruit &amp; Nut Bars, ...</td>\n    </tr>\n    <tr>\n      <th>9</th>\n      <td>Ram Mahesh</td>\n      <td>[70% Dark Bites, Peanut Butter Cubes, After Ni...</td>\n    </tr>\n  </tbody>\n</table>\n</div>"
          },
          "metadata": {}
        }
      ],
      "id": "INq44NiNThWW"
    },
    {
      "cell_type": "code",
      "source": [
        "fix = data.pivot_table(index = 'Sales Person', columns = 'Product', values ='Units')\n",
        "fix"
      ],
      "metadata": {
        "execution": {
          "iopub.status.busy": "2024-05-15T16:08:52.351363Z",
          "iopub.execute_input": "2024-05-15T16:08:52.351823Z",
          "iopub.status.idle": "2024-05-15T16:08:52.399804Z",
          "shell.execute_reply.started": "2024-05-15T16:08:52.351796Z",
          "shell.execute_reply": "2024-05-15T16:08:52.398794Z"
        },
        "trusted": true,
        "id": "ezHEOYGRThWp",
        "outputId": "3db57053-8004-4a8b-f7d2-1de09a926171"
      },
      "execution_count": null,
      "outputs": [
        {
          "execution_count": 16,
          "output_type": "execute_result",
          "data": {
            "text/plain": "Product          50% Dark Bites  70% Dark Bites  85% Dark Bars  99% Dark & Pure  After Nines  Almond Choco  Baker's Choco Chips  Caramel Stuffed Bars  Choco Coated Almonds  Drinking Coco  Eclairs  Fruit & Nut Bars  Manuka Honey Choco  Milk Bars  Mint Chip Choco  Orange Choco  Organic Choco Syrup  Peanut Butter Cubes  Raspberry Choco  Smooth Sliky Salty  Spicy Special Slims  White Choc\nSales Person                                                                                                                                                                                                                                                                                                                                                                                       \nBarr Faughny               54.0             NaN            NaN             51.0       141.00           3.0                  NaN                163.50                   NaN          138.0    184.0              94.5                75.0       52.5             69.0         162.0                300.0                126.0             39.0               297.0                213.0       462.0\nBrien Boise                 NaN          138.00            NaN            204.0       163.00           NaN                 36.0                   NaN                 336.0           27.0      NaN             192.0               168.0      510.0            219.0         363.0                181.5                126.0             30.0               249.0                 82.5         NaN\nCarla Molina               72.0          207.00          102.0            145.5        73.50           NaN                190.5                262.50                  84.0          288.0     39.0             126.0                 NaN      150.0            225.0         123.0                129.0                174.0            208.5                 NaN                  9.0        21.0\nChes Bonnell              183.0          206.00          151.5            270.0       124.50           NaN                  0.0                273.00                  81.0          223.5    132.0               NaN               252.0        NaN            180.0         138.0                109.5                 48.0             24.0               117.0                  NaN        96.0\nCurtice Advani              NaN          158.25            3.0              NaN          NaN         190.0                231.0                459.00                  66.0          102.0    111.0             189.0               196.0       76.5            162.0         270.0                222.0                135.0             15.0                70.5                 49.5       244.5\nGigi Bohling               12.0          105.00          171.0            181.5       119.25           9.0                 51.0                   NaN                  21.0           89.0    348.0              15.0               229.5       58.5             39.0         339.0                 21.0                 93.0            201.0               147.0                  NaN        33.0\nGunar Cockshoot           265.5             NaN            NaN             18.0          NaN         366.0                176.0                225.75                 504.0            NaN    118.5             120.0               147.0        NaN            102.0          18.0                  NaN                306.0            276.0                 NaN                  NaN       105.0\nHusein Augar                NaN           57.00          183.0              NaN          NaN         177.0                168.0                 97.50                 189.0          204.0     91.5              91.5               273.0        NaN            154.5         294.0                174.0                 87.0            243.0                 NaN                 27.0       111.0\nOby Sorrel                310.5             NaN            NaN            204.0        82.50         126.0                  9.0                 27.00                 303.0          279.0     87.0             145.5               342.0       99.0              NaN         195.0                 72.0                 30.0              6.0                 NaN                265.0        93.0\nRam Mahesh                  NaN          280.50           49.5             91.5       192.00          69.0                 67.5                225.00                 234.0            NaN    156.0              75.0                94.5      249.0            174.0           NaN                141.0                227.0             42.0                39.0                  NaN        60.0",
            "text/html": "<div>\n<style scoped>\n    .dataframe tbody tr th:only-of-type {\n        vertical-align: middle;\n    }\n\n    .dataframe tbody tr th {\n        vertical-align: top;\n    }\n\n    .dataframe thead th {\n        text-align: right;\n    }\n</style>\n<table border=\"1\" class=\"dataframe\">\n  <thead>\n    <tr style=\"text-align: right;\">\n      <th>Product</th>\n      <th>50% Dark Bites</th>\n      <th>70% Dark Bites</th>\n      <th>85% Dark Bars</th>\n      <th>99% Dark &amp; Pure</th>\n      <th>After Nines</th>\n      <th>Almond Choco</th>\n      <th>Baker's Choco Chips</th>\n      <th>Caramel Stuffed Bars</th>\n      <th>Choco Coated Almonds</th>\n      <th>Drinking Coco</th>\n      <th>Eclairs</th>\n      <th>Fruit &amp; Nut Bars</th>\n      <th>Manuka Honey Choco</th>\n      <th>Milk Bars</th>\n      <th>Mint Chip Choco</th>\n      <th>Orange Choco</th>\n      <th>Organic Choco Syrup</th>\n      <th>Peanut Butter Cubes</th>\n      <th>Raspberry Choco</th>\n      <th>Smooth Sliky Salty</th>\n      <th>Spicy Special Slims</th>\n      <th>White Choc</th>\n    </tr>\n    <tr>\n      <th>Sales Person</th>\n      <th></th>\n      <th></th>\n      <th></th>\n      <th></th>\n      <th></th>\n      <th></th>\n      <th></th>\n      <th></th>\n      <th></th>\n      <th></th>\n      <th></th>\n      <th></th>\n      <th></th>\n      <th></th>\n      <th></th>\n      <th></th>\n      <th></th>\n      <th></th>\n      <th></th>\n      <th></th>\n      <th></th>\n      <th></th>\n    </tr>\n  </thead>\n  <tbody>\n    <tr>\n      <th>Barr Faughny</th>\n      <td>54.0</td>\n      <td>NaN</td>\n      <td>NaN</td>\n      <td>51.0</td>\n      <td>141.00</td>\n      <td>3.0</td>\n      <td>NaN</td>\n      <td>163.50</td>\n      <td>NaN</td>\n      <td>138.0</td>\n      <td>184.0</td>\n      <td>94.5</td>\n      <td>75.0</td>\n      <td>52.5</td>\n      <td>69.0</td>\n      <td>162.0</td>\n      <td>300.0</td>\n      <td>126.0</td>\n      <td>39.0</td>\n      <td>297.0</td>\n      <td>213.0</td>\n      <td>462.0</td>\n    </tr>\n    <tr>\n      <th>Brien Boise</th>\n      <td>NaN</td>\n      <td>138.00</td>\n      <td>NaN</td>\n      <td>204.0</td>\n      <td>163.00</td>\n      <td>NaN</td>\n      <td>36.0</td>\n      <td>NaN</td>\n      <td>336.0</td>\n      <td>27.0</td>\n      <td>NaN</td>\n      <td>192.0</td>\n      <td>168.0</td>\n      <td>510.0</td>\n      <td>219.0</td>\n      <td>363.0</td>\n      <td>181.5</td>\n      <td>126.0</td>\n      <td>30.0</td>\n      <td>249.0</td>\n      <td>82.5</td>\n      <td>NaN</td>\n    </tr>\n    <tr>\n      <th>Carla Molina</th>\n      <td>72.0</td>\n      <td>207.00</td>\n      <td>102.0</td>\n      <td>145.5</td>\n      <td>73.50</td>\n      <td>NaN</td>\n      <td>190.5</td>\n      <td>262.50</td>\n      <td>84.0</td>\n      <td>288.0</td>\n      <td>39.0</td>\n      <td>126.0</td>\n      <td>NaN</td>\n      <td>150.0</td>\n      <td>225.0</td>\n      <td>123.0</td>\n      <td>129.0</td>\n      <td>174.0</td>\n      <td>208.5</td>\n      <td>NaN</td>\n      <td>9.0</td>\n      <td>21.0</td>\n    </tr>\n    <tr>\n      <th>Ches Bonnell</th>\n      <td>183.0</td>\n      <td>206.00</td>\n      <td>151.5</td>\n      <td>270.0</td>\n      <td>124.50</td>\n      <td>NaN</td>\n      <td>0.0</td>\n      <td>273.00</td>\n      <td>81.0</td>\n      <td>223.5</td>\n      <td>132.0</td>\n      <td>NaN</td>\n      <td>252.0</td>\n      <td>NaN</td>\n      <td>180.0</td>\n      <td>138.0</td>\n      <td>109.5</td>\n      <td>48.0</td>\n      <td>24.0</td>\n      <td>117.0</td>\n      <td>NaN</td>\n      <td>96.0</td>\n    </tr>\n    <tr>\n      <th>Curtice Advani</th>\n      <td>NaN</td>\n      <td>158.25</td>\n      <td>3.0</td>\n      <td>NaN</td>\n      <td>NaN</td>\n      <td>190.0</td>\n      <td>231.0</td>\n      <td>459.00</td>\n      <td>66.0</td>\n      <td>102.0</td>\n      <td>111.0</td>\n      <td>189.0</td>\n      <td>196.0</td>\n      <td>76.5</td>\n      <td>162.0</td>\n      <td>270.0</td>\n      <td>222.0</td>\n      <td>135.0</td>\n      <td>15.0</td>\n      <td>70.5</td>\n      <td>49.5</td>\n      <td>244.5</td>\n    </tr>\n    <tr>\n      <th>Gigi Bohling</th>\n      <td>12.0</td>\n      <td>105.00</td>\n      <td>171.0</td>\n      <td>181.5</td>\n      <td>119.25</td>\n      <td>9.0</td>\n      <td>51.0</td>\n      <td>NaN</td>\n      <td>21.0</td>\n      <td>89.0</td>\n      <td>348.0</td>\n      <td>15.0</td>\n      <td>229.5</td>\n      <td>58.5</td>\n      <td>39.0</td>\n      <td>339.0</td>\n      <td>21.0</td>\n      <td>93.0</td>\n      <td>201.0</td>\n      <td>147.0</td>\n      <td>NaN</td>\n      <td>33.0</td>\n    </tr>\n    <tr>\n      <th>Gunar Cockshoot</th>\n      <td>265.5</td>\n      <td>NaN</td>\n      <td>NaN</td>\n      <td>18.0</td>\n      <td>NaN</td>\n      <td>366.0</td>\n      <td>176.0</td>\n      <td>225.75</td>\n      <td>504.0</td>\n      <td>NaN</td>\n      <td>118.5</td>\n      <td>120.0</td>\n      <td>147.0</td>\n      <td>NaN</td>\n      <td>102.0</td>\n      <td>18.0</td>\n      <td>NaN</td>\n      <td>306.0</td>\n      <td>276.0</td>\n      <td>NaN</td>\n      <td>NaN</td>\n      <td>105.0</td>\n    </tr>\n    <tr>\n      <th>Husein Augar</th>\n      <td>NaN</td>\n      <td>57.00</td>\n      <td>183.0</td>\n      <td>NaN</td>\n      <td>NaN</td>\n      <td>177.0</td>\n      <td>168.0</td>\n      <td>97.50</td>\n      <td>189.0</td>\n      <td>204.0</td>\n      <td>91.5</td>\n      <td>91.5</td>\n      <td>273.0</td>\n      <td>NaN</td>\n      <td>154.5</td>\n      <td>294.0</td>\n      <td>174.0</td>\n      <td>87.0</td>\n      <td>243.0</td>\n      <td>NaN</td>\n      <td>27.0</td>\n      <td>111.0</td>\n    </tr>\n    <tr>\n      <th>Oby Sorrel</th>\n      <td>310.5</td>\n      <td>NaN</td>\n      <td>NaN</td>\n      <td>204.0</td>\n      <td>82.50</td>\n      <td>126.0</td>\n      <td>9.0</td>\n      <td>27.00</td>\n      <td>303.0</td>\n      <td>279.0</td>\n      <td>87.0</td>\n      <td>145.5</td>\n      <td>342.0</td>\n      <td>99.0</td>\n      <td>NaN</td>\n      <td>195.0</td>\n      <td>72.0</td>\n      <td>30.0</td>\n      <td>6.0</td>\n      <td>NaN</td>\n      <td>265.0</td>\n      <td>93.0</td>\n    </tr>\n    <tr>\n      <th>Ram Mahesh</th>\n      <td>NaN</td>\n      <td>280.50</td>\n      <td>49.5</td>\n      <td>91.5</td>\n      <td>192.00</td>\n      <td>69.0</td>\n      <td>67.5</td>\n      <td>225.00</td>\n      <td>234.0</td>\n      <td>NaN</td>\n      <td>156.0</td>\n      <td>75.0</td>\n      <td>94.5</td>\n      <td>249.0</td>\n      <td>174.0</td>\n      <td>NaN</td>\n      <td>141.0</td>\n      <td>227.0</td>\n      <td>42.0</td>\n      <td>39.0</td>\n      <td>NaN</td>\n      <td>60.0</td>\n    </tr>\n  </tbody>\n</table>\n</div>"
          },
          "metadata": {}
        }
      ],
      "id": "ezHEOYGRThWp"
    },
    {
      "cell_type": "code",
      "source": [
        "fix = fix.fillna(0)\n",
        "fix[fix>0] = 1"
      ],
      "metadata": {
        "execution": {
          "iopub.status.busy": "2024-05-15T16:08:52.401309Z",
          "iopub.execute_input": "2024-05-15T16:08:52.402080Z",
          "iopub.status.idle": "2024-05-15T16:08:52.408319Z",
          "shell.execute_reply.started": "2024-05-15T16:08:52.402050Z",
          "shell.execute_reply": "2024-05-15T16:08:52.407294Z"
        },
        "trusted": true,
        "id": "kJkefgqdThWw"
      },
      "execution_count": null,
      "outputs": [],
      "id": "kJkefgqdThWw"
    },
    {
      "cell_type": "code",
      "source": [
        "fix"
      ],
      "metadata": {
        "execution": {
          "iopub.status.busy": "2024-05-15T16:08:52.409719Z",
          "iopub.execute_input": "2024-05-15T16:08:52.410076Z",
          "iopub.status.idle": "2024-05-15T16:08:52.451930Z",
          "shell.execute_reply.started": "2024-05-15T16:08:52.410048Z",
          "shell.execute_reply": "2024-05-15T16:08:52.450928Z"
        },
        "trusted": true,
        "id": "oTerzGEFThWx",
        "outputId": "08edd924-1aba-4f6e-e97a-800419fd03f3"
      },
      "execution_count": null,
      "outputs": [
        {
          "execution_count": 18,
          "output_type": "execute_result",
          "data": {
            "text/plain": "Product          50% Dark Bites  70% Dark Bites  85% Dark Bars  99% Dark & Pure  After Nines  Almond Choco  Baker's Choco Chips  Caramel Stuffed Bars  Choco Coated Almonds  Drinking Coco  Eclairs  Fruit & Nut Bars  Manuka Honey Choco  Milk Bars  Mint Chip Choco  Orange Choco  Organic Choco Syrup  Peanut Butter Cubes  Raspberry Choco  Smooth Sliky Salty  Spicy Special Slims  White Choc\nSales Person                                                                                                                                                                                                                                                                                                                                                                                       \nBarr Faughny                1.0             0.0            0.0              1.0          1.0           1.0                  0.0                   1.0                   0.0            1.0      1.0               1.0                 1.0        1.0              1.0           1.0                  1.0                  1.0              1.0                 1.0                  1.0         1.0\nBrien Boise                 0.0             1.0            0.0              1.0          1.0           0.0                  1.0                   0.0                   1.0            1.0      0.0               1.0                 1.0        1.0              1.0           1.0                  1.0                  1.0              1.0                 1.0                  1.0         0.0\nCarla Molina                1.0             1.0            1.0              1.0          1.0           0.0                  1.0                   1.0                   1.0            1.0      1.0               1.0                 0.0        1.0              1.0           1.0                  1.0                  1.0              1.0                 0.0                  1.0         1.0\nChes Bonnell                1.0             1.0            1.0              1.0          1.0           0.0                  0.0                   1.0                   1.0            1.0      1.0               0.0                 1.0        0.0              1.0           1.0                  1.0                  1.0              1.0                 1.0                  0.0         1.0\nCurtice Advani              0.0             1.0            1.0              0.0          0.0           1.0                  1.0                   1.0                   1.0            1.0      1.0               1.0                 1.0        1.0              1.0           1.0                  1.0                  1.0              1.0                 1.0                  1.0         1.0\nGigi Bohling                1.0             1.0            1.0              1.0          1.0           1.0                  1.0                   0.0                   1.0            1.0      1.0               1.0                 1.0        1.0              1.0           1.0                  1.0                  1.0              1.0                 1.0                  0.0         1.0\nGunar Cockshoot             1.0             0.0            0.0              1.0          0.0           1.0                  1.0                   1.0                   1.0            0.0      1.0               1.0                 1.0        0.0              1.0           1.0                  0.0                  1.0              1.0                 0.0                  0.0         1.0\nHusein Augar                0.0             1.0            1.0              0.0          0.0           1.0                  1.0                   1.0                   1.0            1.0      1.0               1.0                 1.0        0.0              1.0           1.0                  1.0                  1.0              1.0                 0.0                  1.0         1.0\nOby Sorrel                  1.0             0.0            0.0              1.0          1.0           1.0                  1.0                   1.0                   1.0            1.0      1.0               1.0                 1.0        1.0              0.0           1.0                  1.0                  1.0              1.0                 0.0                  1.0         1.0\nRam Mahesh                  0.0             1.0            1.0              1.0          1.0           1.0                  1.0                   1.0                   1.0            0.0      1.0               1.0                 1.0        1.0              1.0           0.0                  1.0                  1.0              1.0                 1.0                  0.0         1.0",
            "text/html": "<div>\n<style scoped>\n    .dataframe tbody tr th:only-of-type {\n        vertical-align: middle;\n    }\n\n    .dataframe tbody tr th {\n        vertical-align: top;\n    }\n\n    .dataframe thead th {\n        text-align: right;\n    }\n</style>\n<table border=\"1\" class=\"dataframe\">\n  <thead>\n    <tr style=\"text-align: right;\">\n      <th>Product</th>\n      <th>50% Dark Bites</th>\n      <th>70% Dark Bites</th>\n      <th>85% Dark Bars</th>\n      <th>99% Dark &amp; Pure</th>\n      <th>After Nines</th>\n      <th>Almond Choco</th>\n      <th>Baker's Choco Chips</th>\n      <th>Caramel Stuffed Bars</th>\n      <th>Choco Coated Almonds</th>\n      <th>Drinking Coco</th>\n      <th>Eclairs</th>\n      <th>Fruit &amp; Nut Bars</th>\n      <th>Manuka Honey Choco</th>\n      <th>Milk Bars</th>\n      <th>Mint Chip Choco</th>\n      <th>Orange Choco</th>\n      <th>Organic Choco Syrup</th>\n      <th>Peanut Butter Cubes</th>\n      <th>Raspberry Choco</th>\n      <th>Smooth Sliky Salty</th>\n      <th>Spicy Special Slims</th>\n      <th>White Choc</th>\n    </tr>\n    <tr>\n      <th>Sales Person</th>\n      <th></th>\n      <th></th>\n      <th></th>\n      <th></th>\n      <th></th>\n      <th></th>\n      <th></th>\n      <th></th>\n      <th></th>\n      <th></th>\n      <th></th>\n      <th></th>\n      <th></th>\n      <th></th>\n      <th></th>\n      <th></th>\n      <th></th>\n      <th></th>\n      <th></th>\n      <th></th>\n      <th></th>\n      <th></th>\n    </tr>\n  </thead>\n  <tbody>\n    <tr>\n      <th>Barr Faughny</th>\n      <td>1.0</td>\n      <td>0.0</td>\n      <td>0.0</td>\n      <td>1.0</td>\n      <td>1.0</td>\n      <td>1.0</td>\n      <td>0.0</td>\n      <td>1.0</td>\n      <td>0.0</td>\n      <td>1.0</td>\n      <td>1.0</td>\n      <td>1.0</td>\n      <td>1.0</td>\n      <td>1.0</td>\n      <td>1.0</td>\n      <td>1.0</td>\n      <td>1.0</td>\n      <td>1.0</td>\n      <td>1.0</td>\n      <td>1.0</td>\n      <td>1.0</td>\n      <td>1.0</td>\n    </tr>\n    <tr>\n      <th>Brien Boise</th>\n      <td>0.0</td>\n      <td>1.0</td>\n      <td>0.0</td>\n      <td>1.0</td>\n      <td>1.0</td>\n      <td>0.0</td>\n      <td>1.0</td>\n      <td>0.0</td>\n      <td>1.0</td>\n      <td>1.0</td>\n      <td>0.0</td>\n      <td>1.0</td>\n      <td>1.0</td>\n      <td>1.0</td>\n      <td>1.0</td>\n      <td>1.0</td>\n      <td>1.0</td>\n      <td>1.0</td>\n      <td>1.0</td>\n      <td>1.0</td>\n      <td>1.0</td>\n      <td>0.0</td>\n    </tr>\n    <tr>\n      <th>Carla Molina</th>\n      <td>1.0</td>\n      <td>1.0</td>\n      <td>1.0</td>\n      <td>1.0</td>\n      <td>1.0</td>\n      <td>0.0</td>\n      <td>1.0</td>\n      <td>1.0</td>\n      <td>1.0</td>\n      <td>1.0</td>\n      <td>1.0</td>\n      <td>1.0</td>\n      <td>0.0</td>\n      <td>1.0</td>\n      <td>1.0</td>\n      <td>1.0</td>\n      <td>1.0</td>\n      <td>1.0</td>\n      <td>1.0</td>\n      <td>0.0</td>\n      <td>1.0</td>\n      <td>1.0</td>\n    </tr>\n    <tr>\n      <th>Ches Bonnell</th>\n      <td>1.0</td>\n      <td>1.0</td>\n      <td>1.0</td>\n      <td>1.0</td>\n      <td>1.0</td>\n      <td>0.0</td>\n      <td>0.0</td>\n      <td>1.0</td>\n      <td>1.0</td>\n      <td>1.0</td>\n      <td>1.0</td>\n      <td>0.0</td>\n      <td>1.0</td>\n      <td>0.0</td>\n      <td>1.0</td>\n      <td>1.0</td>\n      <td>1.0</td>\n      <td>1.0</td>\n      <td>1.0</td>\n      <td>1.0</td>\n      <td>0.0</td>\n      <td>1.0</td>\n    </tr>\n    <tr>\n      <th>Curtice Advani</th>\n      <td>0.0</td>\n      <td>1.0</td>\n      <td>1.0</td>\n      <td>0.0</td>\n      <td>0.0</td>\n      <td>1.0</td>\n      <td>1.0</td>\n      <td>1.0</td>\n      <td>1.0</td>\n      <td>1.0</td>\n      <td>1.0</td>\n      <td>1.0</td>\n      <td>1.0</td>\n      <td>1.0</td>\n      <td>1.0</td>\n      <td>1.0</td>\n      <td>1.0</td>\n      <td>1.0</td>\n      <td>1.0</td>\n      <td>1.0</td>\n      <td>1.0</td>\n      <td>1.0</td>\n    </tr>\n    <tr>\n      <th>Gigi Bohling</th>\n      <td>1.0</td>\n      <td>1.0</td>\n      <td>1.0</td>\n      <td>1.0</td>\n      <td>1.0</td>\n      <td>1.0</td>\n      <td>1.0</td>\n      <td>0.0</td>\n      <td>1.0</td>\n      <td>1.0</td>\n      <td>1.0</td>\n      <td>1.0</td>\n      <td>1.0</td>\n      <td>1.0</td>\n      <td>1.0</td>\n      <td>1.0</td>\n      <td>1.0</td>\n      <td>1.0</td>\n      <td>1.0</td>\n      <td>1.0</td>\n      <td>0.0</td>\n      <td>1.0</td>\n    </tr>\n    <tr>\n      <th>Gunar Cockshoot</th>\n      <td>1.0</td>\n      <td>0.0</td>\n      <td>0.0</td>\n      <td>1.0</td>\n      <td>0.0</td>\n      <td>1.0</td>\n      <td>1.0</td>\n      <td>1.0</td>\n      <td>1.0</td>\n      <td>0.0</td>\n      <td>1.0</td>\n      <td>1.0</td>\n      <td>1.0</td>\n      <td>0.0</td>\n      <td>1.0</td>\n      <td>1.0</td>\n      <td>0.0</td>\n      <td>1.0</td>\n      <td>1.0</td>\n      <td>0.0</td>\n      <td>0.0</td>\n      <td>1.0</td>\n    </tr>\n    <tr>\n      <th>Husein Augar</th>\n      <td>0.0</td>\n      <td>1.0</td>\n      <td>1.0</td>\n      <td>0.0</td>\n      <td>0.0</td>\n      <td>1.0</td>\n      <td>1.0</td>\n      <td>1.0</td>\n      <td>1.0</td>\n      <td>1.0</td>\n      <td>1.0</td>\n      <td>1.0</td>\n      <td>1.0</td>\n      <td>0.0</td>\n      <td>1.0</td>\n      <td>1.0</td>\n      <td>1.0</td>\n      <td>1.0</td>\n      <td>1.0</td>\n      <td>0.0</td>\n      <td>1.0</td>\n      <td>1.0</td>\n    </tr>\n    <tr>\n      <th>Oby Sorrel</th>\n      <td>1.0</td>\n      <td>0.0</td>\n      <td>0.0</td>\n      <td>1.0</td>\n      <td>1.0</td>\n      <td>1.0</td>\n      <td>1.0</td>\n      <td>1.0</td>\n      <td>1.0</td>\n      <td>1.0</td>\n      <td>1.0</td>\n      <td>1.0</td>\n      <td>1.0</td>\n      <td>1.0</td>\n      <td>0.0</td>\n      <td>1.0</td>\n      <td>1.0</td>\n      <td>1.0</td>\n      <td>1.0</td>\n      <td>0.0</td>\n      <td>1.0</td>\n      <td>1.0</td>\n    </tr>\n    <tr>\n      <th>Ram Mahesh</th>\n      <td>0.0</td>\n      <td>1.0</td>\n      <td>1.0</td>\n      <td>1.0</td>\n      <td>1.0</td>\n      <td>1.0</td>\n      <td>1.0</td>\n      <td>1.0</td>\n      <td>1.0</td>\n      <td>0.0</td>\n      <td>1.0</td>\n      <td>1.0</td>\n      <td>1.0</td>\n      <td>1.0</td>\n      <td>1.0</td>\n      <td>0.0</td>\n      <td>1.0</td>\n      <td>1.0</td>\n      <td>1.0</td>\n      <td>1.0</td>\n      <td>0.0</td>\n      <td>1.0</td>\n    </tr>\n  </tbody>\n</table>\n</div>"
          },
          "metadata": {}
        }
      ],
      "id": "oTerzGEFThWx"
    },
    {
      "cell_type": "code",
      "source": [
        "fix.shape"
      ],
      "metadata": {
        "execution": {
          "iopub.status.busy": "2024-05-15T16:08:52.453630Z",
          "iopub.execute_input": "2024-05-15T16:08:52.454042Z",
          "iopub.status.idle": "2024-05-15T16:08:52.460674Z",
          "shell.execute_reply.started": "2024-05-15T16:08:52.454006Z",
          "shell.execute_reply": "2024-05-15T16:08:52.459622Z"
        },
        "trusted": true,
        "id": "W6ZESuvTThWy",
        "outputId": "21e6bbd1-19f2-43ac-b21d-34472c03697a"
      },
      "execution_count": null,
      "outputs": [
        {
          "execution_count": 19,
          "output_type": "execute_result",
          "data": {
            "text/plain": "(10, 22)"
          },
          "metadata": {}
        }
      ],
      "id": "W6ZESuvTThWy"
    },
    {
      "cell_type": "markdown",
      "source": [
        "## 3 - Frequent Itemset Mining\n"
      ],
      "metadata": {
        "id": "TWtX9RnZXXHd"
      },
      "id": "TWtX9RnZXXHd"
    },
    {
      "cell_type": "code",
      "source": [
        "import mlxtend as ml\n",
        "# from scipy import sparse\n",
        "from mlxtend.frequent_patterns import apriori\n",
        "from mlxtend.frequent_patterns import association_rules\n",
        "from mlxtend.preprocessing import TransactionEncoder\n",
        "from mlxtend.frequent_patterns import fpgrowth"
      ],
      "metadata": {
        "execution": {
          "iopub.status.busy": "2024-05-15T16:08:52.463994Z",
          "iopub.execute_input": "2024-05-15T16:08:52.464300Z",
          "iopub.status.idle": "2024-05-15T16:08:52.985819Z",
          "shell.execute_reply.started": "2024-05-15T16:08:52.464273Z",
          "shell.execute_reply": "2024-05-15T16:08:52.984795Z"
        },
        "trusted": true,
        "id": "FUmcHwcLThWz"
      },
      "execution_count": null,
      "outputs": [],
      "id": "FUmcHwcLThWz"
    },
    {
      "cell_type": "markdown",
      "source": [
        "### **Apriori**"
      ],
      "metadata": {
        "id": "Wsw69ixGXuUH"
      },
      "id": "Wsw69ixGXuUH"
    },
    {
      "cell_type": "code",
      "source": [
        "apriori_frequent_itemsets = apriori(fix, min_support =0.9, use_colnames=True)"
      ],
      "metadata": {
        "id": "fxA1q-cBXZXF",
        "execution": {
          "iopub.status.busy": "2024-05-15T16:11:59.071275Z",
          "iopub.execute_input": "2024-05-15T16:11:59.071666Z",
          "iopub.status.idle": "2024-05-15T16:11:59.085344Z",
          "shell.execute_reply.started": "2024-05-15T16:11:59.071628Z",
          "shell.execute_reply": "2024-05-15T16:11:59.084041Z"
        },
        "trusted": true,
        "outputId": "2a8d9422-4d52-4851-c2d6-60d38a096de9"
      },
      "execution_count": null,
      "outputs": [
        {
          "name": "stderr",
          "text": "/opt/conda/lib/python3.10/site-packages/mlxtend/frequent_patterns/fpcommon.py:109: DeprecationWarning: DataFrames with non-bool types result in worse computationalperformance and their support might be discontinued in the future.Please use a DataFrame with bool type\n  warnings.warn(\n",
          "output_type": "stream"
        }
      ],
      "id": "fxA1q-cBXZXF"
    },
    {
      "cell_type": "code",
      "source": [
        "apriori_frequent_itemsets"
      ],
      "metadata": {
        "id": "Fl6GPFryXyW0",
        "execution": {
          "iopub.status.busy": "2024-05-15T16:12:01.597130Z",
          "iopub.execute_input": "2024-05-15T16:12:01.597548Z",
          "iopub.status.idle": "2024-05-15T16:12:01.621456Z",
          "shell.execute_reply.started": "2024-05-15T16:12:01.597515Z",
          "shell.execute_reply": "2024-05-15T16:12:01.620408Z"
        },
        "trusted": true,
        "outputId": "9b23f586-357f-4a3b-8815-d5fa0120e36e"
      },
      "execution_count": null,
      "outputs": [
        {
          "execution_count": 39,
          "output_type": "execute_result",
          "data": {
            "text/plain": "    support                                           itemsets\n0       0.9                             (Choco Coated Almonds)\n1       0.9                                          (Eclairs)\n2       0.9                                 (Fruit & Nut Bars)\n3       0.9                               (Manuka Honey Choco)\n4       0.9                                  (Mint Chip Choco)\n5       0.9                                     (Orange Choco)\n6       0.9                              (Organic Choco Syrup)\n7       1.0                              (Peanut Butter Cubes)\n8       1.0                                  (Raspberry Choco)\n9       0.9                                       (White Choc)\n10      0.9        (Choco Coated Almonds, Peanut Butter Cubes)\n11      0.9            (Raspberry Choco, Choco Coated Almonds)\n12      0.9                     (Eclairs, Peanut Butter Cubes)\n13      0.9                         (Eclairs, Raspberry Choco)\n14      0.9                              (Eclairs, White Choc)\n15      0.9            (Peanut Butter Cubes, Fruit & Nut Bars)\n16      0.9                (Raspberry Choco, Fruit & Nut Bars)\n17      0.9          (Peanut Butter Cubes, Manuka Honey Choco)\n18      0.9              (Raspberry Choco, Manuka Honey Choco)\n19      0.9             (Mint Chip Choco, Peanut Butter Cubes)\n20      0.9                 (Mint Chip Choco, Raspberry Choco)\n21      0.9                (Peanut Butter Cubes, Orange Choco)\n22      0.9                    (Raspberry Choco, Orange Choco)\n23      0.9         (Peanut Butter Cubes, Organic Choco Syrup)\n24      0.9             (Raspberry Choco, Organic Choco Syrup)\n25      1.0             (Raspberry Choco, Peanut Butter Cubes)\n26      0.9                  (Peanut Butter Cubes, White Choc)\n27      0.9                      (Raspberry Choco, White Choc)\n28      0.9  (Raspberry Choco, Choco Coated Almonds, Peanut...\n29      0.9    (Eclairs, Peanut Butter Cubes, Raspberry Choco)\n30      0.9         (Eclairs, Peanut Butter Cubes, White Choc)\n31      0.9             (Eclairs, White Choc, Raspberry Choco)\n32      0.9  (Raspberry Choco, Peanut Butter Cubes, Fruit &...\n33      0.9  (Raspberry Choco, Peanut Butter Cubes, Manuka ...\n34      0.9  (Mint Chip Choco, Raspberry Choco, Peanut Butt...\n35      0.9  (Raspberry Choco, Peanut Butter Cubes, Orange ...\n36      0.9  (Raspberry Choco, Peanut Butter Cubes, Organic...\n37      0.9  (Raspberry Choco, Peanut Butter Cubes, White C...\n38      0.9  (Eclairs, Peanut Butter Cubes, White Choc, Ras...",
            "text/html": "<div>\n<style scoped>\n    .dataframe tbody tr th:only-of-type {\n        vertical-align: middle;\n    }\n\n    .dataframe tbody tr th {\n        vertical-align: top;\n    }\n\n    .dataframe thead th {\n        text-align: right;\n    }\n</style>\n<table border=\"1\" class=\"dataframe\">\n  <thead>\n    <tr style=\"text-align: right;\">\n      <th></th>\n      <th>support</th>\n      <th>itemsets</th>\n    </tr>\n  </thead>\n  <tbody>\n    <tr>\n      <th>0</th>\n      <td>0.9</td>\n      <td>(Choco Coated Almonds)</td>\n    </tr>\n    <tr>\n      <th>1</th>\n      <td>0.9</td>\n      <td>(Eclairs)</td>\n    </tr>\n    <tr>\n      <th>2</th>\n      <td>0.9</td>\n      <td>(Fruit &amp; Nut Bars)</td>\n    </tr>\n    <tr>\n      <th>3</th>\n      <td>0.9</td>\n      <td>(Manuka Honey Choco)</td>\n    </tr>\n    <tr>\n      <th>4</th>\n      <td>0.9</td>\n      <td>(Mint Chip Choco)</td>\n    </tr>\n    <tr>\n      <th>5</th>\n      <td>0.9</td>\n      <td>(Orange Choco)</td>\n    </tr>\n    <tr>\n      <th>6</th>\n      <td>0.9</td>\n      <td>(Organic Choco Syrup)</td>\n    </tr>\n    <tr>\n      <th>7</th>\n      <td>1.0</td>\n      <td>(Peanut Butter Cubes)</td>\n    </tr>\n    <tr>\n      <th>8</th>\n      <td>1.0</td>\n      <td>(Raspberry Choco)</td>\n    </tr>\n    <tr>\n      <th>9</th>\n      <td>0.9</td>\n      <td>(White Choc)</td>\n    </tr>\n    <tr>\n      <th>10</th>\n      <td>0.9</td>\n      <td>(Choco Coated Almonds, Peanut Butter Cubes)</td>\n    </tr>\n    <tr>\n      <th>11</th>\n      <td>0.9</td>\n      <td>(Raspberry Choco, Choco Coated Almonds)</td>\n    </tr>\n    <tr>\n      <th>12</th>\n      <td>0.9</td>\n      <td>(Eclairs, Peanut Butter Cubes)</td>\n    </tr>\n    <tr>\n      <th>13</th>\n      <td>0.9</td>\n      <td>(Eclairs, Raspberry Choco)</td>\n    </tr>\n    <tr>\n      <th>14</th>\n      <td>0.9</td>\n      <td>(Eclairs, White Choc)</td>\n    </tr>\n    <tr>\n      <th>15</th>\n      <td>0.9</td>\n      <td>(Peanut Butter Cubes, Fruit &amp; Nut Bars)</td>\n    </tr>\n    <tr>\n      <th>16</th>\n      <td>0.9</td>\n      <td>(Raspberry Choco, Fruit &amp; Nut Bars)</td>\n    </tr>\n    <tr>\n      <th>17</th>\n      <td>0.9</td>\n      <td>(Peanut Butter Cubes, Manuka Honey Choco)</td>\n    </tr>\n    <tr>\n      <th>18</th>\n      <td>0.9</td>\n      <td>(Raspberry Choco, Manuka Honey Choco)</td>\n    </tr>\n    <tr>\n      <th>19</th>\n      <td>0.9</td>\n      <td>(Mint Chip Choco, Peanut Butter Cubes)</td>\n    </tr>\n    <tr>\n      <th>20</th>\n      <td>0.9</td>\n      <td>(Mint Chip Choco, Raspberry Choco)</td>\n    </tr>\n    <tr>\n      <th>21</th>\n      <td>0.9</td>\n      <td>(Peanut Butter Cubes, Orange Choco)</td>\n    </tr>\n    <tr>\n      <th>22</th>\n      <td>0.9</td>\n      <td>(Raspberry Choco, Orange Choco)</td>\n    </tr>\n    <tr>\n      <th>23</th>\n      <td>0.9</td>\n      <td>(Peanut Butter Cubes, Organic Choco Syrup)</td>\n    </tr>\n    <tr>\n      <th>24</th>\n      <td>0.9</td>\n      <td>(Raspberry Choco, Organic Choco Syrup)</td>\n    </tr>\n    <tr>\n      <th>25</th>\n      <td>1.0</td>\n      <td>(Raspberry Choco, Peanut Butter Cubes)</td>\n    </tr>\n    <tr>\n      <th>26</th>\n      <td>0.9</td>\n      <td>(Peanut Butter Cubes, White Choc)</td>\n    </tr>\n    <tr>\n      <th>27</th>\n      <td>0.9</td>\n      <td>(Raspberry Choco, White Choc)</td>\n    </tr>\n    <tr>\n      <th>28</th>\n      <td>0.9</td>\n      <td>(Raspberry Choco, Choco Coated Almonds, Peanut...</td>\n    </tr>\n    <tr>\n      <th>29</th>\n      <td>0.9</td>\n      <td>(Eclairs, Peanut Butter Cubes, Raspberry Choco)</td>\n    </tr>\n    <tr>\n      <th>30</th>\n      <td>0.9</td>\n      <td>(Eclairs, Peanut Butter Cubes, White Choc)</td>\n    </tr>\n    <tr>\n      <th>31</th>\n      <td>0.9</td>\n      <td>(Eclairs, White Choc, Raspberry Choco)</td>\n    </tr>\n    <tr>\n      <th>32</th>\n      <td>0.9</td>\n      <td>(Raspberry Choco, Peanut Butter Cubes, Fruit &amp;...</td>\n    </tr>\n    <tr>\n      <th>33</th>\n      <td>0.9</td>\n      <td>(Raspberry Choco, Peanut Butter Cubes, Manuka ...</td>\n    </tr>\n    <tr>\n      <th>34</th>\n      <td>0.9</td>\n      <td>(Mint Chip Choco, Raspberry Choco, Peanut Butt...</td>\n    </tr>\n    <tr>\n      <th>35</th>\n      <td>0.9</td>\n      <td>(Raspberry Choco, Peanut Butter Cubes, Orange ...</td>\n    </tr>\n    <tr>\n      <th>36</th>\n      <td>0.9</td>\n      <td>(Raspberry Choco, Peanut Butter Cubes, Organic...</td>\n    </tr>\n    <tr>\n      <th>37</th>\n      <td>0.9</td>\n      <td>(Raspberry Choco, Peanut Butter Cubes, White C...</td>\n    </tr>\n    <tr>\n      <th>38</th>\n      <td>0.9</td>\n      <td>(Eclairs, Peanut Butter Cubes, White Choc, Ras...</td>\n    </tr>\n  </tbody>\n</table>\n</div>"
          },
          "metadata": {}
        }
      ],
      "id": "Fl6GPFryXyW0"
    },
    {
      "cell_type": "code",
      "source": [
        "apriori_frequent_itemsets['itemsets'].apply(lambda x: len(x)).value_counts()"
      ],
      "metadata": {
        "execution": {
          "iopub.status.busy": "2024-05-15T16:12:11.534782Z",
          "iopub.execute_input": "2024-05-15T16:12:11.535175Z",
          "iopub.status.idle": "2024-05-15T16:12:11.544202Z",
          "shell.execute_reply.started": "2024-05-15T16:12:11.535148Z",
          "shell.execute_reply": "2024-05-15T16:12:11.543116Z"
        },
        "trusted": true,
        "id": "EppzV2b1ThW2",
        "outputId": "d78a07df-bc36-46d4-d0a4-2e1f01b37ad8"
      },
      "execution_count": null,
      "outputs": [
        {
          "execution_count": 40,
          "output_type": "execute_result",
          "data": {
            "text/plain": "itemsets\n2    18\n1    10\n3    10\n4     1\nName: count, dtype: int64"
          },
          "metadata": {}
        }
      ],
      "id": "EppzV2b1ThW2"
    },
    {
      "cell_type": "code",
      "source": [
        "apriori_frequent_itemsets['support'].describe()"
      ],
      "metadata": {
        "execution": {
          "iopub.status.busy": "2024-05-15T16:12:18.023780Z",
          "iopub.execute_input": "2024-05-15T16:12:18.024186Z",
          "iopub.status.idle": "2024-05-15T16:12:18.037019Z",
          "shell.execute_reply.started": "2024-05-15T16:12:18.024156Z",
          "shell.execute_reply": "2024-05-15T16:12:18.035661Z"
        },
        "trusted": true,
        "id": "QO6hQvJ7ThW2",
        "outputId": "51f668d8-d67c-475b-be28-f732b466f9e8"
      },
      "execution_count": null,
      "outputs": [
        {
          "execution_count": 41,
          "output_type": "execute_result",
          "data": {
            "text/plain": "count    39.000000\nmean      0.907692\nstd       0.026995\nmin       0.900000\n25%       0.900000\n50%       0.900000\n75%       0.900000\nmax       1.000000\nName: support, dtype: float64"
          },
          "metadata": {}
        }
      ],
      "id": "QO6hQvJ7ThW2"
    },
    {
      "cell_type": "markdown",
      "source": [
        "#### **Penjelasan**\n",
        "---\n",
        "Dengan menggunakan treshold support 90 persen, didapat 10 item memenuhi 1 set item frequent, terdapat 18 set frequent set 2 item, 10 set frequent set 3 item, dan 1 set frequent set 4 item. Item yang memenuhi frequent, memiliki rata-rata support/peluang sebesar 0.907692 dengan nilai minimum 0.9 dan terbesar 1.0.  \n",
        "\n"
      ],
      "metadata": {
        "id": "eP4te8wiXzFb"
      },
      "id": "eP4te8wiXzFb"
    },
    {
      "cell_type": "markdown",
      "source": [
        "### Fpgrowth"
      ],
      "metadata": {
        "id": "vD6ve_gsX3_d"
      },
      "id": "vD6ve_gsX3_d"
    },
    {
      "cell_type": "code",
      "source": [
        "fpgrowth_frequent_itemsets = fpgrowth(fix, min_support=0.9, use_colnames=True)"
      ],
      "metadata": {
        "id": "5c9kNZoVXZZC",
        "execution": {
          "iopub.status.busy": "2024-05-15T16:16:17.431678Z",
          "iopub.execute_input": "2024-05-15T16:16:17.432148Z",
          "iopub.status.idle": "2024-05-15T16:16:17.930427Z",
          "shell.execute_reply.started": "2024-05-15T16:16:17.432116Z",
          "shell.execute_reply": "2024-05-15T16:16:17.929106Z"
        },
        "trusted": true,
        "outputId": "32e8626e-3b9c-47d9-e13e-333762e126f4"
      },
      "execution_count": null,
      "outputs": [
        {
          "name": "stderr",
          "text": "/opt/conda/lib/python3.10/site-packages/mlxtend/frequent_patterns/fpcommon.py:109: DeprecationWarning: DataFrames with non-bool types result in worse computationalperformance and their support might be discontinued in the future.Please use a DataFrame with bool type\n  warnings.warn(\n",
          "output_type": "stream"
        }
      ],
      "id": "5c9kNZoVXZZC"
    },
    {
      "cell_type": "code",
      "source": [
        "fpgrowth_frequent_itemsets['itemsets'].apply(lambda x: len(x)).value_counts()"
      ],
      "metadata": {
        "id": "mHYfdAZoXZcE",
        "execution": {
          "iopub.status.busy": "2024-05-15T16:16:23.411826Z",
          "iopub.execute_input": "2024-05-15T16:16:23.412795Z",
          "iopub.status.idle": "2024-05-15T16:16:23.420686Z",
          "shell.execute_reply.started": "2024-05-15T16:16:23.412761Z",
          "shell.execute_reply": "2024-05-15T16:16:23.419616Z"
        },
        "trusted": true,
        "outputId": "33bea1a9-b0fa-49c9-d7b1-169756fdc0af"
      },
      "execution_count": null,
      "outputs": [
        {
          "execution_count": 47,
          "output_type": "execute_result",
          "data": {
            "text/plain": "itemsets\n2    18\n1    10\n3    10\n4     1\nName: count, dtype: int64"
          },
          "metadata": {}
        }
      ],
      "id": "mHYfdAZoXZcE"
    },
    {
      "cell_type": "code",
      "source": [
        "fpgrowth_frequent_itemsets['support'].describe()"
      ],
      "metadata": {
        "execution": {
          "iopub.status.busy": "2024-05-15T16:16:28.051257Z",
          "iopub.execute_input": "2024-05-15T16:16:28.051656Z",
          "iopub.status.idle": "2024-05-15T16:16:28.061792Z",
          "shell.execute_reply.started": "2024-05-15T16:16:28.051625Z",
          "shell.execute_reply": "2024-05-15T16:16:28.060835Z"
        },
        "trusted": true,
        "id": "YZfNmKSFThW5",
        "outputId": "49eb62b4-8dde-44d7-ee86-abfd2dabbba3"
      },
      "execution_count": null,
      "outputs": [
        {
          "execution_count": 48,
          "output_type": "execute_result",
          "data": {
            "text/plain": "count    39.000000\nmean      0.907692\nstd       0.026995\nmin       0.900000\n25%       0.900000\n50%       0.900000\n75%       0.900000\nmax       1.000000\nName: support, dtype: float64"
          },
          "metadata": {}
        }
      ],
      "id": "YZfNmKSFThW5"
    },
    {
      "cell_type": "markdown",
      "source": [
        "#### **Penjelasan**\n",
        "---\n",
        "Ketika digunakan metode fpgrowth, ternyata memiliki hasil yang sama dengan menggunakan metode apriori. Dengan menggunakan treshold support 90 persen, didapat 10 item memenuhi 1 set item frequent, terdapat 18 set frequent set 2 item, 10 set frequent set 3 item, dan 1 set frequent set 4 item. Item yang memenuhi frequent, memiliki rata-rata support/peluang sebesar 0.907692 dengan nilai minimum 0.9 dan terbesar 1.0.\n",
        "\n"
      ],
      "metadata": {
        "id": "ct94eohbThW5"
      },
      "id": "ct94eohbThW5"
    },
    {
      "cell_type": "markdown",
      "source": [
        "## 4 - Association Rule\n",
        "Bagian ini tidak harus menyertakan tampilan visualisasi\n"
      ],
      "metadata": {
        "id": "gfM5x9vOZWRM"
      },
      "id": "gfM5x9vOZWRM"
    },
    {
      "cell_type": "code",
      "source": [
        "rules = association_rules(fpgrowth_frequent_itemsets, metric=\"confidence\", min_threshold=0.01)"
      ],
      "metadata": {
        "id": "rTbytJHKZen4",
        "execution": {
          "iopub.status.busy": "2024-05-15T16:16:35.672202Z",
          "iopub.execute_input": "2024-05-15T16:16:35.672626Z",
          "iopub.status.idle": "2024-05-15T16:16:35.682241Z",
          "shell.execute_reply.started": "2024-05-15T16:16:35.672595Z",
          "shell.execute_reply": "2024-05-15T16:16:35.681112Z"
        },
        "trusted": true
      },
      "execution_count": null,
      "outputs": [],
      "id": "rTbytJHKZen4"
    },
    {
      "cell_type": "code",
      "source": [
        "rules = rules.sort_values(by=['confidence','lift'], ascending=False)"
      ],
      "metadata": {
        "id": "kOvlsDTQZgzW",
        "execution": {
          "iopub.status.busy": "2024-05-15T16:16:41.467142Z",
          "iopub.execute_input": "2024-05-15T16:16:41.467533Z",
          "iopub.status.idle": "2024-05-15T16:16:41.475088Z",
          "shell.execute_reply.started": "2024-05-15T16:16:41.467505Z",
          "shell.execute_reply": "2024-05-15T16:16:41.473916Z"
        },
        "trusted": true
      },
      "execution_count": null,
      "outputs": [],
      "id": "kOvlsDTQZgzW"
    },
    {
      "cell_type": "code",
      "source": [
        "rules"
      ],
      "metadata": {
        "execution": {
          "iopub.status.busy": "2024-05-15T16:17:12.110676Z",
          "iopub.execute_input": "2024-05-15T16:17:12.111683Z",
          "iopub.status.idle": "2024-05-15T16:17:12.140515Z",
          "shell.execute_reply.started": "2024-05-15T16:17:12.111644Z",
          "shell.execute_reply": "2024-05-15T16:17:12.139359Z"
        },
        "trusted": true,
        "id": "LhGlveWrThXB",
        "outputId": "774e7e6e-7239-494b-e3e2-be66d4574b0c"
      },
      "execution_count": null,
      "outputs": [
        {
          "execution_count": 52,
          "output_type": "execute_result",
          "data": {
            "text/plain": "                                antecedents                                  consequents  antecedent support  consequent support  support  confidence      lift  leverage  conviction  zhangs_metric\n62                                (Eclairs)                                 (White Choc)                 0.9                 0.9      0.9         1.0  1.111111      0.09         inf            1.0\n63                             (White Choc)                                    (Eclairs)                 0.9                 0.9      0.9         1.0  1.111111      0.09         inf            1.0\n68           (Eclairs, Peanut Butter Cubes)                                 (White Choc)                 0.9                 0.9      0.9         1.0  1.111111      0.09         inf            1.0\n70        (Peanut Butter Cubes, White Choc)                                    (Eclairs)                 0.9                 0.9      0.9         1.0  1.111111      0.09         inf            1.0\n71                                (Eclairs)            (Peanut Butter Cubes, White Choc)                 0.9                 0.9      0.9         1.0  1.111111      0.09         inf            1.0\n..                                      ...                                          ...                 ...                 ...      ...         ...       ...       ...         ...            ...\n101                   (Peanut Butter Cubes)                       (Choco Coated Almonds)                 1.0                 0.9      0.9         0.9  1.000000      0.00         1.0            0.0\n102                       (Raspberry Choco)                       (Choco Coated Almonds)                 1.0                 0.9      0.9         0.9  1.000000      0.00         1.0            0.0\n105  (Raspberry Choco, Peanut Butter Cubes)                       (Choco Coated Almonds)                 1.0                 0.9      0.9         0.9  1.000000      0.00         1.0            0.0\n107                       (Raspberry Choco)  (Choco Coated Almonds, Peanut Butter Cubes)                 1.0                 0.9      0.9         0.9  1.000000      0.00         1.0            0.0\n109                   (Peanut Butter Cubes)      (Raspberry Choco, Choco Coated Almonds)                 1.0                 0.9      0.9         0.9  1.000000      0.00         1.0            0.0\n\n[110 rows x 10 columns]",
            "text/html": "<div>\n<style scoped>\n    .dataframe tbody tr th:only-of-type {\n        vertical-align: middle;\n    }\n\n    .dataframe tbody tr th {\n        vertical-align: top;\n    }\n\n    .dataframe thead th {\n        text-align: right;\n    }\n</style>\n<table border=\"1\" class=\"dataframe\">\n  <thead>\n    <tr style=\"text-align: right;\">\n      <th></th>\n      <th>antecedents</th>\n      <th>consequents</th>\n      <th>antecedent support</th>\n      <th>consequent support</th>\n      <th>support</th>\n      <th>confidence</th>\n      <th>lift</th>\n      <th>leverage</th>\n      <th>conviction</th>\n      <th>zhangs_metric</th>\n    </tr>\n  </thead>\n  <tbody>\n    <tr>\n      <th>62</th>\n      <td>(Eclairs)</td>\n      <td>(White Choc)</td>\n      <td>0.9</td>\n      <td>0.9</td>\n      <td>0.9</td>\n      <td>1.0</td>\n      <td>1.111111</td>\n      <td>0.09</td>\n      <td>inf</td>\n      <td>1.0</td>\n    </tr>\n    <tr>\n      <th>63</th>\n      <td>(White Choc)</td>\n      <td>(Eclairs)</td>\n      <td>0.9</td>\n      <td>0.9</td>\n      <td>0.9</td>\n      <td>1.0</td>\n      <td>1.111111</td>\n      <td>0.09</td>\n      <td>inf</td>\n      <td>1.0</td>\n    </tr>\n    <tr>\n      <th>68</th>\n      <td>(Eclairs, Peanut Butter Cubes)</td>\n      <td>(White Choc)</td>\n      <td>0.9</td>\n      <td>0.9</td>\n      <td>0.9</td>\n      <td>1.0</td>\n      <td>1.111111</td>\n      <td>0.09</td>\n      <td>inf</td>\n      <td>1.0</td>\n    </tr>\n    <tr>\n      <th>70</th>\n      <td>(Peanut Butter Cubes, White Choc)</td>\n      <td>(Eclairs)</td>\n      <td>0.9</td>\n      <td>0.9</td>\n      <td>0.9</td>\n      <td>1.0</td>\n      <td>1.111111</td>\n      <td>0.09</td>\n      <td>inf</td>\n      <td>1.0</td>\n    </tr>\n    <tr>\n      <th>71</th>\n      <td>(Eclairs)</td>\n      <td>(Peanut Butter Cubes, White Choc)</td>\n      <td>0.9</td>\n      <td>0.9</td>\n      <td>0.9</td>\n      <td>1.0</td>\n      <td>1.111111</td>\n      <td>0.09</td>\n      <td>inf</td>\n      <td>1.0</td>\n    </tr>\n    <tr>\n      <th>...</th>\n      <td>...</td>\n      <td>...</td>\n      <td>...</td>\n      <td>...</td>\n      <td>...</td>\n      <td>...</td>\n      <td>...</td>\n      <td>...</td>\n      <td>...</td>\n      <td>...</td>\n    </tr>\n    <tr>\n      <th>101</th>\n      <td>(Peanut Butter Cubes)</td>\n      <td>(Choco Coated Almonds)</td>\n      <td>1.0</td>\n      <td>0.9</td>\n      <td>0.9</td>\n      <td>0.9</td>\n      <td>1.000000</td>\n      <td>0.00</td>\n      <td>1.0</td>\n      <td>0.0</td>\n    </tr>\n    <tr>\n      <th>102</th>\n      <td>(Raspberry Choco)</td>\n      <td>(Choco Coated Almonds)</td>\n      <td>1.0</td>\n      <td>0.9</td>\n      <td>0.9</td>\n      <td>0.9</td>\n      <td>1.000000</td>\n      <td>0.00</td>\n      <td>1.0</td>\n      <td>0.0</td>\n    </tr>\n    <tr>\n      <th>105</th>\n      <td>(Raspberry Choco, Peanut Butter Cubes)</td>\n      <td>(Choco Coated Almonds)</td>\n      <td>1.0</td>\n      <td>0.9</td>\n      <td>0.9</td>\n      <td>0.9</td>\n      <td>1.000000</td>\n      <td>0.00</td>\n      <td>1.0</td>\n      <td>0.0</td>\n    </tr>\n    <tr>\n      <th>107</th>\n      <td>(Raspberry Choco)</td>\n      <td>(Choco Coated Almonds, Peanut Butter Cubes)</td>\n      <td>1.0</td>\n      <td>0.9</td>\n      <td>0.9</td>\n      <td>0.9</td>\n      <td>1.000000</td>\n      <td>0.00</td>\n      <td>1.0</td>\n      <td>0.0</td>\n    </tr>\n    <tr>\n      <th>109</th>\n      <td>(Peanut Butter Cubes)</td>\n      <td>(Raspberry Choco, Choco Coated Almonds)</td>\n      <td>1.0</td>\n      <td>0.9</td>\n      <td>0.9</td>\n      <td>0.9</td>\n      <td>1.000000</td>\n      <td>0.00</td>\n      <td>1.0</td>\n      <td>0.0</td>\n    </tr>\n  </tbody>\n</table>\n<p>110 rows × 10 columns</p>\n</div>"
          },
          "metadata": {}
        }
      ],
      "id": "LhGlveWrThXB"
    },
    {
      "cell_type": "code",
      "source": [
        "import matplotlib.pyplot as plt"
      ],
      "metadata": {
        "execution": {
          "iopub.status.busy": "2024-05-15T16:18:24.742146Z",
          "iopub.execute_input": "2024-05-15T16:18:24.743048Z",
          "iopub.status.idle": "2024-05-15T16:18:24.747634Z",
          "shell.execute_reply.started": "2024-05-15T16:18:24.743009Z",
          "shell.execute_reply": "2024-05-15T16:18:24.746366Z"
        },
        "trusted": true,
        "id": "w_iVx9-IThXC"
      },
      "execution_count": null,
      "outputs": [],
      "id": "w_iVx9-IThXC"
    },
    {
      "cell_type": "code",
      "source": [
        "rules[rules[\"antecedents\"].apply(lambda x: \"Choco Coated Almonds\" in str(x))].groupby(\n",
        "    ['antecedents', 'consequents'])[['confidence']].max().sort_values(ascending=False,\n",
        "                                                                      by='confidence').head(10).plot(kind='bar').invert_xaxis()\n",
        "plt.title('Top item that are likley to buy with Choco Coated Almonds');"
      ],
      "metadata": {
        "execution": {
          "iopub.status.busy": "2024-05-15T16:18:30.800699Z",
          "iopub.execute_input": "2024-05-15T16:18:30.801540Z",
          "iopub.status.idle": "2024-05-15T16:18:31.157972Z",
          "shell.execute_reply.started": "2024-05-15T16:18:30.801504Z",
          "shell.execute_reply": "2024-05-15T16:18:31.156753Z"
        },
        "trusted": true,
        "id": "9QHcHEuRThXC",
        "outputId": "23ab4e00-a596-4670-b425-aadda361d8f3"
      },
      "execution_count": null,
      "outputs": [
        {
          "output_type": "display_data",
          "data": {
            "text/plain": "<Figure size 640x480 with 1 Axes>",
            "image/png": "[encoded data removed]"
          },
          "metadata": {}
        }
      ],
      "id": "9QHcHEuRThXC"
    },
    {
      "cell_type": "markdown",
      "source": [
        "#### **Penjelasan**\n",
        "---\n",
        "Dari plot di atas didapat bahwa 2 item dengan peluang tertinggi yang juga akan dibeli orang yang membeli Choco Coated Almonds adalah\n",
        "- Rasberry Choco\n",
        "- Peanut Butter Cubes\n",
        "\n"
      ],
      "metadata": {
        "id": "qfxLcksWZj-6"
      },
      "id": "qfxLcksWZj-6"
    },
    {
      "cell_type": "markdown",
      "source": [
        "**Congratulations on completing the first part of this assignment!** 🎉🎉🎉"
      ],
      "metadata": {
        "id": "Ogrz96eyaEvv"
      },
      "id": "Ogrz96eyaEvv"
    }
  ]
}