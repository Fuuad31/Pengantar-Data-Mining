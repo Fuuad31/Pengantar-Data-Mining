{
  "cells": [
    {
      "cell_type": "code",
      "execution_count": null,
      "metadata": {
        "id": "JK5XkqwuobOV"
      },
      "outputs": [],
      "source": [
        "# Library data manipulation\n",
        "import pandas as pd\n",
        "import numpy as np\n",
        "\n",
        "# Library untuk pembuatan model\n",
        "from sklearn.ensemble import RandomForestClassifier\n",
        "from sklearn.model_selection import train_test_split\n",
        "from sklearn.preprocessing import OneHotEncoder\n",
        "\n",
        "# Library untuk visualisasi data\n",
        "import matplotlib.pyplot as plt\n",
        "import seaborn as sns\n",
        "\n",
        "# Library untuk mengukur akurasi model\n",
        "from sklearn.metrics import accuracy_score, confusion_matrix, classification_report"
      ]
    },
    {
      "cell_type": "markdown",
      "metadata": {
        "id": "nvz5ALqzoRzH"
      },
      "source": [
        "# Import Data"
      ]
    },
    {
      "cell_type": "code",
      "execution_count": null,
      "metadata": {
        "id": "Iv1J5WlEoXH_"
      },
      "outputs": [],
      "source": [
        "df = pd.read_csv(\"bab6_adult_data.csv\", skipinitialspace=True, header=0)"
      ]
    },
    {
      "cell_type": "code",
      "execution_count": null,
      "metadata": {
        "colab": {
          "base_uri": "https://localhost:8080/",
          "height": 679
        },
        "id": "Gl6yei7yotrd",
        "outputId": "e81452e8-b75e-4b01-a9e3-fd15205f98e7"
      },
      "outputs": [
        {
          "data": {
            "text/html": [
              "<div>\n",
              "<style scoped>\n",
              "    .dataframe tbody tr th:only-of-type {\n",
              "        vertical-align: middle;\n",
              "    }\n",
              "\n",
              "    .dataframe tbody tr th {\n",
              "        vertical-align: top;\n",
              "    }\n",
              "\n",
              "    .dataframe thead th {\n",
              "        text-align: right;\n",
              "    }\n",
              "</style>\n",
              "<table border=\"1\" class=\"dataframe\">\n",
              "  <thead>\n",
              "    <tr style=\"text-align: right;\">\n",
              "      <th></th>\n",
              "      <th>age</th>\n",
              "      <th>workclass</th>\n",
              "      <th>fnlwft</th>\n",
              "      <th>education</th>\n",
              "      <th>education_num</th>\n",
              "      <th>marital_status</th>\n",
              "      <th>occupation</th>\n",
              "      <th>relationship</th>\n",
              "      <th>race</th>\n",
              "      <th>sex</th>\n",
              "      <th>capital_gain</th>\n",
              "      <th>capital_loss</th>\n",
              "      <th>hours-per-week</th>\n",
              "      <th>native_country</th>\n",
              "      <th>income</th>\n",
              "    </tr>\n",
              "  </thead>\n",
              "  <tbody>\n",
              "    <tr>\n",
              "      <th>0</th>\n",
              "      <td>39</td>\n",
              "      <td>State-gov</td>\n",
              "      <td>77516</td>\n",
              "      <td>Bachelors</td>\n",
              "      <td>13</td>\n",
              "      <td>Never-married</td>\n",
              "      <td>Adm-clerical</td>\n",
              "      <td>Not-in-family</td>\n",
              "      <td>White</td>\n",
              "      <td>Male</td>\n",
              "      <td>2174</td>\n",
              "      <td>0</td>\n",
              "      <td>40</td>\n",
              "      <td>United-States</td>\n",
              "      <td>&lt;=50K</td>\n",
              "    </tr>\n",
              "    <tr>\n",
              "      <th>1</th>\n",
              "      <td>50</td>\n",
              "      <td>Self-emp-not-inc</td>\n",
              "      <td>83311</td>\n",
              "      <td>Bachelors</td>\n",
              "      <td>13</td>\n",
              "      <td>Married-civ-spouse</td>\n",
              "      <td>Exec-managerial</td>\n",
              "      <td>Husband</td>\n",
              "      <td>White</td>\n",
              "      <td>Male</td>\n",
              "      <td>0</td>\n",
              "      <td>0</td>\n",
              "      <td>13</td>\n",
              "      <td>United-States</td>\n",
              "      <td>&lt;=50K</td>\n",
              "    </tr>\n",
              "    <tr>\n",
              "      <th>2</th>\n",
              "      <td>38</td>\n",
              "      <td>Private</td>\n",
              "      <td>215646</td>\n",
              "      <td>HS-grad</td>\n",
              "      <td>9</td>\n",
              "      <td>Divorced</td>\n",
              "      <td>Handlers-cleaners</td>\n",
              "      <td>Not-in-family</td>\n",
              "      <td>White</td>\n",
              "      <td>Male</td>\n",
              "      <td>0</td>\n",
              "      <td>0</td>\n",
              "      <td>40</td>\n",
              "      <td>United-States</td>\n",
              "      <td>&lt;=50K</td>\n",
              "    </tr>\n",
              "    <tr>\n",
              "      <th>3</th>\n",
              "      <td>53</td>\n",
              "      <td>Private</td>\n",
              "      <td>234721</td>\n",
              "      <td>11th</td>\n",
              "      <td>7</td>\n",
              "      <td>Married-civ-spouse</td>\n",
              "      <td>Handlers-cleaners</td>\n",
              "      <td>Husband</td>\n",
              "      <td>Black</td>\n",
              "      <td>Male</td>\n",
              "      <td>0</td>\n",
              "      <td>0</td>\n",
              "      <td>40</td>\n",
              "      <td>United-States</td>\n",
              "      <td>&lt;=50K</td>\n",
              "    </tr>\n",
              "    <tr>\n",
              "      <th>4</th>\n",
              "      <td>28</td>\n",
              "      <td>Private</td>\n",
              "      <td>338409</td>\n",
              "      <td>Bachelors</td>\n",
              "      <td>13</td>\n",
              "      <td>Married-civ-spouse</td>\n",
              "      <td>Prof-specialty</td>\n",
              "      <td>Wife</td>\n",
              "      <td>Black</td>\n",
              "      <td>Female</td>\n",
              "      <td>0</td>\n",
              "      <td>0</td>\n",
              "      <td>40</td>\n",
              "      <td>Cuba</td>\n",
              "      <td>&lt;=50K</td>\n",
              "    </tr>\n",
              "    <tr>\n",
              "      <th>...</th>\n",
              "      <td>...</td>\n",
              "      <td>...</td>\n",
              "      <td>...</td>\n",
              "      <td>...</td>\n",
              "      <td>...</td>\n",
              "      <td>...</td>\n",
              "      <td>...</td>\n",
              "      <td>...</td>\n",
              "      <td>...</td>\n",
              "      <td>...</td>\n",
              "      <td>...</td>\n",
              "      <td>...</td>\n",
              "      <td>...</td>\n",
              "      <td>...</td>\n",
              "      <td>...</td>\n",
              "    </tr>\n",
              "    <tr>\n",
              "      <th>48837</th>\n",
              "      <td>39</td>\n",
              "      <td>Private</td>\n",
              "      <td>215419</td>\n",
              "      <td>Bachelors</td>\n",
              "      <td>13</td>\n",
              "      <td>Divorced</td>\n",
              "      <td>Prof-specialty</td>\n",
              "      <td>Not-in-family</td>\n",
              "      <td>White</td>\n",
              "      <td>Female</td>\n",
              "      <td>0</td>\n",
              "      <td>0</td>\n",
              "      <td>36</td>\n",
              "      <td>United-States</td>\n",
              "      <td>&lt;=50K.</td>\n",
              "    </tr>\n",
              "    <tr>\n",
              "      <th>48838</th>\n",
              "      <td>64</td>\n",
              "      <td>?</td>\n",
              "      <td>321403</td>\n",
              "      <td>HS-grad</td>\n",
              "      <td>9</td>\n",
              "      <td>Widowed</td>\n",
              "      <td>?</td>\n",
              "      <td>Other-relative</td>\n",
              "      <td>Black</td>\n",
              "      <td>Male</td>\n",
              "      <td>0</td>\n",
              "      <td>0</td>\n",
              "      <td>40</td>\n",
              "      <td>United-States</td>\n",
              "      <td>&lt;=50K.</td>\n",
              "    </tr>\n",
              "    <tr>\n",
              "      <th>48839</th>\n",
              "      <td>38</td>\n",
              "      <td>Private</td>\n",
              "      <td>374983</td>\n",
              "      <td>Bachelors</td>\n",
              "      <td>13</td>\n",
              "      <td>Married-civ-spouse</td>\n",
              "      <td>Prof-specialty</td>\n",
              "      <td>Husband</td>\n",
              "      <td>White</td>\n",
              "      <td>Male</td>\n",
              "      <td>0</td>\n",
              "      <td>0</td>\n",
              "      <td>50</td>\n",
              "      <td>United-States</td>\n",
              "      <td>&lt;=50K.</td>\n",
              "    </tr>\n",
              "    <tr>\n",
              "      <th>48840</th>\n",
              "      <td>44</td>\n",
              "      <td>Private</td>\n",
              "      <td>83891</td>\n",
              "      <td>Bachelors</td>\n",
              "      <td>13</td>\n",
              "      <td>Divorced</td>\n",
              "      <td>Adm-clerical</td>\n",
              "      <td>Own-child</td>\n",
              "      <td>Asian-Pac-Islander</td>\n",
              "      <td>Male</td>\n",
              "      <td>5455</td>\n",
              "      <td>0</td>\n",
              "      <td>40</td>\n",
              "      <td>United-States</td>\n",
              "      <td>&lt;=50K.</td>\n",
              "    </tr>\n",
              "    <tr>\n",
              "      <th>48841</th>\n",
              "      <td>35</td>\n",
              "      <td>Self-emp-inc</td>\n",
              "      <td>182148</td>\n",
              "      <td>Bachelors</td>\n",
              "      <td>13</td>\n",
              "      <td>Married-civ-spouse</td>\n",
              "      <td>Exec-managerial</td>\n",
              "      <td>Husband</td>\n",
              "      <td>White</td>\n",
              "      <td>Male</td>\n",
              "      <td>0</td>\n",
              "      <td>0</td>\n",
              "      <td>60</td>\n",
              "      <td>United-States</td>\n",
              "      <td>&gt;50K.</td>\n",
              "    </tr>\n",
              "  </tbody>\n",
              "</table>\n",
              "<p>48842 rows × 15 columns</p>\n",
              "</div>"
            ],
            "text/plain": [
              "       age         workclass  fnlwft  education  education_num  \\\n",
              "0       39         State-gov   77516  Bachelors             13   \n",
              "1       50  Self-emp-not-inc   83311  Bachelors             13   \n",
              "2       38           Private  215646    HS-grad              9   \n",
              "3       53           Private  234721       11th              7   \n",
              "4       28           Private  338409  Bachelors             13   \n",
              "...    ...               ...     ...        ...            ...   \n",
              "48837   39           Private  215419  Bachelors             13   \n",
              "48838   64                 ?  321403    HS-grad              9   \n",
              "48839   38           Private  374983  Bachelors             13   \n",
              "48840   44           Private   83891  Bachelors             13   \n",
              "48841   35      Self-emp-inc  182148  Bachelors             13   \n",
              "\n",
              "           marital_status         occupation    relationship  \\\n",
              "0           Never-married       Adm-clerical   Not-in-family   \n",
              "1      Married-civ-spouse    Exec-managerial         Husband   \n",
              "2                Divorced  Handlers-cleaners   Not-in-family   \n",
              "3      Married-civ-spouse  Handlers-cleaners         Husband   \n",
              "4      Married-civ-spouse     Prof-specialty            Wife   \n",
              "...                   ...                ...             ...   \n",
              "48837            Divorced     Prof-specialty   Not-in-family   \n",
              "48838             Widowed                  ?  Other-relative   \n",
              "48839  Married-civ-spouse     Prof-specialty         Husband   \n",
              "48840            Divorced       Adm-clerical       Own-child   \n",
              "48841  Married-civ-spouse    Exec-managerial         Husband   \n",
              "\n",
              "                     race     sex  capital_gain  capital_loss  hours-per-week  \\\n",
              "0                   White    Male          2174             0              40   \n",
              "1                   White    Male             0             0              13   \n",
              "2                   White    Male             0             0              40   \n",
              "3                   Black    Male             0             0              40   \n",
              "4                   Black  Female             0             0              40   \n",
              "...                   ...     ...           ...           ...             ...   \n",
              "48837               White  Female             0             0              36   \n",
              "48838               Black    Male             0             0              40   \n",
              "48839               White    Male             0             0              50   \n",
              "48840  Asian-Pac-Islander    Male          5455             0              40   \n",
              "48841               White    Male             0             0              60   \n",
              "\n",
              "      native_country  income  \n",
              "0      United-States   <=50K  \n",
              "1      United-States   <=50K  \n",
              "2      United-States   <=50K  \n",
              "3      United-States   <=50K  \n",
              "4               Cuba   <=50K  \n",
              "...              ...     ...  \n",
              "48837  United-States  <=50K.  \n",
              "48838  United-States  <=50K.  \n",
              "48839  United-States  <=50K.  \n",
              "48840  United-States  <=50K.  \n",
              "48841  United-States   >50K.  \n",
              "\n",
              "[48842 rows x 15 columns]"
            ]
          },
          "execution_count": 3,
          "metadata": {},
          "output_type": "execute_result"
        }
      ],
      "source": [
        "df"
      ]
    },
    {
      "cell_type": "markdown",
      "metadata": {
        "id": "ub_zd69bpRpb"
      },
      "source": [
        "## Data Pre-processing"
      ]
    },
    {
      "cell_type": "markdown",
      "metadata": {
        "id": "Uxy_N4bipHsZ"
      },
      "source": [
        "Mengecek missing value"
      ]
    },
    {
      "cell_type": "code",
      "execution_count": null,
      "metadata": {
        "colab": {
          "base_uri": "https://localhost:8080/"
        },
        "id": "AhJTOxTupJqh",
        "outputId": "b1dabc1f-55a2-4189-dd85-9f5858a1239c"
      },
      "outputs": [
        {
          "name": "stdout",
          "output_type": "stream",
          "text": [
            "age               0\n",
            "workclass         0\n",
            "fnlwft            0\n",
            "education         0\n",
            "education_num     0\n",
            "marital_status    0\n",
            "occupation        0\n",
            "relationship      0\n",
            "race              0\n",
            "sex               0\n",
            "capital_gain      0\n",
            "capital_loss      0\n",
            "hours-per-week    0\n",
            "native_country    0\n",
            "income            0\n",
            "dtype: int64\n"
          ]
        }
      ],
      "source": [
        "print(df.isna().sum())"
      ]
    },
    {
      "cell_type": "markdown",
      "metadata": {
        "id": "493H5ewbpNkY"
      },
      "source": [
        "terlihat bahwa tiap variabel tidak memiliki missing value,"
      ]
    },
    {
      "cell_type": "code",
      "execution_count": null,
      "metadata": {
        "colab": {
          "base_uri": "https://localhost:8080/",
          "height": 472
        },
        "id": "yD2EJLLRre5y",
        "outputId": "82ddb3b2-2c36-480e-b7b8-bb74027a8cae"
      },
      "outputs": [
        {
          "data": {
            "image/png": "[encoded data removed]",
            "text/plain": [
              "<Figure size 640x480 with 1 Axes>"
            ]
          },
          "metadata": {},
          "output_type": "display_data"
        }
      ],
      "source": [
        "# Check the distribution of the label\n",
        "sns.countplot(x=df['income'], data=df)\n",
        "plt.title(\"Distribution of the label\")\n",
        "plt.show()"
      ]
    },
    {
      "cell_type": "markdown",
      "metadata": {
        "id": "4QFqs2elrqu4"
      },
      "source": [
        "Terlihat bahwa terdapat 4 kategorik, dimana terjadi pengulangan <=50K dengan <=50K. dan >50K dengan >50K. untuk itu variabel income yang memiliki titik(.) akan direplace sehingga akan menyatu dengan yang asli tanpa titik"
      ]
    },
    {
      "cell_type": "code",
      "execution_count": null,
      "metadata": {
        "id": "HiT79QhIrqic"
      },
      "outputs": [],
      "source": [
        "df['income'] = df['income'].replace('<=50K.', '<=50K')\n",
        "df['income'] = df['income'].replace('>50K.', '>50K')"
      ]
    },
    {
      "cell_type": "markdown",
      "metadata": {
        "id": "lJ705yLpsQDb"
      },
      "source": [
        "Cek kembali distribusi variabel respon"
      ]
    },
    {
      "cell_type": "code",
      "execution_count": null,
      "metadata": {
        "colab": {
          "base_uri": "https://localhost:8080/",
          "height": 472
        },
        "id": "8Q8cVCxvsSLA",
        "outputId": "e6c80d3f-ae39-4f29-aede-5581291f0a80"
      },
      "outputs": [
        {
          "data": {
            "image/png": "[encoded data removed]",
            "text/plain": [
              "<Figure size 640x480 with 1 Axes>"
            ]
          },
          "metadata": {},
          "output_type": "display_data"
        }
      ],
      "source": [
        "# Check the distribution of the label\n",
        "sns.countplot(x=df['income'], data=df)\n",
        "plt.title(\"Distribution of the label\")\n",
        "plt.show()"
      ]
    },
    {
      "cell_type": "markdown",
      "metadata": {
        "id": "Ldxo8sditKW4"
      },
      "source": [
        "Terlihat bahwa sudah selesai, variabel income dengan titik bergabung dengan yang tanpa titik"
      ]
    },
    {
      "cell_type": "markdown",
      "metadata": {
        "id": "UvA3JB1lieVX"
      },
      "source": [
        "Drop variabel education_num karena mirip seperti variabel education"
      ]
    },
    {
      "cell_type": "code",
      "execution_count": null,
      "metadata": {
        "id": "2z1czJ8ciknX"
      },
      "outputs": [],
      "source": [
        "#df = df.drop('education_num', axis=1)\n",
        "# akan dijadikan label encoder"
      ]
    },
    {
      "cell_type": "markdown",
      "metadata": {
        "id": "f2mev62k3a4g"
      },
      "source": [
        "# Exploratory Data Analysis"
      ]
    },
    {
      "cell_type": "markdown",
      "metadata": {
        "id": "BenXLD9jE7Rm"
      },
      "source": [
        "Mengubah kategori pada label respon menjadi numerik"
      ]
    },
    {
      "cell_type": "code",
      "execution_count": null,
      "metadata": {
        "colab": {
          "base_uri": "https://localhost:8080/",
          "height": 641
        },
        "id": "IZbp6cn87vd4",
        "outputId": "149dcde5-94cf-4533-9035-77bf8ca2d0a0"
      },
      "outputs": [
        {
          "data": {
            "text/html": [
              "<div>\n",
              "<style scoped>\n",
              "    .dataframe tbody tr th:only-of-type {\n",
              "        vertical-align: middle;\n",
              "    }\n",
              "\n",
              "    .dataframe tbody tr th {\n",
              "        vertical-align: top;\n",
              "    }\n",
              "\n",
              "    .dataframe thead th {\n",
              "        text-align: right;\n",
              "    }\n",
              "</style>\n",
              "<table border=\"1\" class=\"dataframe\">\n",
              "  <thead>\n",
              "    <tr style=\"text-align: right;\">\n",
              "      <th></th>\n",
              "      <th>age</th>\n",
              "      <th>workclass</th>\n",
              "      <th>fnlwft</th>\n",
              "      <th>education</th>\n",
              "      <th>education_num</th>\n",
              "      <th>marital_status</th>\n",
              "      <th>occupation</th>\n",
              "      <th>relationship</th>\n",
              "      <th>race</th>\n",
              "      <th>sex</th>\n",
              "      <th>capital_gain</th>\n",
              "      <th>capital_loss</th>\n",
              "      <th>hours-per-week</th>\n",
              "      <th>native_country</th>\n",
              "      <th>income</th>\n",
              "    </tr>\n",
              "  </thead>\n",
              "  <tbody>\n",
              "    <tr>\n",
              "      <th>0</th>\n",
              "      <td>39</td>\n",
              "      <td>State-gov</td>\n",
              "      <td>77516</td>\n",
              "      <td>Bachelors</td>\n",
              "      <td>13</td>\n",
              "      <td>Never-married</td>\n",
              "      <td>Adm-clerical</td>\n",
              "      <td>Not-in-family</td>\n",
              "      <td>White</td>\n",
              "      <td>Male</td>\n",
              "      <td>2174</td>\n",
              "      <td>0</td>\n",
              "      <td>40</td>\n",
              "      <td>United-States</td>\n",
              "      <td>1</td>\n",
              "    </tr>\n",
              "    <tr>\n",
              "      <th>1</th>\n",
              "      <td>50</td>\n",
              "      <td>Self-emp-not-inc</td>\n",
              "      <td>83311</td>\n",
              "      <td>Bachelors</td>\n",
              "      <td>13</td>\n",
              "      <td>Married-civ-spouse</td>\n",
              "      <td>Exec-managerial</td>\n",
              "      <td>Husband</td>\n",
              "      <td>White</td>\n",
              "      <td>Male</td>\n",
              "      <td>0</td>\n",
              "      <td>0</td>\n",
              "      <td>13</td>\n",
              "      <td>United-States</td>\n",
              "      <td>1</td>\n",
              "    </tr>\n",
              "    <tr>\n",
              "      <th>2</th>\n",
              "      <td>38</td>\n",
              "      <td>Private</td>\n",
              "      <td>215646</td>\n",
              "      <td>HS-grad</td>\n",
              "      <td>9</td>\n",
              "      <td>Divorced</td>\n",
              "      <td>Handlers-cleaners</td>\n",
              "      <td>Not-in-family</td>\n",
              "      <td>White</td>\n",
              "      <td>Male</td>\n",
              "      <td>0</td>\n",
              "      <td>0</td>\n",
              "      <td>40</td>\n",
              "      <td>United-States</td>\n",
              "      <td>1</td>\n",
              "    </tr>\n",
              "    <tr>\n",
              "      <th>3</th>\n",
              "      <td>53</td>\n",
              "      <td>Private</td>\n",
              "      <td>234721</td>\n",
              "      <td>11th</td>\n",
              "      <td>7</td>\n",
              "      <td>Married-civ-spouse</td>\n",
              "      <td>Handlers-cleaners</td>\n",
              "      <td>Husband</td>\n",
              "      <td>Black</td>\n",
              "      <td>Male</td>\n",
              "      <td>0</td>\n",
              "      <td>0</td>\n",
              "      <td>40</td>\n",
              "      <td>United-States</td>\n",
              "      <td>1</td>\n",
              "    </tr>\n",
              "    <tr>\n",
              "      <th>4</th>\n",
              "      <td>28</td>\n",
              "      <td>Private</td>\n",
              "      <td>338409</td>\n",
              "      <td>Bachelors</td>\n",
              "      <td>13</td>\n",
              "      <td>Married-civ-spouse</td>\n",
              "      <td>Prof-specialty</td>\n",
              "      <td>Wife</td>\n",
              "      <td>Black</td>\n",
              "      <td>Female</td>\n",
              "      <td>0</td>\n",
              "      <td>0</td>\n",
              "      <td>40</td>\n",
              "      <td>Cuba</td>\n",
              "      <td>1</td>\n",
              "    </tr>\n",
              "    <tr>\n",
              "      <th>...</th>\n",
              "      <td>...</td>\n",
              "      <td>...</td>\n",
              "      <td>...</td>\n",
              "      <td>...</td>\n",
              "      <td>...</td>\n",
              "      <td>...</td>\n",
              "      <td>...</td>\n",
              "      <td>...</td>\n",
              "      <td>...</td>\n",
              "      <td>...</td>\n",
              "      <td>...</td>\n",
              "      <td>...</td>\n",
              "      <td>...</td>\n",
              "      <td>...</td>\n",
              "      <td>...</td>\n",
              "    </tr>\n",
              "    <tr>\n",
              "      <th>48837</th>\n",
              "      <td>39</td>\n",
              "      <td>Private</td>\n",
              "      <td>215419</td>\n",
              "      <td>Bachelors</td>\n",
              "      <td>13</td>\n",
              "      <td>Divorced</td>\n",
              "      <td>Prof-specialty</td>\n",
              "      <td>Not-in-family</td>\n",
              "      <td>White</td>\n",
              "      <td>Female</td>\n",
              "      <td>0</td>\n",
              "      <td>0</td>\n",
              "      <td>36</td>\n",
              "      <td>United-States</td>\n",
              "      <td>1</td>\n",
              "    </tr>\n",
              "    <tr>\n",
              "      <th>48838</th>\n",
              "      <td>64</td>\n",
              "      <td>?</td>\n",
              "      <td>321403</td>\n",
              "      <td>HS-grad</td>\n",
              "      <td>9</td>\n",
              "      <td>Widowed</td>\n",
              "      <td>?</td>\n",
              "      <td>Other-relative</td>\n",
              "      <td>Black</td>\n",
              "      <td>Male</td>\n",
              "      <td>0</td>\n",
              "      <td>0</td>\n",
              "      <td>40</td>\n",
              "      <td>United-States</td>\n",
              "      <td>1</td>\n",
              "    </tr>\n",
              "    <tr>\n",
              "      <th>48839</th>\n",
              "      <td>38</td>\n",
              "      <td>Private</td>\n",
              "      <td>374983</td>\n",
              "      <td>Bachelors</td>\n",
              "      <td>13</td>\n",
              "      <td>Married-civ-spouse</td>\n",
              "      <td>Prof-specialty</td>\n",
              "      <td>Husband</td>\n",
              "      <td>White</td>\n",
              "      <td>Male</td>\n",
              "      <td>0</td>\n",
              "      <td>0</td>\n",
              "      <td>50</td>\n",
              "      <td>United-States</td>\n",
              "      <td>1</td>\n",
              "    </tr>\n",
              "    <tr>\n",
              "      <th>48840</th>\n",
              "      <td>44</td>\n",
              "      <td>Private</td>\n",
              "      <td>83891</td>\n",
              "      <td>Bachelors</td>\n",
              "      <td>13</td>\n",
              "      <td>Divorced</td>\n",
              "      <td>Adm-clerical</td>\n",
              "      <td>Own-child</td>\n",
              "      <td>Asian-Pac-Islander</td>\n",
              "      <td>Male</td>\n",
              "      <td>5455</td>\n",
              "      <td>0</td>\n",
              "      <td>40</td>\n",
              "      <td>United-States</td>\n",
              "      <td>1</td>\n",
              "    </tr>\n",
              "    <tr>\n",
              "      <th>48841</th>\n",
              "      <td>35</td>\n",
              "      <td>Self-emp-inc</td>\n",
              "      <td>182148</td>\n",
              "      <td>Bachelors</td>\n",
              "      <td>13</td>\n",
              "      <td>Married-civ-spouse</td>\n",
              "      <td>Exec-managerial</td>\n",
              "      <td>Husband</td>\n",
              "      <td>White</td>\n",
              "      <td>Male</td>\n",
              "      <td>0</td>\n",
              "      <td>0</td>\n",
              "      <td>60</td>\n",
              "      <td>United-States</td>\n",
              "      <td>2</td>\n",
              "    </tr>\n",
              "  </tbody>\n",
              "</table>\n",
              "<p>48842 rows × 15 columns</p>\n",
              "</div>"
            ],
            "text/plain": [
              "       age         workclass  fnlwft  education  education_num  \\\n",
              "0       39         State-gov   77516  Bachelors             13   \n",
              "1       50  Self-emp-not-inc   83311  Bachelors             13   \n",
              "2       38           Private  215646    HS-grad              9   \n",
              "3       53           Private  234721       11th              7   \n",
              "4       28           Private  338409  Bachelors             13   \n",
              "...    ...               ...     ...        ...            ...   \n",
              "48837   39           Private  215419  Bachelors             13   \n",
              "48838   64                 ?  321403    HS-grad              9   \n",
              "48839   38           Private  374983  Bachelors             13   \n",
              "48840   44           Private   83891  Bachelors             13   \n",
              "48841   35      Self-emp-inc  182148  Bachelors             13   \n",
              "\n",
              "           marital_status         occupation    relationship  \\\n",
              "0           Never-married       Adm-clerical   Not-in-family   \n",
              "1      Married-civ-spouse    Exec-managerial         Husband   \n",
              "2                Divorced  Handlers-cleaners   Not-in-family   \n",
              "3      Married-civ-spouse  Handlers-cleaners         Husband   \n",
              "4      Married-civ-spouse     Prof-specialty            Wife   \n",
              "...                   ...                ...             ...   \n",
              "48837            Divorced     Prof-specialty   Not-in-family   \n",
              "48838             Widowed                  ?  Other-relative   \n",
              "48839  Married-civ-spouse     Prof-specialty         Husband   \n",
              "48840            Divorced       Adm-clerical       Own-child   \n",
              "48841  Married-civ-spouse    Exec-managerial         Husband   \n",
              "\n",
              "                     race     sex  capital_gain  capital_loss  hours-per-week  \\\n",
              "0                   White    Male          2174             0              40   \n",
              "1                   White    Male             0             0              13   \n",
              "2                   White    Male             0             0              40   \n",
              "3                   Black    Male             0             0              40   \n",
              "4                   Black  Female             0             0              40   \n",
              "...                   ...     ...           ...           ...             ...   \n",
              "48837               White  Female             0             0              36   \n",
              "48838               Black    Male             0             0              40   \n",
              "48839               White    Male             0             0              50   \n",
              "48840  Asian-Pac-Islander    Male          5455             0              40   \n",
              "48841               White    Male             0             0              60   \n",
              "\n",
              "      native_country income  \n",
              "0      United-States      1  \n",
              "1      United-States      1  \n",
              "2      United-States      1  \n",
              "3      United-States      1  \n",
              "4               Cuba      1  \n",
              "...              ...    ...  \n",
              "48837  United-States      1  \n",
              "48838  United-States      1  \n",
              "48839  United-States      1  \n",
              "48840  United-States      1  \n",
              "48841  United-States      2  \n",
              "\n",
              "[48842 rows x 15 columns]"
            ]
          },
          "execution_count": 9,
          "metadata": {},
          "output_type": "execute_result"
        }
      ],
      "source": [
        "df['income'] = df['income'].replace('<=50K', '1')\n",
        "df['income'] = df['income'].replace('>50K', '2')\n",
        "df"
      ]
    },
    {
      "cell_type": "code",
      "execution_count": null,
      "metadata": {
        "id": "5JgZxSWR742Y"
      },
      "outputs": [],
      "source": [
        "df[\"income\"] = df[\"income\"].astype(int)"
      ]
    },
    {
      "cell_type": "markdown",
      "metadata": {
        "id": "RdcNq8MVqhnk"
      },
      "source": [
        "Melihat variabel-variabel kategorik"
      ]
    },
    {
      "cell_type": "code",
      "execution_count": null,
      "metadata": {
        "id": "hbjRUNl6qBkF"
      },
      "outputs": [],
      "source": [
        "# Define categorical columns\n",
        "categorical_cols = [cname for cname in df.columns if df[cname].dtype == \"object\"]"
      ]
    },
    {
      "cell_type": "code",
      "execution_count": null,
      "metadata": {
        "colab": {
          "base_uri": "https://localhost:8080/"
        },
        "id": "Ym4n6POapxjk",
        "outputId": "5004c8a5-20aa-4248-e4c4-d57d1a4dfbed"
      },
      "outputs": [
        {
          "data": {
            "text/plain": [
              "['workclass',\n",
              " 'education',\n",
              " 'marital_status',\n",
              " 'occupation',\n",
              " 'relationship',\n",
              " 'race',\n",
              " 'sex',\n",
              " 'native_country']"
            ]
          },
          "execution_count": 12,
          "metadata": {},
          "output_type": "execute_result"
        }
      ],
      "source": [
        "categorical_cols"
      ]
    },
    {
      "cell_type": "markdown",
      "metadata": {
        "id": "-YcwRQHHt4qH"
      },
      "source": [
        "Melihat unique dari tiap variabel kategorik"
      ]
    },
    {
      "cell_type": "code",
      "execution_count": null,
      "metadata": {
        "colab": {
          "base_uri": "https://localhost:8080/"
        },
        "id": "8LLnjYOktZ4r",
        "outputId": "4f02ce12-788b-4314-bfcd-89b1389329aa"
      },
      "outputs": [
        {
          "name": "stdout",
          "output_type": "stream",
          "text": [
            "workclass\n",
            "['State-gov' 'Self-emp-not-inc' 'Private' 'Federal-gov' 'Local-gov' '?'\n",
            " 'Self-emp-inc' 'Without-pay' 'Never-worked']\n",
            "\n",
            "education\n",
            "['Bachelors' 'HS-grad' '11th' 'Masters' '9th' 'Some-college' 'Assoc-acdm'\n",
            " 'Assoc-voc' '7th-8th' 'Doctorate' 'Prof-school' '5th-6th' '10th'\n",
            " '1st-4th' 'Preschool' '12th']\n",
            "\n",
            "marital_status\n",
            "['Never-married' 'Married-civ-spouse' 'Divorced' 'Married-spouse-absent'\n",
            " 'Separated' 'Married-AF-spouse' 'Widowed']\n",
            "\n",
            "occupation\n",
            "['Adm-clerical' 'Exec-managerial' 'Handlers-cleaners' 'Prof-specialty'\n",
            " 'Other-service' 'Sales' 'Craft-repair' 'Transport-moving'\n",
            " 'Farming-fishing' 'Machine-op-inspct' 'Tech-support' '?'\n",
            " 'Protective-serv' 'Armed-Forces' 'Priv-house-serv']\n",
            "\n",
            "relationship\n",
            "['Not-in-family' 'Husband' 'Wife' 'Own-child' 'Unmarried' 'Other-relative']\n",
            "\n",
            "race\n",
            "['White' 'Black' 'Asian-Pac-Islander' 'Amer-Indian-Eskimo' 'Other']\n",
            "\n",
            "sex\n",
            "['Male' 'Female']\n",
            "\n",
            "native_country\n",
            "['United-States' 'Cuba' 'Jamaica' 'India' '?' 'Mexico' 'South'\n",
            " 'Puerto-Rico' 'Honduras' 'England' 'Canada' 'Germany' 'Iran'\n",
            " 'Philippines' 'Italy' 'Poland' 'Columbia' 'Cambodia' 'Thailand' 'Ecuador'\n",
            " 'Laos' 'Taiwan' 'Haiti' 'Portugal' 'Dominican-Republic' 'El-Salvador'\n",
            " 'France' 'Guatemala' 'China' 'Japan' 'Yugoslavia' 'Peru'\n",
            " 'Outlying-US(Guam-USVI-etc)' 'Scotland' 'Trinadad&Tobago' 'Greece'\n",
            " 'Nicaragua' 'Vietnam' 'Hong' 'Ireland' 'Hungary' 'Holand-Netherlands']\n",
            "\n"
          ]
        }
      ],
      "source": [
        "for col in categorical_cols:\n",
        "  print(col)\n",
        "  print(df[col].unique())\n",
        "  print('')"
      ]
    },
    {
      "cell_type": "markdown",
      "metadata": {
        "id": "vVwelTSet7M5"
      },
      "source": [
        "Ternyata masih ada missing value dari variabel workclass, occupation, dan native_country. Untuk missing value tersebut akan diisi dengan nilai modus variabel tersebut untuk masing-masing nilai data 'label'"
      ]
    },
    {
      "cell_type": "code",
      "execution_count": null,
      "metadata": {
        "id": "sKc5mTVqudnh"
      },
      "outputs": [],
      "source": [
        "#untuk income <=50K\n",
        "df_filtered1 = df[df['income'] == 1]\n",
        "#untuk income >50K\n",
        "df_filtered2 = df[df['income'] == 2]"
      ]
    },
    {
      "cell_type": "code",
      "execution_count": null,
      "metadata": {
        "id": "UuePsDvoTaIa",
        "outputId": "b97ded5f-9f0c-4346-8559-db135d319beb"
      },
      "outputs": [
        {
          "data": {
            "text/plain": [
              "<AxesSubplot:xlabel='occupation', ylabel='count'>"
            ]
          },
          "execution_count": 15,
          "metadata": {},
          "output_type": "execute_result"
        },
        {
          "data": {
            "image/png": "[encoded data removed]",
            "text/plain": [
              "<Figure size 300x400 with 1 Axes>"
            ]
          },
          "metadata": {},
          "output_type": "display_data"
        }
      ],
      "source": [
        "# visualize workclass == ? by occupation\n",
        "workclass = df_filtered1[df_filtered1['workclass'] == '?']\n",
        "# visualize workclass == ? by occupation\n",
        "plt.figure(figsize=(3,4))\n",
        "sns.countplot(x='occupation', data=workclass)"
      ]
    },
    {
      "cell_type": "code",
      "execution_count": null,
      "metadata": {
        "id": "3ZM1QWZWTaIb",
        "outputId": "22cec7fd-fc3d-409b-b152-59f11e2bc698"
      },
      "outputs": [
        {
          "data": {
            "text/plain": [
              "<AxesSubplot:xlabel='workclass', ylabel='count'>"
            ]
          },
          "execution_count": 16,
          "metadata": {},
          "output_type": "execute_result"
        },
        {
          "data": {
            "image/png": "[encoded data removed]",
            "text/plain": [
              "<Figure size 300x400 with 1 Axes>"
            ]
          },
          "metadata": {},
          "output_type": "display_data"
        }
      ],
      "source": [
        "# visualize workclass == ? by occupation\n",
        "occupation = df_filtered1[df_filtered1['occupation'] == '?']\n",
        "# visualize occupation == ? by occupation\n",
        "plt.figure(figsize=(3,4))\n",
        "sns.countplot(x='workclass', data=occupation)"
      ]
    },
    {
      "cell_type": "code",
      "execution_count": null,
      "metadata": {
        "id": "MlXbvVh4TaIb",
        "outputId": "46b245a1-769a-44a2-df2d-da6a1b2195cc"
      },
      "outputs": [
        {
          "name": "stderr",
          "output_type": "stream",
          "text": [
            "C:\\Users\\Levono\\AppData\\Local\\Temp\\ipykernel_9940\\1751175935.py:1: SettingWithCopyWarning: \n",
            "A value is trying to be set on a copy of a slice from a DataFrame\n",
            "\n",
            "See the caveats in the documentation: https://pandas.pydata.org/pandas-docs/stable/user_guide/indexing.html#returning-a-view-versus-a-copy\n",
            "  df['workclass'][(df['workclass'] == '?') & (df['occupation'] == '?') & (df['income'] == 1)] = 'Never-worked'\n"
          ]
        }
      ],
      "source": [
        "df['workclass'][(df['workclass'] == '?') & (df['occupation'] == '?') & (df['income'] == 1)] = 'Never-worked'"
      ]
    },
    {
      "cell_type": "code",
      "execution_count": null,
      "metadata": {
        "id": "qZ2tOMmXTaIs",
        "outputId": "059e4465-7431-45d0-e169-5b85b230f938"
      },
      "outputs": [
        {
          "data": {
            "text/plain": [
              "<AxesSubplot:xlabel='workclass', ylabel='count'>"
            ]
          },
          "execution_count": 18,
          "metadata": {},
          "output_type": "execute_result"
        },
        {
          "data": {
            "image/png": "[encoded data removed]",
            "text/plain": [
              "<Figure size 300x400 with 1 Axes>"
            ]
          },
          "metadata": {},
          "output_type": "display_data"
        }
      ],
      "source": [
        "# visualize workclass == ? by occupation\n",
        "occupation = df[df['occupation'] == '?']\n",
        "# visualize occupation == ? by occupation\n",
        "plt.figure(figsize=(3,4))\n",
        "sns.countplot(x='workclass', data=occupation)"
      ]
    },
    {
      "cell_type": "code",
      "execution_count": null,
      "metadata": {
        "id": "lfPf3VCdTaJJ",
        "outputId": "a0d564d2-d199-4a48-ffe1-ca269f3aea1c"
      },
      "outputs": [
        {
          "data": {
            "text/plain": [
              "<AxesSubplot:xlabel='education_num', ylabel='count'>"
            ]
          },
          "execution_count": 19,
          "metadata": {},
          "output_type": "execute_result"
        },
        {
          "data": {
            "image/png": "[encoded data removed]",
            "text/plain": [
              "<Figure size 640x480 with 1 Axes>"
            ]
          },
          "metadata": {},
          "output_type": "display_data"
        }
      ],
      "source": [
        "mode = df[df['workclass']=='Never-worked']\n",
        "sns.countplot(x= 'education_num', data = mode)"
      ]
    },
    {
      "cell_type": "code",
      "execution_count": null,
      "metadata": {
        "id": "R-JoKPRlTaJK",
        "outputId": "4456ef46-7bae-453b-df4c-d41de1d8c230"
      },
      "outputs": [
        {
          "data": {
            "text/plain": [
              "'Craft-repair'"
            ]
          },
          "execution_count": 20,
          "metadata": {},
          "output_type": "execute_result"
        }
      ],
      "source": [
        "df['occupation'][(df['education_num']==9) | (df['education_num']==10)].mode()[0]"
      ]
    },
    {
      "cell_type": "code",
      "execution_count": null,
      "metadata": {
        "id": "JruZbzpbTaJK",
        "outputId": "2212add4-acd2-4550-910f-7a3f9e60e156"
      },
      "outputs": [
        {
          "name": "stderr",
          "output_type": "stream",
          "text": [
            "C:\\Users\\Levono\\AppData\\Local\\Temp\\ipykernel_9940\\1136955573.py:1: SettingWithCopyWarning: \n",
            "A value is trying to be set on a copy of a slice from a DataFrame\n",
            "\n",
            "See the caveats in the documentation: https://pandas.pydata.org/pandas-docs/stable/user_guide/indexing.html#returning-a-view-versus-a-copy\n",
            "  df['occupation'][(df['occupation'] == '?') & (df['income']==1)] = 'Other'\n"
          ]
        }
      ],
      "source": [
        "df['occupation'][(df['occupation'] == '?') & (df['income']==1)] = 'Other'"
      ]
    },
    {
      "cell_type": "code",
      "execution_count": null,
      "metadata": {
        "id": "hgX593-nTaJK",
        "outputId": "0fe94338-ed32-48a0-ca95-b6c0fee9e852"
      },
      "outputs": [
        {
          "data": {
            "text/plain": [
              "<AxesSubplot:xlabel='occupation', ylabel='count'>"
            ]
          },
          "execution_count": 22,
          "metadata": {},
          "output_type": "execute_result"
        },
        {
          "data": {
            "image/png": "[encoded data removed]",
            "text/plain": [
              "<Figure size 300x400 with 1 Axes>"
            ]
          },
          "metadata": {},
          "output_type": "display_data"
        }
      ],
      "source": [
        "# visualize workclass == ? by occupation\n",
        "workclass2 = df_filtered2[df_filtered2['workclass'] == '?']\n",
        "# visualize workclass == ? by occupation\n",
        "plt.figure(figsize=(3,4))\n",
        "sns.countplot(x='occupation', data=workclass2)"
      ]
    },
    {
      "cell_type": "code",
      "execution_count": null,
      "metadata": {
        "id": "xtquG-K1TaJL",
        "outputId": "17b86bfb-c052-4c8b-c54c-3e1dd6c099cc"
      },
      "outputs": [
        {
          "data": {
            "text/plain": [
              "<AxesSubplot:xlabel='workclass', ylabel='count'>"
            ]
          },
          "execution_count": 23,
          "metadata": {},
          "output_type": "execute_result"
        },
        {
          "data": {
            "image/png": "[encoded data removed]",
            "text/plain": [
              "<Figure size 300x400 with 1 Axes>"
            ]
          },
          "metadata": {},
          "output_type": "display_data"
        }
      ],
      "source": [
        "# visualize workclass == ? by occupation\n",
        "occupation2 = df_filtered2[df_filtered2['occupation'] == '?']\n",
        "# visualize occupation == ? by occupation\n",
        "plt.figure(figsize=(3,4))\n",
        "sns.countplot(x='workclass', data=occupation2)"
      ]
    },
    {
      "cell_type": "code",
      "execution_count": null,
      "metadata": {
        "id": "-Z7I9TvVTaJL",
        "outputId": "a5afa65f-b088-4e57-bbf7-e5aaed301de0"
      },
      "outputs": [
        {
          "data": {
            "text/plain": [
              "<AxesSubplot:xlabel='education_num', ylabel='count'>"
            ]
          },
          "execution_count": 24,
          "metadata": {},
          "output_type": "execute_result"
        },
        {
          "data": {
            "image/png": "[encoded data removed]",
            "text/plain": [
              "<Figure size 1500x500 with 1 Axes>"
            ]
          },
          "metadata": {},
          "output_type": "display_data"
        }
      ],
      "source": [
        "plt.figure(figsize=(15,5))\n",
        "sns.countplot(x='education_num', data=workclass2)"
      ]
    },
    {
      "cell_type": "code",
      "execution_count": null,
      "metadata": {
        "id": "YOV0K2qqTaJM",
        "outputId": "c053782b-fde8-436d-b329-a61ca34035e5"
      },
      "outputs": [
        {
          "data": {
            "text/plain": [
              "<AxesSubplot:xlabel='education_num', ylabel='count'>"
            ]
          },
          "execution_count": 25,
          "metadata": {},
          "output_type": "execute_result"
        },
        {
          "data": {
            "image/png": "[encoded data removed]",
            "text/plain": [
              "<Figure size 1500x500 with 1 Axes>"
            ]
          },
          "metadata": {},
          "output_type": "display_data"
        }
      ],
      "source": [
        "plt.figure(figsize=(15,5))\n",
        "sns.countplot(x='education_num', data=occupation2)"
      ]
    },
    {
      "cell_type": "code",
      "execution_count": null,
      "metadata": {
        "id": "0-RYvAObTaJM",
        "outputId": "6f5ea964-d8bb-42f1-fc2d-dd22cd8f08e5"
      },
      "outputs": [
        {
          "data": {
            "text/plain": [
              "'Private'"
            ]
          },
          "execution_count": 26,
          "metadata": {},
          "output_type": "execute_result"
        }
      ],
      "source": [
        "df_filtered2['workclass'].mode()[0]"
      ]
    },
    {
      "cell_type": "code",
      "execution_count": null,
      "metadata": {
        "id": "wYvKgoedTaJs",
        "outputId": "3882b8f8-2257-4718-cac6-4b5b9c2dd294"
      },
      "outputs": [
        {
          "data": {
            "text/plain": [
              "'Exec-managerial'"
            ]
          },
          "execution_count": 27,
          "metadata": {},
          "output_type": "execute_result"
        }
      ],
      "source": [
        "df_filtered2['occupation'].mode()[0]"
      ]
    },
    {
      "cell_type": "code",
      "execution_count": null,
      "metadata": {
        "id": "RlXbfTb7TaJ2"
      },
      "outputs": [],
      "source": [
        "df.loc[(df['workclass'] == '?') & (df['income'] == 2), 'workclass'] = 'Private'\n",
        "df.loc[(df['occupation'] == '?') & (df['income'] == 2), 'occupation'] = 'Exec-managerial'"
      ]
    },
    {
      "cell_type": "code",
      "execution_count": null,
      "metadata": {
        "id": "v5c2UR_pTaJ3",
        "outputId": "38eedf15-b1ac-4897-ae47-a723629838a1"
      },
      "outputs": [
        {
          "data": {
            "text/plain": [
              "<AxesSubplot:xlabel='race', ylabel='count'>"
            ]
          },
          "execution_count": 29,
          "metadata": {},
          "output_type": "execute_result"
        },
        {
          "data": {
            "image/png": "[encoded data removed]",
            "text/plain": [
              "<Figure size 1000x500 with 1 Axes>"
            ]
          },
          "metadata": {},
          "output_type": "display_data"
        }
      ],
      "source": [
        "# visualize workclass == ? by occupation\n",
        "country = df_filtered1[df_filtered1['native_country'] == '?']\n",
        "# visualize occupation == ? by occupation\n",
        "plt.figure(figsize=(10,5))\n",
        "sns.countplot(x='race', data=country)"
      ]
    },
    {
      "cell_type": "code",
      "execution_count": null,
      "metadata": {
        "id": "xqzk59__TaJ3",
        "outputId": "92358f09-100a-451a-f6a1-df3c1f1a12d8"
      },
      "outputs": [
        {
          "data": {
            "text/plain": [
              "<AxesSubplot:xlabel='race', ylabel='count'>"
            ]
          },
          "execution_count": 30,
          "metadata": {},
          "output_type": "execute_result"
        },
        {
          "data": {
            "image/png": "[encoded data removed]",
            "text/plain": [
              "<Figure size 1500x500 with 1 Axes>"
            ]
          },
          "metadata": {},
          "output_type": "display_data"
        }
      ],
      "source": [
        "plt.figure(figsize=(15,5))\n",
        "sns.countplot(x='race', hue = 'native_country',data=df_filtered1)"
      ]
    },
    {
      "cell_type": "code",
      "execution_count": null,
      "metadata": {
        "id": "j5TLCfIITaJ4",
        "outputId": "f6613488-5f10-4364-8bf2-e6eb82f294a3"
      },
      "outputs": [
        {
          "data": {
            "text/plain": [
              "<AxesSubplot:xlabel='race', ylabel='count'>"
            ]
          },
          "execution_count": 31,
          "metadata": {},
          "output_type": "execute_result"
        },
        {
          "data": {
            "image/png": "[encoded data removed]",
            "text/plain": [
              "<Figure size 1000x500 with 1 Axes>"
            ]
          },
          "metadata": {},
          "output_type": "display_data"
        }
      ],
      "source": [
        "# visualize workclass == ? by occupation\n",
        "country2 = df_filtered2[df_filtered2['native_country'] == '?']\n",
        "# visualize occupation == ? by occupation\n",
        "plt.figure(figsize=(10,5))\n",
        "sns.countplot(x='race', data=country2)"
      ]
    },
    {
      "cell_type": "code",
      "execution_count": null,
      "metadata": {
        "id": "mRzkXJ0bTaJ4",
        "outputId": "ac0ad730-a624-413b-f454-24d96bd0790b"
      },
      "outputs": [
        {
          "data": {
            "text/plain": [
              "<AxesSubplot:xlabel='race', ylabel='count'>"
            ]
          },
          "execution_count": 32,
          "metadata": {},
          "output_type": "execute_result"
        },
        {
          "data": {
            "image/png": "[encoded data removed]",
            "text/plain": [
              "<Figure size 1500x500 with 1 Axes>"
            ]
          },
          "metadata": {},
          "output_type": "display_data"
        }
      ],
      "source": [
        "plt.figure(figsize=(15,5))\n",
        "sns.countplot(x='race', hue = 'native_country',data=df_filtered2)"
      ]
    },
    {
      "cell_type": "code",
      "execution_count": null,
      "metadata": {
        "id": "gjQ2JKw4TaKM"
      },
      "outputs": [],
      "source": [
        "df.loc[(df['native_country'] == '?') & (df['income'] == 1), 'native_country'] = 'United-States'\n",
        "df.loc[(df['native_country'] == '?') & (df['income'] == 2), 'native_country'] = 'United-States'"
      ]
    },
    {
      "cell_type": "markdown",
      "metadata": {
        "id": "BFHchnhavr_k"
      },
      "source": [
        "Mengubah tiap data yang berisi '?' dengan 'NULL' untuk diisi missing value"
      ]
    },
    {
      "cell_type": "code",
      "execution_count": null,
      "metadata": {
        "id": "Y-Ql4kG0vrhE"
      },
      "outputs": [],
      "source": [
        "df.replace('?', np.nan, inplace=True)"
      ]
    },
    {
      "cell_type": "markdown",
      "metadata": {
        "id": "EIJ9kChGvadC"
      },
      "source": [
        "Mengisi missing value berdasarkan modus variabel tersebut dari tiap label"
      ]
    },
    {
      "cell_type": "markdown",
      "metadata": {
        "id": "jY3byLv0wgWN"
      },
      "source": [
        "Cek missing value lagi"
      ]
    },
    {
      "cell_type": "code",
      "execution_count": null,
      "metadata": {
        "colab": {
          "base_uri": "https://localhost:8080/"
        },
        "id": "mPX3d3Ajwh6y",
        "outputId": "e2611804-6bf2-4e86-b59f-c84696595304"
      },
      "outputs": [
        {
          "data": {
            "text/plain": [
              "age               0\n",
              "workclass         0\n",
              "fnlwft            0\n",
              "education         0\n",
              "education_num     0\n",
              "marital_status    0\n",
              "occupation        0\n",
              "relationship      0\n",
              "race              0\n",
              "sex               0\n",
              "capital_gain      0\n",
              "capital_loss      0\n",
              "hours-per-week    0\n",
              "native_country    0\n",
              "income            0\n",
              "dtype: int64"
            ]
          },
          "execution_count": 35,
          "metadata": {},
          "output_type": "execute_result"
        }
      ],
      "source": [
        "df.isna().sum()"
      ]
    },
    {
      "cell_type": "code",
      "execution_count": null,
      "metadata": {
        "id": "0J2UfYTaTaNH"
      },
      "outputs": [],
      "source": [
        "df = df.drop('education', axis =1)"
      ]
    },
    {
      "cell_type": "markdown",
      "metadata": {
        "id": "6AHWrjhyyTGL"
      },
      "source": [
        "Sudah tidak ada missing value yey"
      ]
    },
    {
      "cell_type": "markdown",
      "metadata": {
        "id": "nDMAl94bq0eV"
      },
      "source": [
        "Melihat variabel numerik"
      ]
    },
    {
      "cell_type": "code",
      "execution_count": null,
      "metadata": {
        "colab": {
          "base_uri": "https://localhost:8080/"
        },
        "id": "PapC7jR1q2rs",
        "outputId": "0ce5c19a-2fac-4d20-80ff-1929a6e431c1"
      },
      "outputs": [
        {
          "data": {
            "text/plain": [
              "['age',\n",
              " 'fnlwft',\n",
              " 'education_num',\n",
              " 'capital_gain',\n",
              " 'capital_loss',\n",
              " 'hours-per-week']"
            ]
          },
          "execution_count": 37,
          "metadata": {},
          "output_type": "execute_result"
        }
      ],
      "source": [
        "# Define numerical columns\n",
        "numerical_cols = [cname for cname in df.columns if df[cname].dtype in ['int64', 'float64'] and cname != 'income']\n",
        "# Checking the numerical columns\n",
        "numerical_cols"
      ]
    },
    {
      "cell_type": "code",
      "execution_count": null,
      "metadata": {
        "id": "84p2I3ijTaN0"
      },
      "outputs": [],
      "source": [
        "df['diff_capital'] = df['capital_gain'] - df['capital_loss']"
      ]
    },
    {
      "cell_type": "code",
      "execution_count": null,
      "metadata": {
        "id": "zm_ZmwbDTaN3",
        "outputId": "46d58d14-bcc5-489b-d99d-554b9e8bfe6b"
      },
      "outputs": [
        {
          "data": {
            "text/plain": [
              "income            1.000000\n",
              "education_num     0.332613\n",
              "age               0.230369\n",
              "hours-per-week    0.227687\n",
              "capital_gain      0.223013\n",
              "diff_capital      0.214356\n",
              "capital_loss      0.147554\n",
              "fnlwft           -0.006339\n",
              "Name: income, dtype: float64"
            ]
          },
          "execution_count": 39,
          "metadata": {},
          "output_type": "execute_result"
        }
      ],
      "source": [
        "df.corr()['income'].sort_values(ascending=False)"
      ]
    },
    {
      "cell_type": "code",
      "execution_count": null,
      "metadata": {
        "id": "wB4u_RhGTaN4"
      },
      "outputs": [],
      "source": [
        "df = df.drop('fnlwft', axis=1)"
      ]
    },
    {
      "cell_type": "markdown",
      "metadata": {
        "id": "rpwYzJrsq7Ys"
      },
      "source": [
        "Membuat dummy variable, yakni mengubah variabel kategorik menjadi numerik dengan OHE"
      ]
    },
    {
      "cell_type": "code",
      "execution_count": null,
      "metadata": {
        "id": "E8sjjLPE4RvK"
      },
      "outputs": [],
      "source": [
        "# One hot encoding for categorical columns\n",
        "OR_encoder = OneHotEncoder()\n",
        "# Fit and transform the categorical columns\n",
        "categorical_cols = [cname for cname in df.columns if df[cname].dtype == \"object\"]\n",
        "df_cat_encoded = OR_encoder.fit_transform(df[categorical_cols])\n",
        "# Assign to dfframe\n",
        "df_cat_encoded = pd.DataFrame(df_cat_encoded.toarray(), columns=OR_encoder.get_feature_names_out(categorical_cols))"
      ]
    },
    {
      "cell_type": "code",
      "execution_count": null,
      "metadata": {
        "id": "lSZQQMKDTaY-"
      },
      "outputs": [],
      "source": [
        "numerical_cols = [cname for cname in df.columns if df[cname].dtype in ['int64', 'float64'] and cname != 'income']"
      ]
    },
    {
      "cell_type": "code",
      "execution_count": null,
      "metadata": {
        "colab": {
          "base_uri": "https://localhost:8080/",
          "height": 334
        },
        "id": "TBmmiPVg4Umh",
        "outputId": "ccabb49f-37fe-409a-f791-5c7d052ff740"
      },
      "outputs": [
        {
          "data": {
            "text/html": [
              "<div>\n",
              "<style scoped>\n",
              "    .dataframe tbody tr th:only-of-type {\n",
              "        vertical-align: middle;\n",
              "    }\n",
              "\n",
              "    .dataframe tbody tr th {\n",
              "        vertical-align: top;\n",
              "    }\n",
              "\n",
              "    .dataframe thead th {\n",
              "        text-align: right;\n",
              "    }\n",
              "</style>\n",
              "<table border=\"1\" class=\"dataframe\">\n",
              "  <thead>\n",
              "    <tr style=\"text-align: right;\">\n",
              "      <th></th>\n",
              "      <th>age</th>\n",
              "      <th>education_num</th>\n",
              "      <th>capital_gain</th>\n",
              "      <th>capital_loss</th>\n",
              "      <th>hours-per-week</th>\n",
              "      <th>diff_capital</th>\n",
              "      <th>workclass_Federal-gov</th>\n",
              "      <th>workclass_Local-gov</th>\n",
              "      <th>workclass_Never-worked</th>\n",
              "      <th>workclass_Private</th>\n",
              "      <th>...</th>\n",
              "      <th>native_country_Portugal</th>\n",
              "      <th>native_country_Puerto-Rico</th>\n",
              "      <th>native_country_Scotland</th>\n",
              "      <th>native_country_South</th>\n",
              "      <th>native_country_Taiwan</th>\n",
              "      <th>native_country_Thailand</th>\n",
              "      <th>native_country_Trinadad&amp;Tobago</th>\n",
              "      <th>native_country_United-States</th>\n",
              "      <th>native_country_Vietnam</th>\n",
              "      <th>native_country_Yugoslavia</th>\n",
              "    </tr>\n",
              "  </thead>\n",
              "  <tbody>\n",
              "    <tr>\n",
              "      <th>0</th>\n",
              "      <td>39</td>\n",
              "      <td>13</td>\n",
              "      <td>2174</td>\n",
              "      <td>0</td>\n",
              "      <td>40</td>\n",
              "      <td>2174</td>\n",
              "      <td>0.0</td>\n",
              "      <td>0.0</td>\n",
              "      <td>0.0</td>\n",
              "      <td>0.0</td>\n",
              "      <td>...</td>\n",
              "      <td>0.0</td>\n",
              "      <td>0.0</td>\n",
              "      <td>0.0</td>\n",
              "      <td>0.0</td>\n",
              "      <td>0.0</td>\n",
              "      <td>0.0</td>\n",
              "      <td>0.0</td>\n",
              "      <td>1.0</td>\n",
              "      <td>0.0</td>\n",
              "      <td>0.0</td>\n",
              "    </tr>\n",
              "    <tr>\n",
              "      <th>1</th>\n",
              "      <td>50</td>\n",
              "      <td>13</td>\n",
              "      <td>0</td>\n",
              "      <td>0</td>\n",
              "      <td>13</td>\n",
              "      <td>0</td>\n",
              "      <td>0.0</td>\n",
              "      <td>0.0</td>\n",
              "      <td>0.0</td>\n",
              "      <td>0.0</td>\n",
              "      <td>...</td>\n",
              "      <td>0.0</td>\n",
              "      <td>0.0</td>\n",
              "      <td>0.0</td>\n",
              "      <td>0.0</td>\n",
              "      <td>0.0</td>\n",
              "      <td>0.0</td>\n",
              "      <td>0.0</td>\n",
              "      <td>1.0</td>\n",
              "      <td>0.0</td>\n",
              "      <td>0.0</td>\n",
              "    </tr>\n",
              "    <tr>\n",
              "      <th>2</th>\n",
              "      <td>38</td>\n",
              "      <td>9</td>\n",
              "      <td>0</td>\n",
              "      <td>0</td>\n",
              "      <td>40</td>\n",
              "      <td>0</td>\n",
              "      <td>0.0</td>\n",
              "      <td>0.0</td>\n",
              "      <td>0.0</td>\n",
              "      <td>1.0</td>\n",
              "      <td>...</td>\n",
              "      <td>0.0</td>\n",
              "      <td>0.0</td>\n",
              "      <td>0.0</td>\n",
              "      <td>0.0</td>\n",
              "      <td>0.0</td>\n",
              "      <td>0.0</td>\n",
              "      <td>0.0</td>\n",
              "      <td>1.0</td>\n",
              "      <td>0.0</td>\n",
              "      <td>0.0</td>\n",
              "    </tr>\n",
              "    <tr>\n",
              "      <th>3</th>\n",
              "      <td>53</td>\n",
              "      <td>7</td>\n",
              "      <td>0</td>\n",
              "      <td>0</td>\n",
              "      <td>40</td>\n",
              "      <td>0</td>\n",
              "      <td>0.0</td>\n",
              "      <td>0.0</td>\n",
              "      <td>0.0</td>\n",
              "      <td>1.0</td>\n",
              "      <td>...</td>\n",
              "      <td>0.0</td>\n",
              "      <td>0.0</td>\n",
              "      <td>0.0</td>\n",
              "      <td>0.0</td>\n",
              "      <td>0.0</td>\n",
              "      <td>0.0</td>\n",
              "      <td>0.0</td>\n",
              "      <td>1.0</td>\n",
              "      <td>0.0</td>\n",
              "      <td>0.0</td>\n",
              "    </tr>\n",
              "    <tr>\n",
              "      <th>4</th>\n",
              "      <td>28</td>\n",
              "      <td>13</td>\n",
              "      <td>0</td>\n",
              "      <td>0</td>\n",
              "      <td>40</td>\n",
              "      <td>0</td>\n",
              "      <td>0.0</td>\n",
              "      <td>0.0</td>\n",
              "      <td>0.0</td>\n",
              "      <td>1.0</td>\n",
              "      <td>...</td>\n",
              "      <td>0.0</td>\n",
              "      <td>0.0</td>\n",
              "      <td>0.0</td>\n",
              "      <td>0.0</td>\n",
              "      <td>0.0</td>\n",
              "      <td>0.0</td>\n",
              "      <td>0.0</td>\n",
              "      <td>0.0</td>\n",
              "      <td>0.0</td>\n",
              "      <td>0.0</td>\n",
              "    </tr>\n",
              "  </tbody>\n",
              "</table>\n",
              "<p>5 rows × 90 columns</p>\n",
              "</div>"
            ],
            "text/plain": [
              "   age  education_num  capital_gain  capital_loss  hours-per-week  \\\n",
              "0   39             13          2174             0              40   \n",
              "1   50             13             0             0              13   \n",
              "2   38              9             0             0              40   \n",
              "3   53              7             0             0              40   \n",
              "4   28             13             0             0              40   \n",
              "\n",
              "   diff_capital  workclass_Federal-gov  workclass_Local-gov  \\\n",
              "0          2174                    0.0                  0.0   \n",
              "1             0                    0.0                  0.0   \n",
              "2             0                    0.0                  0.0   \n",
              "3             0                    0.0                  0.0   \n",
              "4             0                    0.0                  0.0   \n",
              "\n",
              "   workclass_Never-worked  workclass_Private  ...  native_country_Portugal  \\\n",
              "0                     0.0                0.0  ...                      0.0   \n",
              "1                     0.0                0.0  ...                      0.0   \n",
              "2                     0.0                1.0  ...                      0.0   \n",
              "3                     0.0                1.0  ...                      0.0   \n",
              "4                     0.0                1.0  ...                      0.0   \n",
              "\n",
              "   native_country_Puerto-Rico  native_country_Scotland  native_country_South  \\\n",
              "0                         0.0                      0.0                   0.0   \n",
              "1                         0.0                      0.0                   0.0   \n",
              "2                         0.0                      0.0                   0.0   \n",
              "3                         0.0                      0.0                   0.0   \n",
              "4                         0.0                      0.0                   0.0   \n",
              "\n",
              "   native_country_Taiwan  native_country_Thailand  \\\n",
              "0                    0.0                      0.0   \n",
              "1                    0.0                      0.0   \n",
              "2                    0.0                      0.0   \n",
              "3                    0.0                      0.0   \n",
              "4                    0.0                      0.0   \n",
              "\n",
              "   native_country_Trinadad&Tobago  native_country_United-States  \\\n",
              "0                             0.0                           1.0   \n",
              "1                             0.0                           1.0   \n",
              "2                             0.0                           1.0   \n",
              "3                             0.0                           1.0   \n",
              "4                             0.0                           0.0   \n",
              "\n",
              "   native_country_Vietnam  native_country_Yugoslavia  \n",
              "0                     0.0                        0.0  \n",
              "1                     0.0                        0.0  \n",
              "2                     0.0                        0.0  \n",
              "3                     0.0                        0.0  \n",
              "4                     0.0                        0.0  \n",
              "\n",
              "[5 rows x 90 columns]"
            ]
          },
          "execution_count": 43,
          "metadata": {},
          "output_type": "execute_result"
        }
      ],
      "source": [
        "# Joining the numerical and categorical dfframes\n",
        "df_encoded = pd.concat([df[numerical_cols], df_cat_encoded], axis=1)\n",
        "\n",
        "# Check the result\n",
        "df_encoded.head()"
      ]
    },
    {
      "cell_type": "code",
      "execution_count": null,
      "metadata": {
        "id": "0bI8Vxn8TaZC"
      },
      "outputs": [],
      "source": [
        "df_encoded = pd.concat([df_encoded, df['income']], axis=1)"
      ]
    },
    {
      "cell_type": "code",
      "execution_count": null,
      "metadata": {
        "id": "NNHsXH8hTaZF",
        "outputId": "1d4b32f4-b76c-4a9b-ebe9-4c758d0ccc4f"
      },
      "outputs": [
        {
          "data": {
            "text/plain": [
              "\"# get feaatures with correlastion more than 0.05\\ncorrelation = df_encoded.corr()\\ncorrelation = correlation['income'].sort_values(ascending=False, key=abs)\\nfeatures1 = correlation[correlation > 0.1].index\\nfeatures2 = correlation[correlation < -0.1].index\""
            ]
          },
          "execution_count": 45,
          "metadata": {},
          "output_type": "execute_result"
        }
      ],
      "source": [
        "\"\"\"# get feaatures with correlastion more than 0.05\n",
        "correlation = df_encoded.corr()\n",
        "correlation = correlation['income'].sort_values(ascending=False, key=abs)\n",
        "features1 = correlation[correlation > 0.1].index\n",
        "features2 = correlation[correlation < -0.1].index\"\"\""
      ]
    },
    {
      "cell_type": "code",
      "execution_count": null,
      "metadata": {
        "id": "LpRgQupxTaZG",
        "outputId": "d697dbb9-3374-440f-9096-c3654b5451ba"
      },
      "outputs": [
        {
          "data": {
            "text/plain": [
              "'features = features1.append(features2)\\nfeatures'"
            ]
          },
          "execution_count": 46,
          "metadata": {},
          "output_type": "execute_result"
        }
      ],
      "source": [
        "\"\"\"features = features1.append(features2)\n",
        "features\"\"\""
      ]
    },
    {
      "cell_type": "markdown",
      "metadata": {
        "id": "7JsgdblSTaZG"
      },
      "source": [
        "Splitting Data"
      ]
    },
    {
      "cell_type": "code",
      "execution_count": null,
      "metadata": {
        "id": "kx8mmrdvTaaS"
      },
      "outputs": [],
      "source": [
        "y = df.income\n",
        "X = df_encoded.drop('income', axis=1)"
      ]
    },
    {
      "cell_type": "code",
      "execution_count": null,
      "metadata": {
        "id": "31hGDHtvTaaT",
        "outputId": "7f19d079-ab90-4a70-f4a0-aa9050715fe5"
      },
      "outputs": [
        {
          "data": {
            "text/html": [
              "<div>\n",
              "<style scoped>\n",
              "    .dataframe tbody tr th:only-of-type {\n",
              "        vertical-align: middle;\n",
              "    }\n",
              "\n",
              "    .dataframe tbody tr th {\n",
              "        vertical-align: top;\n",
              "    }\n",
              "\n",
              "    .dataframe thead th {\n",
              "        text-align: right;\n",
              "    }\n",
              "</style>\n",
              "<table border=\"1\" class=\"dataframe\">\n",
              "  <thead>\n",
              "    <tr style=\"text-align: right;\">\n",
              "      <th></th>\n",
              "      <th>age</th>\n",
              "      <th>education_num</th>\n",
              "      <th>capital_gain</th>\n",
              "      <th>capital_loss</th>\n",
              "      <th>hours-per-week</th>\n",
              "      <th>diff_capital</th>\n",
              "      <th>workclass_Federal-gov</th>\n",
              "      <th>workclass_Local-gov</th>\n",
              "      <th>workclass_Never-worked</th>\n",
              "      <th>workclass_Private</th>\n",
              "      <th>...</th>\n",
              "      <th>native_country_Puerto-Rico</th>\n",
              "      <th>native_country_Scotland</th>\n",
              "      <th>native_country_South</th>\n",
              "      <th>native_country_Taiwan</th>\n",
              "      <th>native_country_Thailand</th>\n",
              "      <th>native_country_Trinadad&amp;Tobago</th>\n",
              "      <th>native_country_United-States</th>\n",
              "      <th>native_country_Vietnam</th>\n",
              "      <th>native_country_Yugoslavia</th>\n",
              "      <th>income</th>\n",
              "    </tr>\n",
              "  </thead>\n",
              "  <tbody>\n",
              "    <tr>\n",
              "      <th>0</th>\n",
              "      <td>39</td>\n",
              "      <td>13</td>\n",
              "      <td>2174</td>\n",
              "      <td>0</td>\n",
              "      <td>40</td>\n",
              "      <td>2174</td>\n",
              "      <td>0.0</td>\n",
              "      <td>0.0</td>\n",
              "      <td>0.0</td>\n",
              "      <td>0.0</td>\n",
              "      <td>...</td>\n",
              "      <td>0.0</td>\n",
              "      <td>0.0</td>\n",
              "      <td>0.0</td>\n",
              "      <td>0.0</td>\n",
              "      <td>0.0</td>\n",
              "      <td>0.0</td>\n",
              "      <td>1.0</td>\n",
              "      <td>0.0</td>\n",
              "      <td>0.0</td>\n",
              "      <td>1</td>\n",
              "    </tr>\n",
              "    <tr>\n",
              "      <th>1</th>\n",
              "      <td>50</td>\n",
              "      <td>13</td>\n",
              "      <td>0</td>\n",
              "      <td>0</td>\n",
              "      <td>13</td>\n",
              "      <td>0</td>\n",
              "      <td>0.0</td>\n",
              "      <td>0.0</td>\n",
              "      <td>0.0</td>\n",
              "      <td>0.0</td>\n",
              "      <td>...</td>\n",
              "      <td>0.0</td>\n",
              "      <td>0.0</td>\n",
              "      <td>0.0</td>\n",
              "      <td>0.0</td>\n",
              "      <td>0.0</td>\n",
              "      <td>0.0</td>\n",
              "      <td>1.0</td>\n",
              "      <td>0.0</td>\n",
              "      <td>0.0</td>\n",
              "      <td>1</td>\n",
              "    </tr>\n",
              "    <tr>\n",
              "      <th>2</th>\n",
              "      <td>38</td>\n",
              "      <td>9</td>\n",
              "      <td>0</td>\n",
              "      <td>0</td>\n",
              "      <td>40</td>\n",
              "      <td>0</td>\n",
              "      <td>0.0</td>\n",
              "      <td>0.0</td>\n",
              "      <td>0.0</td>\n",
              "      <td>1.0</td>\n",
              "      <td>...</td>\n",
              "      <td>0.0</td>\n",
              "      <td>0.0</td>\n",
              "      <td>0.0</td>\n",
              "      <td>0.0</td>\n",
              "      <td>0.0</td>\n",
              "      <td>0.0</td>\n",
              "      <td>1.0</td>\n",
              "      <td>0.0</td>\n",
              "      <td>0.0</td>\n",
              "      <td>1</td>\n",
              "    </tr>\n",
              "    <tr>\n",
              "      <th>3</th>\n",
              "      <td>53</td>\n",
              "      <td>7</td>\n",
              "      <td>0</td>\n",
              "      <td>0</td>\n",
              "      <td>40</td>\n",
              "      <td>0</td>\n",
              "      <td>0.0</td>\n",
              "      <td>0.0</td>\n",
              "      <td>0.0</td>\n",
              "      <td>1.0</td>\n",
              "      <td>...</td>\n",
              "      <td>0.0</td>\n",
              "      <td>0.0</td>\n",
              "      <td>0.0</td>\n",
              "      <td>0.0</td>\n",
              "      <td>0.0</td>\n",
              "      <td>0.0</td>\n",
              "      <td>1.0</td>\n",
              "      <td>0.0</td>\n",
              "      <td>0.0</td>\n",
              "      <td>1</td>\n",
              "    </tr>\n",
              "    <tr>\n",
              "      <th>4</th>\n",
              "      <td>28</td>\n",
              "      <td>13</td>\n",
              "      <td>0</td>\n",
              "      <td>0</td>\n",
              "      <td>40</td>\n",
              "      <td>0</td>\n",
              "      <td>0.0</td>\n",
              "      <td>0.0</td>\n",
              "      <td>0.0</td>\n",
              "      <td>1.0</td>\n",
              "      <td>...</td>\n",
              "      <td>0.0</td>\n",
              "      <td>0.0</td>\n",
              "      <td>0.0</td>\n",
              "      <td>0.0</td>\n",
              "      <td>0.0</td>\n",
              "      <td>0.0</td>\n",
              "      <td>0.0</td>\n",
              "      <td>0.0</td>\n",
              "      <td>0.0</td>\n",
              "      <td>1</td>\n",
              "    </tr>\n",
              "    <tr>\n",
              "      <th>...</th>\n",
              "      <td>...</td>\n",
              "      <td>...</td>\n",
              "      <td>...</td>\n",
              "      <td>...</td>\n",
              "      <td>...</td>\n",
              "      <td>...</td>\n",
              "      <td>...</td>\n",
              "      <td>...</td>\n",
              "      <td>...</td>\n",
              "      <td>...</td>\n",
              "      <td>...</td>\n",
              "      <td>...</td>\n",
              "      <td>...</td>\n",
              "      <td>...</td>\n",
              "      <td>...</td>\n",
              "      <td>...</td>\n",
              "      <td>...</td>\n",
              "      <td>...</td>\n",
              "      <td>...</td>\n",
              "      <td>...</td>\n",
              "      <td>...</td>\n",
              "    </tr>\n",
              "    <tr>\n",
              "      <th>48837</th>\n",
              "      <td>39</td>\n",
              "      <td>13</td>\n",
              "      <td>0</td>\n",
              "      <td>0</td>\n",
              "      <td>36</td>\n",
              "      <td>0</td>\n",
              "      <td>0.0</td>\n",
              "      <td>0.0</td>\n",
              "      <td>0.0</td>\n",
              "      <td>1.0</td>\n",
              "      <td>...</td>\n",
              "      <td>0.0</td>\n",
              "      <td>0.0</td>\n",
              "      <td>0.0</td>\n",
              "      <td>0.0</td>\n",
              "      <td>0.0</td>\n",
              "      <td>0.0</td>\n",
              "      <td>1.0</td>\n",
              "      <td>0.0</td>\n",
              "      <td>0.0</td>\n",
              "      <td>1</td>\n",
              "    </tr>\n",
              "    <tr>\n",
              "      <th>48838</th>\n",
              "      <td>64</td>\n",
              "      <td>9</td>\n",
              "      <td>0</td>\n",
              "      <td>0</td>\n",
              "      <td>40</td>\n",
              "      <td>0</td>\n",
              "      <td>0.0</td>\n",
              "      <td>0.0</td>\n",
              "      <td>1.0</td>\n",
              "      <td>0.0</td>\n",
              "      <td>...</td>\n",
              "      <td>0.0</td>\n",
              "      <td>0.0</td>\n",
              "      <td>0.0</td>\n",
              "      <td>0.0</td>\n",
              "      <td>0.0</td>\n",
              "      <td>0.0</td>\n",
              "      <td>1.0</td>\n",
              "      <td>0.0</td>\n",
              "      <td>0.0</td>\n",
              "      <td>1</td>\n",
              "    </tr>\n",
              "    <tr>\n",
              "      <th>48839</th>\n",
              "      <td>38</td>\n",
              "      <td>13</td>\n",
              "      <td>0</td>\n",
              "      <td>0</td>\n",
              "      <td>50</td>\n",
              "      <td>0</td>\n",
              "      <td>0.0</td>\n",
              "      <td>0.0</td>\n",
              "      <td>0.0</td>\n",
              "      <td>1.0</td>\n",
              "      <td>...</td>\n",
              "      <td>0.0</td>\n",
              "      <td>0.0</td>\n",
              "      <td>0.0</td>\n",
              "      <td>0.0</td>\n",
              "      <td>0.0</td>\n",
              "      <td>0.0</td>\n",
              "      <td>1.0</td>\n",
              "      <td>0.0</td>\n",
              "      <td>0.0</td>\n",
              "      <td>1</td>\n",
              "    </tr>\n",
              "    <tr>\n",
              "      <th>48840</th>\n",
              "      <td>44</td>\n",
              "      <td>13</td>\n",
              "      <td>5455</td>\n",
              "      <td>0</td>\n",
              "      <td>40</td>\n",
              "      <td>5455</td>\n",
              "      <td>0.0</td>\n",
              "      <td>0.0</td>\n",
              "      <td>0.0</td>\n",
              "      <td>1.0</td>\n",
              "      <td>...</td>\n",
              "      <td>0.0</td>\n",
              "      <td>0.0</td>\n",
              "      <td>0.0</td>\n",
              "      <td>0.0</td>\n",
              "      <td>0.0</td>\n",
              "      <td>0.0</td>\n",
              "      <td>1.0</td>\n",
              "      <td>0.0</td>\n",
              "      <td>0.0</td>\n",
              "      <td>1</td>\n",
              "    </tr>\n",
              "    <tr>\n",
              "      <th>48841</th>\n",
              "      <td>35</td>\n",
              "      <td>13</td>\n",
              "      <td>0</td>\n",
              "      <td>0</td>\n",
              "      <td>60</td>\n",
              "      <td>0</td>\n",
              "      <td>0.0</td>\n",
              "      <td>0.0</td>\n",
              "      <td>0.0</td>\n",
              "      <td>0.0</td>\n",
              "      <td>...</td>\n",
              "      <td>0.0</td>\n",
              "      <td>0.0</td>\n",
              "      <td>0.0</td>\n",
              "      <td>0.0</td>\n",
              "      <td>0.0</td>\n",
              "      <td>0.0</td>\n",
              "      <td>1.0</td>\n",
              "      <td>0.0</td>\n",
              "      <td>0.0</td>\n",
              "      <td>2</td>\n",
              "    </tr>\n",
              "  </tbody>\n",
              "</table>\n",
              "<p>48842 rows × 91 columns</p>\n",
              "</div>"
            ],
            "text/plain": [
              "       age  education_num  capital_gain  capital_loss  hours-per-week  \\\n",
              "0       39             13          2174             0              40   \n",
              "1       50             13             0             0              13   \n",
              "2       38              9             0             0              40   \n",
              "3       53              7             0             0              40   \n",
              "4       28             13             0             0              40   \n",
              "...    ...            ...           ...           ...             ...   \n",
              "48837   39             13             0             0              36   \n",
              "48838   64              9             0             0              40   \n",
              "48839   38             13             0             0              50   \n",
              "48840   44             13          5455             0              40   \n",
              "48841   35             13             0             0              60   \n",
              "\n",
              "       diff_capital  workclass_Federal-gov  workclass_Local-gov  \\\n",
              "0              2174                    0.0                  0.0   \n",
              "1                 0                    0.0                  0.0   \n",
              "2                 0                    0.0                  0.0   \n",
              "3                 0                    0.0                  0.0   \n",
              "4                 0                    0.0                  0.0   \n",
              "...             ...                    ...                  ...   \n",
              "48837             0                    0.0                  0.0   \n",
              "48838             0                    0.0                  0.0   \n",
              "48839             0                    0.0                  0.0   \n",
              "48840          5455                    0.0                  0.0   \n",
              "48841             0                    0.0                  0.0   \n",
              "\n",
              "       workclass_Never-worked  workclass_Private  ...  \\\n",
              "0                         0.0                0.0  ...   \n",
              "1                         0.0                0.0  ...   \n",
              "2                         0.0                1.0  ...   \n",
              "3                         0.0                1.0  ...   \n",
              "4                         0.0                1.0  ...   \n",
              "...                       ...                ...  ...   \n",
              "48837                     0.0                1.0  ...   \n",
              "48838                     1.0                0.0  ...   \n",
              "48839                     0.0                1.0  ...   \n",
              "48840                     0.0                1.0  ...   \n",
              "48841                     0.0                0.0  ...   \n",
              "\n",
              "       native_country_Puerto-Rico  native_country_Scotland  \\\n",
              "0                             0.0                      0.0   \n",
              "1                             0.0                      0.0   \n",
              "2                             0.0                      0.0   \n",
              "3                             0.0                      0.0   \n",
              "4                             0.0                      0.0   \n",
              "...                           ...                      ...   \n",
              "48837                         0.0                      0.0   \n",
              "48838                         0.0                      0.0   \n",
              "48839                         0.0                      0.0   \n",
              "48840                         0.0                      0.0   \n",
              "48841                         0.0                      0.0   \n",
              "\n",
              "       native_country_South  native_country_Taiwan  native_country_Thailand  \\\n",
              "0                       0.0                    0.0                      0.0   \n",
              "1                       0.0                    0.0                      0.0   \n",
              "2                       0.0                    0.0                      0.0   \n",
              "3                       0.0                    0.0                      0.0   \n",
              "4                       0.0                    0.0                      0.0   \n",
              "...                     ...                    ...                      ...   \n",
              "48837                   0.0                    0.0                      0.0   \n",
              "48838                   0.0                    0.0                      0.0   \n",
              "48839                   0.0                    0.0                      0.0   \n",
              "48840                   0.0                    0.0                      0.0   \n",
              "48841                   0.0                    0.0                      0.0   \n",
              "\n",
              "       native_country_Trinadad&Tobago  native_country_United-States  \\\n",
              "0                                 0.0                           1.0   \n",
              "1                                 0.0                           1.0   \n",
              "2                                 0.0                           1.0   \n",
              "3                                 0.0                           1.0   \n",
              "4                                 0.0                           0.0   \n",
              "...                               ...                           ...   \n",
              "48837                             0.0                           1.0   \n",
              "48838                             0.0                           1.0   \n",
              "48839                             0.0                           1.0   \n",
              "48840                             0.0                           1.0   \n",
              "48841                             0.0                           1.0   \n",
              "\n",
              "       native_country_Vietnam  native_country_Yugoslavia  income  \n",
              "0                         0.0                        0.0       1  \n",
              "1                         0.0                        0.0       1  \n",
              "2                         0.0                        0.0       1  \n",
              "3                         0.0                        0.0       1  \n",
              "4                         0.0                        0.0       1  \n",
              "...                       ...                        ...     ...  \n",
              "48837                     0.0                        0.0       1  \n",
              "48838                     0.0                        0.0       1  \n",
              "48839                     0.0                        0.0       1  \n",
              "48840                     0.0                        0.0       1  \n",
              "48841                     0.0                        0.0       2  \n",
              "\n",
              "[48842 rows x 91 columns]"
            ]
          },
          "execution_count": 48,
          "metadata": {},
          "output_type": "execute_result"
        }
      ],
      "source": [
        "df_encoded#"
      ]
    },
    {
      "cell_type": "code",
      "execution_count": null,
      "metadata": {
        "id": "2qFR1qP6TaaU"
      },
      "outputs": [],
      "source": [
        "# Splitting the data into training and testing sets\n",
        "X_train, X_test, y_train, y_test = (train_test_split(X,y,test_size=0.3, stratify=y, random_state=50))"
      ]
    },
    {
      "cell_type": "markdown",
      "metadata": {
        "id": "f3a727N7FLfI"
      },
      "source": [
        "Melakukan standardisasi kepada data numerik"
      ]
    },
    {
      "cell_type": "code",
      "execution_count": null,
      "metadata": {
        "id": "DDiQXXJyG776",
        "outputId": "925fad0f-0018-424d-cf5d-6686d7e02daa"
      },
      "outputs": [
        {
          "data": {
            "text/plain": [
              "'from sklearn.preprocessing import StandardScaler\\n\\n# Membuat objek StandardScaler\\nscaler = StandardScaler().fit(X_train[numerical_cols])\\n\\n# Mengambil semua kolom numerik\\nnumeric_cols = X_train.select_dtypes(include=np.number).columns.tolist()\\n\\n# Melakukan scaling pada kolom numerik\\nX_train[numerical_cols] = scaler.transform(X_train[numerical_cols])\\nX_test[numerical_cols] = scaler.transform(X_test[numerical_cols])'"
            ]
          },
          "execution_count": 50,
          "metadata": {},
          "output_type": "execute_result"
        }
      ],
      "source": [
        "\"\"\"from sklearn.preprocessing import StandardScaler\n",
        "\n",
        "# Membuat objek StandardScaler\n",
        "scaler = StandardScaler().fit(X_train[numerical_cols])\n",
        "\n",
        "# Mengambil semua kolom numerik\n",
        "numeric_cols = X_train.select_dtypes(include=np.number).columns.tolist()\n",
        "\n",
        "# Melakukan scaling pada kolom numerik\n",
        "X_train[numerical_cols] = scaler.transform(X_train[numerical_cols])\n",
        "X_test[numerical_cols] = scaler.transform(X_test[numerical_cols])\"\"\""
      ]
    },
    {
      "cell_type": "markdown",
      "metadata": {
        "id": "_7X5I5BtTaaV"
      },
      "source": [
        "Melakukan SMOTE (Synthetic Minority Over-sampling Technique) pada data train sebab terjadi ketidakseimbangan jumlah label pada variabel respon, yakni label <=50K jauh lebih banyak daripada >50K"
      ]
    },
    {
      "cell_type": "code",
      "execution_count": null,
      "metadata": {
        "id": "5tHlO0PdTaaW",
        "outputId": "c3c15ef5-492a-477b-ba05-150adab21a3b"
      },
      "outputs": [
        {
          "data": {
            "text/plain": [
              "'from imblearn.under_sampling import RandomUnderSampler\\n# Balancing the training data using SMOTE\\nsmote = RandomUnderSampler(random_state=42)\\nX_train, y_train = smote.fit_resample(X_train, y_train)'"
            ]
          },
          "execution_count": 51,
          "metadata": {},
          "output_type": "execute_result"
        }
      ],
      "source": [
        "\"\"\"from imblearn.under_sampling import RandomUnderSampler\n",
        "# Balancing the training data using SMOTE\n",
        "smote = RandomUnderSampler(random_state=42)\n",
        "X_train, y_train = smote.fit_resample(X_train, y_train)\"\"\""
      ]
    },
    {
      "cell_type": "markdown",
      "metadata": {
        "id": "l8W-qqhpGQZs"
      },
      "source": [
        "Modelling dengan parameter terbaik berdasarkan GridsearchCV"
      ]
    },
    {
      "cell_type": "code",
      "execution_count": null,
      "metadata": {
        "id": "JaprJRmc41wF"
      },
      "outputs": [],
      "source": [
        "rf1 = RandomForestClassifier(n_estimators=200, random_state=42, max_features='sqrt', min_samples_leaf=2, min_samples_split=10)\n",
        "\n",
        "model = rf1.fit(X_train, y_train)\n"
      ]
    },
    {
      "cell_type": "code",
      "execution_count": null,
      "metadata": {
        "colab": {
          "base_uri": "https://localhost:8080/"
        },
        "id": "YFmEk6B_44We",
        "outputId": "1d1bad0c-20e5-47d1-80ed-494951558c4d"
      },
      "outputs": [
        {
          "name": "stdout",
          "output_type": "stream",
          "text": [
            "              precision    recall  f1-score   support\n",
            "\n",
            "           1       0.89      0.95      0.92     11147\n",
            "           2       0.79      0.62      0.69      3506\n",
            "\n",
            "    accuracy                           0.87     14653\n",
            "   macro avg       0.84      0.78      0.81     14653\n",
            "weighted avg       0.86      0.87      0.86     14653\n",
            "\n"
          ]
        }
      ],
      "source": [
        "# Predict the test set\n",
        "Y_pred = rf1.predict(X_test)\n",
        "\n",
        "# Check the classification report\n",
        "print(classification_report(y_test, Y_pred))"
      ]
    },
    {
      "cell_type": "markdown",
      "metadata": {
        "id": "26iJcUkcTaa4"
      },
      "source": [
        "Rangkuman dibawah sendiri"
      ]
    },
    {
      "cell_type": "markdown",
      "metadata": {
        "id": "uCA2ImowGc_b"
      },
      "source": [
        "Modelling dengan parameter terbaik berdasarkan RandomizedSearchCV"
      ]
    },
    {
      "cell_type": "code",
      "execution_count": null,
      "metadata": {
        "id": "CiyjarVbfGDN"
      },
      "outputs": [],
      "source": [
        "rf2 = RandomForestClassifier(n_estimators=190, random_state=42, max_features='sqrt', min_samples_leaf=1, min_samples_split=15, bootstrap=True)\n",
        "\n",
        "model = rf2.fit(X_train, y_train)\n"
      ]
    },
    {
      "cell_type": "code",
      "execution_count": null,
      "metadata": {
        "colab": {
          "base_uri": "https://localhost:8080/"
        },
        "id": "_lzE524hfeDy",
        "outputId": "23dc6b01-b015-489b-c642-04543aa855e7"
      },
      "outputs": [
        {
          "name": "stdout",
          "output_type": "stream",
          "text": [
            "              precision    recall  f1-score   support\n",
            "\n",
            "           1       0.89      0.94      0.91     11147\n",
            "           2       0.77      0.63      0.69      3506\n",
            "\n",
            "    accuracy                           0.87     14653\n",
            "   macro avg       0.83      0.78      0.80     14653\n",
            "weighted avg       0.86      0.87      0.86     14653\n",
            "\n"
          ]
        }
      ],
      "source": [
        "# Predict the test set\n",
        "Y_pred = rf2.predict(X_test)\n",
        "\n",
        "# Check the classification report\n",
        "print(classification_report(y_test, Y_pred))"
      ]
    },
    {
      "cell_type": "markdown",
      "metadata": {
        "id": "NZrpzmb2QY_K"
      },
      "source": [
        "Modelling dengan parameter terbaik berdasarkan Bayesian Optimization"
      ]
    },
    {
      "cell_type": "code",
      "execution_count": null,
      "metadata": {
        "id": "BynQkuCDQb2t"
      },
      "outputs": [],
      "source": [
        "rf3 = RandomForestClassifier(n_estimators=1000, random_state=42, max_features='sqrt', min_samples_leaf=1, min_samples_split=10,max_depth=10)\n",
        "\n",
        "model = rf3.fit(X_train, y_train)"
      ]
    },
    {
      "cell_type": "code",
      "execution_count": null,
      "metadata": {
        "colab": {
          "base_uri": "https://localhost:8080/"
        },
        "id": "fuxAm85dQzhW",
        "outputId": "39b9c933-51de-4cc8-ff24-94de0c5edc90"
      },
      "outputs": [
        {
          "name": "stdout",
          "output_type": "stream",
          "text": [
            "              precision    recall  f1-score   support\n",
            "\n",
            "           1       0.87      0.96      0.91     11147\n",
            "           2       0.81      0.55      0.66      3506\n",
            "\n",
            "    accuracy                           0.86     14653\n",
            "   macro avg       0.84      0.76      0.79     14653\n",
            "weighted avg       0.86      0.86      0.85     14653\n",
            "\n"
          ]
        }
      ],
      "source": [
        "# Predict the test set\n",
        "Y_pred = model.predict(X_test)\n",
        "\n",
        "# Check the classification report\n",
        "print(classification_report(y_test, Y_pred))"
      ]
    },
    {
      "cell_type": "markdown",
      "metadata": {
        "id": "EdPHzsqRGwG_"
      },
      "source": [
        "Intepretasi :\n",
        "Berdasarkan hasil hyperparameter tunning dengan metode GridSearchCV dan RandomizedSearchCV di atas, terlihat bahwa terjadi peningkatan nilai F1-Score berdasarkan macro avg sebesar 1%, Hal ini menunjukkan model menjadi semakin baik (improvement model). Sedangkan dengan menggunakan metode Bayesian Optimization malah terjadi penurunan F1-Score."
      ]
    },
    {
      "cell_type": "markdown",
      "metadata": {
        "id": "rynzwwQi5kws"
      },
      "source": [
        "Feature Importance"
      ]
    },
    {
      "cell_type": "markdown",
      "metadata": {
        "id": "AeKBbneOHFGW"
      },
      "source": [
        "Berdasarkan metode GridSearchCV"
      ]
    },
    {
      "cell_type": "code",
      "execution_count": null,
      "metadata": {
        "colab": {
          "base_uri": "https://localhost:8080/",
          "height": 424
        },
        "id": "O-76jtOZ5mKd",
        "outputId": "49b6099d-1e2a-41db-879f-4bb46aee29b5"
      },
      "outputs": [
        {
          "data": {
            "text/html": [
              "<div>\n",
              "<style scoped>\n",
              "    .dataframe tbody tr th:only-of-type {\n",
              "        vertical-align: middle;\n",
              "    }\n",
              "\n",
              "    .dataframe tbody tr th {\n",
              "        vertical-align: top;\n",
              "    }\n",
              "\n",
              "    .dataframe thead th {\n",
              "        text-align: right;\n",
              "    }\n",
              "</style>\n",
              "<table border=\"1\" class=\"dataframe\">\n",
              "  <thead>\n",
              "    <tr style=\"text-align: right;\">\n",
              "      <th></th>\n",
              "      <th>feature</th>\n",
              "      <th>importance</th>\n",
              "    </tr>\n",
              "  </thead>\n",
              "  <tbody>\n",
              "    <tr>\n",
              "      <th>0</th>\n",
              "      <td>marital_status_Married-civ-spouse</td>\n",
              "      <td>1.341351e-01</td>\n",
              "    </tr>\n",
              "    <tr>\n",
              "      <th>1</th>\n",
              "      <td>education_num</td>\n",
              "      <td>1.224269e-01</td>\n",
              "    </tr>\n",
              "    <tr>\n",
              "      <th>2</th>\n",
              "      <td>diff_capital</td>\n",
              "      <td>1.204109e-01</td>\n",
              "    </tr>\n",
              "    <tr>\n",
              "      <th>3</th>\n",
              "      <td>capital_gain</td>\n",
              "      <td>9.920074e-02</td>\n",
              "    </tr>\n",
              "    <tr>\n",
              "      <th>4</th>\n",
              "      <td>age</td>\n",
              "      <td>8.677966e-02</td>\n",
              "    </tr>\n",
              "    <tr>\n",
              "      <th>...</th>\n",
              "      <td>...</td>\n",
              "      <td>...</td>\n",
              "    </tr>\n",
              "    <tr>\n",
              "      <th>85</th>\n",
              "      <td>native_country_Hungary</td>\n",
              "      <td>1.056250e-05</td>\n",
              "    </tr>\n",
              "    <tr>\n",
              "      <th>86</th>\n",
              "      <td>native_country_Thailand</td>\n",
              "      <td>8.476933e-06</td>\n",
              "    </tr>\n",
              "    <tr>\n",
              "      <th>87</th>\n",
              "      <td>native_country_Outlying-US(Guam-USVI-etc)</td>\n",
              "      <td>8.074112e-06</td>\n",
              "    </tr>\n",
              "    <tr>\n",
              "      <th>88</th>\n",
              "      <td>native_country_Honduras</td>\n",
              "      <td>9.844883e-08</td>\n",
              "    </tr>\n",
              "    <tr>\n",
              "      <th>89</th>\n",
              "      <td>native_country_Holand-Netherlands</td>\n",
              "      <td>0.000000e+00</td>\n",
              "    </tr>\n",
              "  </tbody>\n",
              "</table>\n",
              "<p>90 rows × 2 columns</p>\n",
              "</div>"
            ],
            "text/plain": [
              "                                      feature    importance\n",
              "0           marital_status_Married-civ-spouse  1.341351e-01\n",
              "1                               education_num  1.224269e-01\n",
              "2                                diff_capital  1.204109e-01\n",
              "3                                capital_gain  9.920074e-02\n",
              "4                                         age  8.677966e-02\n",
              "..                                        ...           ...\n",
              "85                     native_country_Hungary  1.056250e-05\n",
              "86                    native_country_Thailand  8.476933e-06\n",
              "87  native_country_Outlying-US(Guam-USVI-etc)  8.074112e-06\n",
              "88                    native_country_Honduras  9.844883e-08\n",
              "89          native_country_Holand-Netherlands  0.000000e+00\n",
              "\n",
              "[90 rows x 2 columns]"
            ]
          },
          "execution_count": 58,
          "metadata": {},
          "output_type": "execute_result"
        }
      ],
      "source": [
        "# Feature importance\n",
        "feature_importance = pd.DataFrame({'feature': X_train.columns, 'importance': rf1.feature_importances_})\n",
        "feature_importance = feature_importance.sort_values('importance', ascending=False).reset_index(drop=True)\n",
        "feature_importance"
      ]
    },
    {
      "cell_type": "markdown",
      "metadata": {
        "id": "SkcpnVA_HIr1"
      },
      "source": [
        "Berdasarkan metode RandomizedSearchCV"
      ]
    },
    {
      "cell_type": "code",
      "execution_count": null,
      "metadata": {
        "colab": {
          "base_uri": "https://localhost:8080/",
          "height": 424
        },
        "id": "-b_NZq9RfCiH",
        "outputId": "b0ce852f-f4ff-4328-965c-d26a20235fa6"
      },
      "outputs": [
        {
          "data": {
            "text/html": [
              "<div>\n",
              "<style scoped>\n",
              "    .dataframe tbody tr th:only-of-type {\n",
              "        vertical-align: middle;\n",
              "    }\n",
              "\n",
              "    .dataframe tbody tr th {\n",
              "        vertical-align: top;\n",
              "    }\n",
              "\n",
              "    .dataframe thead th {\n",
              "        text-align: right;\n",
              "    }\n",
              "</style>\n",
              "<table border=\"1\" class=\"dataframe\">\n",
              "  <thead>\n",
              "    <tr style=\"text-align: right;\">\n",
              "      <th></th>\n",
              "      <th>feature</th>\n",
              "      <th>importance</th>\n",
              "    </tr>\n",
              "  </thead>\n",
              "  <tbody>\n",
              "    <tr>\n",
              "      <th>0</th>\n",
              "      <td>marital_status_Married-civ-spouse</td>\n",
              "      <td>1.341351e-01</td>\n",
              "    </tr>\n",
              "    <tr>\n",
              "      <th>1</th>\n",
              "      <td>education_num</td>\n",
              "      <td>1.224269e-01</td>\n",
              "    </tr>\n",
              "    <tr>\n",
              "      <th>2</th>\n",
              "      <td>diff_capital</td>\n",
              "      <td>1.204109e-01</td>\n",
              "    </tr>\n",
              "    <tr>\n",
              "      <th>3</th>\n",
              "      <td>capital_gain</td>\n",
              "      <td>9.920074e-02</td>\n",
              "    </tr>\n",
              "    <tr>\n",
              "      <th>4</th>\n",
              "      <td>age</td>\n",
              "      <td>8.677966e-02</td>\n",
              "    </tr>\n",
              "    <tr>\n",
              "      <th>...</th>\n",
              "      <td>...</td>\n",
              "      <td>...</td>\n",
              "    </tr>\n",
              "    <tr>\n",
              "      <th>85</th>\n",
              "      <td>native_country_Hungary</td>\n",
              "      <td>1.056250e-05</td>\n",
              "    </tr>\n",
              "    <tr>\n",
              "      <th>86</th>\n",
              "      <td>native_country_Thailand</td>\n",
              "      <td>8.476933e-06</td>\n",
              "    </tr>\n",
              "    <tr>\n",
              "      <th>87</th>\n",
              "      <td>native_country_Outlying-US(Guam-USVI-etc)</td>\n",
              "      <td>8.074112e-06</td>\n",
              "    </tr>\n",
              "    <tr>\n",
              "      <th>88</th>\n",
              "      <td>native_country_Honduras</td>\n",
              "      <td>9.844883e-08</td>\n",
              "    </tr>\n",
              "    <tr>\n",
              "      <th>89</th>\n",
              "      <td>native_country_Holand-Netherlands</td>\n",
              "      <td>0.000000e+00</td>\n",
              "    </tr>\n",
              "  </tbody>\n",
              "</table>\n",
              "<p>90 rows × 2 columns</p>\n",
              "</div>"
            ],
            "text/plain": [
              "                                      feature    importance\n",
              "0           marital_status_Married-civ-spouse  1.341351e-01\n",
              "1                               education_num  1.224269e-01\n",
              "2                                diff_capital  1.204109e-01\n",
              "3                                capital_gain  9.920074e-02\n",
              "4                                         age  8.677966e-02\n",
              "..                                        ...           ...\n",
              "85                     native_country_Hungary  1.056250e-05\n",
              "86                    native_country_Thailand  8.476933e-06\n",
              "87  native_country_Outlying-US(Guam-USVI-etc)  8.074112e-06\n",
              "88                    native_country_Honduras  9.844883e-08\n",
              "89          native_country_Holand-Netherlands  0.000000e+00\n",
              "\n",
              "[90 rows x 2 columns]"
            ]
          },
          "execution_count": 59,
          "metadata": {},
          "output_type": "execute_result"
        }
      ],
      "source": [
        "# Feature importance\n",
        "feature_importance2 = pd.DataFrame({'feature': X_train.columns, 'importance': rf2.feature_importances_})\n",
        "feature_importance2 = feature_importance.sort_values('importance', ascending=False).reset_index(drop=True)\n",
        "feature_importance2"
      ]
    },
    {
      "cell_type": "markdown",
      "metadata": {
        "id": "nTRV_iTBTabF"
      },
      "source": [
        "# Rangkuman\n",
        "1. Duplicate data tidak dihapus karena katanya kalo hapus baris, hapus yang data train aja. (aga ribet)\n",
        "2. Untuk Imputasi missing value (data == ?):\n",
        "    - Income <50:\n",
        "        * workclass = never-worked\n",
        "        * occupation = other (kategori baru)\n",
        "        * native_country = modus\n",
        "    - Income >50:\n",
        "        * workclass = modus\n",
        "        * occupation = modus\n",
        "        * native_country = modus\n",
        "3. drop kolom education, kita pakai yang education_num karena sama aja kayak labelencoder\n",
        "4. drop kolom fnlfgt karena korelasi jelek\n",
        "5. Bikin kolom diff_capital = capital_gain - capital_loss\n",
        "6. Encode OneHot kolom kategorik\n",
        "7. Percobaan kali ini no scaler no balancing. (karena dh naik, capekk huhu)"
      ]
    }
  ],
  "metadata": {
    "colab": {
      "provenance": [],
      "toc_visible": true
    },
    "kernelspec": {
      "display_name": "Python 3",
      "name": "python3"
    },
    "language_info": {
      "codemirror_mode": {
        "name": "ipython",
        "version": 3
      },
      "file_extension": ".py",
      "mimetype": "text/x-python",
      "name": "python",
      "nbconvert_exporter": "python",
      "pygments_lexer": "ipython3",
      "version": "3.9.13"
    }
  },
  "nbformat": 4,
  "nbformat_minor": 0
}